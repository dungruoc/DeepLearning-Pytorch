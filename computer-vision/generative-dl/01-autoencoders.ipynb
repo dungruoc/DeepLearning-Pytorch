{
 "cells": [
  {
   "cell_type": "markdown",
   "metadata": {},
   "source": [
    "# Autoencoder\n",
    "\n",
    "![AE](autoencoder.png)"
   ]
  },
  {
   "cell_type": "code",
   "execution_count": 1,
   "metadata": {},
   "outputs": [],
   "source": [
    "import torch\n",
    "import torch.nn as nn\n",
    "import torchvision\n",
    "from torchvision import transforms"
   ]
  },
  {
   "cell_type": "code",
   "execution_count": 3,
   "metadata": {},
   "outputs": [],
   "source": [
    "import pathlib\n",
    "mnist_root = f\"{pathlib.Path.home()}/Projects/AI-ML/datasets/mnist\""
   ]
  },
  {
   "cell_type": "code",
   "execution_count": 4,
   "metadata": {},
   "outputs": [],
   "source": [
    "batch_size = 128\n",
    "\n",
    "train_dataset = torchvision.datasets.MNIST(mnist_root, train=True, transform=transforms.ToTensor(), download=True)\n",
    "train_loader = torch.utils.data.DataLoader(dataset=train_dataset, batch_size=batch_size, shuffle=True)\n",
    "\n",
    "test_dataset = torchvision.datasets.MNIST(mnist_root, train=False, transform=transforms.ToTensor(), download=True)\n",
    "test_loader = torch.utils.data.DataLoader(dataset=test_dataset, batch_size=batch_size, shuffle=False)"
   ]
  },
  {
   "cell_type": "code",
   "execution_count": 28,
   "metadata": {},
   "outputs": [],
   "source": [
    "import torch.nn.functional as F\n",
    "\n",
    "class Encoder(nn.Module):\n",
    "\n",
    "    def __init__(self, input_size, hidden_size, latent_dim) -> None:\n",
    "        super().__init__()\n",
    "\n",
    "        self.fc1 = nn.Linear(in_features=input_size, out_features=hidden_size)\n",
    "        self.fc2 = nn.Linear(in_features=hidden_size, out_features=latent_dim)\n",
    "\n",
    "    def forward(self, x):\n",
    "        hidden = F.relu(self.fc1(x))\n",
    "        latent = self.fc2(hidden)\n",
    "        return latent\n",
    "\n",
    "class Decoder(nn.Module):\n",
    "\n",
    "    def __init__(self, latent_dim, hidden_size, output_size) -> None:\n",
    "        super().__init__()\n",
    "\n",
    "        self.fc1 = nn.Linear(in_features=latent_dim, out_features=hidden_size)\n",
    "        self.fc2 = nn.Linear(in_features=hidden_size, out_features=output_size)\n",
    "\n",
    "    def forward(self, x):\n",
    "        hidden = F.relu(self.fc1(x))\n",
    "        return torch.sigmoid(self.fc2(hidden))\n",
    "\n",
    "class VAE(nn.Module):\n",
    "\n",
    "    def __init__(self, input_size, hidden_size, latent_dim) -> None:\n",
    "        super().__init__()\n",
    "\n",
    "        self.encode = Encoder(input_size, hidden_size, latent_dim)\n",
    "        self.decode = Decoder(latent_dim, hidden_size, input_size)\n",
    "    \n",
    "    def forward(self, X):\n",
    "        latent = self.encode(X.view(X.size(0), -1)) # Flatten (batch_size, ...)\n",
    "        output = self.decode(latent)\n",
    "        return output, latent"
   ]
  },
  {
   "cell_type": "code",
   "execution_count": 29,
   "metadata": {},
   "outputs": [],
   "source": [
    "def loss_function(constructed, original):\n",
    "    return F.binary_cross_entropy(constructed, original.view(original.size(0), -1), reduction='sum')"
   ]
  },
  {
   "cell_type": "code",
   "execution_count": 34,
   "metadata": {},
   "outputs": [],
   "source": [
    "def train(epoch, model, optimizer, print_every=100):\n",
    "    model.train()\n",
    "    train_loss = 0.0\n",
    "    for i, (images, _) in enumerate(train_loader):\n",
    "        constructeds, latent = model(images)\n",
    "        loss = loss_function(constructeds, images)\n",
    "\n",
    "        optimizer.zero_grad()\n",
    "        loss.backward()\n",
    "        optimizer.step()\n",
    "\n",
    "        train_loss += loss.item()\n",
    "\n",
    "        if (i + 1) % print_every == 0:\n",
    "            print(f\"train epoch {epoch}, batch {i}/{len(train_loader)}, loss: {loss.item() / len(images):.3f}\")\n",
    "\n",
    "    train_loss /= len(train_dataset)\n",
    "    print(f\"====> Epoch {epoch}, average loss: {train_loss}\")\n",
    "    return train_loss\n"
   ]
  },
  {
   "cell_type": "code",
   "execution_count": 35,
   "metadata": {},
   "outputs": [],
   "source": [
    "def test(model, print_every):\n",
    "    model.eval()\n",
    "    with torch.no_grad():\n",
    "        test_loss = 0\n",
    "        for i, (images, _) in enumerate(test_loader):\n",
    "            constructeds, latent = model(images)\n",
    "            loss = loss_function(constructeds, images, latent)\n",
    "\n",
    "            test_loss += loss.item()\n",
    "\n",
    "            if (i + 1) % 100 == print_every:\n",
    "                print(f\"batch {i}/{len(test_loader)}, loss: {loss.item() / len(images):.3f}\")\n",
    "\n",
    "        test_loss /= len(test_dataset)\n",
    "        print(f\"====> average loss: {test_loss}\")\n",
    "\n"
   ]
  },
  {
   "cell_type": "code",
   "execution_count": 36,
   "metadata": {},
   "outputs": [],
   "source": [
    "image_size = 28 * 28\n",
    "hidden_size = 400\n",
    "latent_dim = 20\n",
    "n_epoches = 10\n",
    "\n",
    "model = VAE(image_size, hidden_size, latent_dim)\n",
    "optimizer = torch.optim.Adam(model.parameters(), lr=1e-3)"
   ]
  },
  {
   "cell_type": "code",
   "execution_count": 37,
   "metadata": {},
   "outputs": [
    {
     "name": "stdout",
     "output_type": "stream",
     "text": [
      "train epoch 0, batch 99/469, loss: 148.460\n",
      "train epoch 0, batch 199/469, loss: 116.766\n",
      "train epoch 0, batch 299/469, loss: 99.112\n",
      "train epoch 0, batch 399/469, loss: 94.875\n",
      "====> Epoch 0, average loss: 130.0737109375\n",
      "train epoch 1, batch 99/469, loss: 83.211\n",
      "train epoch 1, batch 199/469, loss: 82.323\n",
      "train epoch 1, batch 299/469, loss: 83.397\n",
      "train epoch 1, batch 399/469, loss: 77.380\n",
      "====> Epoch 1, average loss: 82.35666451822917\n",
      "train epoch 2, batch 99/469, loss: 74.968\n",
      "train epoch 2, batch 199/469, loss: 74.698\n",
      "train epoch 2, batch 299/469, loss: 74.255\n",
      "train epoch 2, batch 399/469, loss: 78.479\n",
      "====> Epoch 2, average loss: 77.05073079427083\n",
      "train epoch 3, batch 99/469, loss: 73.113\n",
      "train epoch 3, batch 199/469, loss: 74.261\n",
      "train epoch 3, batch 299/469, loss: 74.352\n",
      "train epoch 3, batch 399/469, loss: 71.320\n",
      "====> Epoch 3, average loss: 74.30785414225261\n",
      "train epoch 4, batch 99/469, loss: 74.664\n",
      "train epoch 4, batch 199/469, loss: 74.777\n",
      "train epoch 4, batch 299/469, loss: 73.665\n",
      "train epoch 4, batch 399/469, loss: 71.625\n",
      "====> Epoch 4, average loss: 72.4733177734375\n",
      "train epoch 5, batch 99/469, loss: 69.852\n",
      "train epoch 5, batch 199/469, loss: 72.097\n",
      "train epoch 5, batch 299/469, loss: 70.101\n",
      "train epoch 5, batch 399/469, loss: 68.644\n",
      "====> Epoch 5, average loss: 71.15869658203125\n",
      "train epoch 6, batch 99/469, loss: 68.644\n",
      "train epoch 6, batch 199/469, loss: 69.980\n",
      "train epoch 6, batch 299/469, loss: 68.160\n",
      "train epoch 6, batch 399/469, loss: 70.244\n",
      "====> Epoch 6, average loss: 70.17190092773437\n",
      "train epoch 7, batch 99/469, loss: 72.172\n",
      "train epoch 7, batch 199/469, loss: 69.249\n",
      "train epoch 7, batch 299/469, loss: 69.208\n",
      "train epoch 7, batch 399/469, loss: 69.612\n",
      "====> Epoch 7, average loss: 69.3824792154948\n",
      "train epoch 8, batch 99/469, loss: 72.350\n",
      "train epoch 8, batch 199/469, loss: 65.811\n",
      "train epoch 8, batch 299/469, loss: 67.025\n",
      "train epoch 8, batch 399/469, loss: 68.927\n",
      "====> Epoch 8, average loss: 68.73504992675781\n",
      "train epoch 9, batch 99/469, loss: 68.979\n",
      "train epoch 9, batch 199/469, loss: 67.808\n",
      "train epoch 9, batch 299/469, loss: 70.639\n",
      "train epoch 9, batch 399/469, loss: 67.138\n",
      "====> Epoch 9, average loss: 68.20303706868489\n"
     ]
    }
   ],
   "source": [
    "for epoch in range(n_epoches):\n",
    "    train(epoch, model, optimizer)"
   ]
  },
  {
   "cell_type": "code",
   "execution_count": 38,
   "metadata": {},
   "outputs": [],
   "source": [
    "import matplotlib.pyplot as plt\n",
    "%matplotlib inline"
   ]
  },
  {
   "cell_type": "code",
   "execution_count": 42,
   "metadata": {},
   "outputs": [
    {
     "data": {
      "text/plain": [
       "(torch.Size([28, 28]), torch.Size([28, 28]))"
      ]
     },
     "execution_count": 42,
     "metadata": {},
     "output_type": "execute_result"
    }
   ],
   "source": [
    "def inference(images, model):\n",
    "    model.eval()\n",
    "    with torch.no_grad():\n",
    "        constructeds, _ = model(images)\n",
    "        return constructeds.view(images.shape[0], 1, 28, 28)\n",
    "\n",
    "def infer_and_compare(image, model):\n",
    "    constructeds = inference(image, model)\n",
    "    return image.reshape((28, 28)), constructeds.reshape((28, 28))\n",
    "\n",
    "\n",
    "image, constructeds = infer_and_compare(test_dataset[0][0], model)\n",
    "\n",
    "image.shape, constructeds.shape"
   ]
  },
  {
   "cell_type": "code",
   "execution_count": 43,
   "metadata": {},
   "outputs": [
    {
     "data": {
      "image/png": "[encoded data removed]",
      "text/plain": [
       "<Figure size 1000x500 with 2 Axes>"
      ]
     },
     "metadata": {},
     "output_type": "display_data"
    }
   ],
   "source": [
    "def plot_pair(image, constructed):\n",
    "    fig = plt.figure(figsize=(10, 5))\n",
    "    _ = fig.add_subplot(1, 2, 1)\n",
    "    plt.imshow(image, cmap='gray')\n",
    "    _ = fig.add_subplot(1, 2, 2)\n",
    "    plt.imshow(constructed, cmap='gray')\n",
    "    plt.show()\n",
    "\n",
    "plot_pair(image, constructeds)"
   ]
  },
  {
   "cell_type": "code",
   "execution_count": 59,
   "metadata": {},
   "outputs": [
    {
     "data": {
      "text/plain": [
       "torch.Size([10, 1, 28, 28])"
      ]
     },
     "execution_count": 59,
     "metadata": {},
     "output_type": "execute_result"
    }
   ],
   "source": [
    "def latent_sampling(n_samples):\n",
    "    latent_samples = torch.randn(n_samples, latent_dim)\n",
    "    with torch.no_grad():\n",
    "        constructeds = model.decode(latent_samples)\n",
    "        return constructeds.view(-1, 1, 28, 28)\n",
    "\n",
    "constructeds = latent_sampling(10)\n",
    "constructeds.shape"
   ]
  },
  {
   "cell_type": "code",
   "execution_count": 62,
   "metadata": {},
   "outputs": [
    {
     "data": {
      "image/png": "[encoded data removed]",
      "text/plain": [
       "<Figure size 1000x300 with 1 Axes>"
      ]
     },
     "metadata": {},
     "output_type": "display_data"
    }
   ],
   "source": [
    "from torchvision.utils import make_grid\n",
    "\n",
    "def plot_samples(constructeds):\n",
    "    plt.figure(figsize=(10, 3))\n",
    "    plt.imshow(make_grid(constructeds, nrow=5).permute(1, 2, 0), cmap='gray')\n",
    "    plt.show()\n",
    "\n",
    "plot_samples(constructeds)"
   ]
  },
  {
   "cell_type": "markdown",
   "metadata": {},
   "source": [
    "# Latent Space"
   ]
  },
  {
   "cell_type": "code",
   "execution_count": 63,
   "metadata": {},
   "outputs": [
    {
     "name": "stderr",
     "output_type": "stream",
     "text": [
      "100%|██████████| 10000/10000 [00:00<00:00, 13051.34it/s]\n"
     ]
    }
   ],
   "source": [
    "from tqdm.autonotebook import tqdm\n",
    "\n",
    "latent_space = []\n",
    "for image, label in tqdm(test_dataset):\n",
    "\n",
    "    model.eval()\n",
    "    with torch.no_grad():\n",
    "        latent = model.encode(image.view(-1))\n",
    "\n",
    "    latent = latent.flatten().numpy()\n",
    "    sample = {f\"Encoded_{i}\": encoded for i, encoded in enumerate(latent)}\n",
    "    sample['label'] = label\n",
    "    latent_space.append(sample)"
   ]
  },
  {
   "cell_type": "code",
   "execution_count": 64,
   "metadata": {},
   "outputs": [
    {
     "data": {
      "text/html": [
       "<div>\n",
       "<style scoped>\n",
       "    .dataframe tbody tr th:only-of-type {\n",
       "        vertical-align: middle;\n",
       "    }\n",
       "\n",
       "    .dataframe tbody tr th {\n",
       "        vertical-align: top;\n",
       "    }\n",
       "\n",
       "    .dataframe thead th {\n",
       "        text-align: right;\n",
       "    }\n",
       "</style>\n",
       "<table border=\"1\" class=\"dataframe\">\n",
       "  <thead>\n",
       "    <tr style=\"text-align: right;\">\n",
       "      <th></th>\n",
       "      <th>Encoded_0</th>\n",
       "      <th>Encoded_1</th>\n",
       "      <th>Encoded_2</th>\n",
       "      <th>Encoded_3</th>\n",
       "      <th>Encoded_4</th>\n",
       "      <th>Encoded_5</th>\n",
       "      <th>Encoded_6</th>\n",
       "      <th>Encoded_7</th>\n",
       "      <th>Encoded_8</th>\n",
       "      <th>Encoded_9</th>\n",
       "      <th>...</th>\n",
       "      <th>Encoded_11</th>\n",
       "      <th>Encoded_12</th>\n",
       "      <th>Encoded_13</th>\n",
       "      <th>Encoded_14</th>\n",
       "      <th>Encoded_15</th>\n",
       "      <th>Encoded_16</th>\n",
       "      <th>Encoded_17</th>\n",
       "      <th>Encoded_18</th>\n",
       "      <th>Encoded_19</th>\n",
       "      <th>label</th>\n",
       "    </tr>\n",
       "  </thead>\n",
       "  <tbody>\n",
       "    <tr>\n",
       "      <th>0</th>\n",
       "      <td>3.564027</td>\n",
       "      <td>9.547861</td>\n",
       "      <td>4.886412</td>\n",
       "      <td>2.349909</td>\n",
       "      <td>-2.082876</td>\n",
       "      <td>3.943501</td>\n",
       "      <td>1.381360</td>\n",
       "      <td>0.767944</td>\n",
       "      <td>-3.452310</td>\n",
       "      <td>4.347052</td>\n",
       "      <td>...</td>\n",
       "      <td>-1.601610</td>\n",
       "      <td>-2.820389</td>\n",
       "      <td>2.156797</td>\n",
       "      <td>-3.622727</td>\n",
       "      <td>-2.196494</td>\n",
       "      <td>-2.595282</td>\n",
       "      <td>-4.467386</td>\n",
       "      <td>2.416487</td>\n",
       "      <td>-0.582435</td>\n",
       "      <td>7</td>\n",
       "    </tr>\n",
       "    <tr>\n",
       "      <th>1</th>\n",
       "      <td>-1.871639</td>\n",
       "      <td>0.601932</td>\n",
       "      <td>-1.138755</td>\n",
       "      <td>-8.497347</td>\n",
       "      <td>-3.201203</td>\n",
       "      <td>0.182974</td>\n",
       "      <td>-3.710460</td>\n",
       "      <td>0.526193</td>\n",
       "      <td>1.539595</td>\n",
       "      <td>-5.307961</td>\n",
       "      <td>...</td>\n",
       "      <td>10.227912</td>\n",
       "      <td>4.511192</td>\n",
       "      <td>-2.595778</td>\n",
       "      <td>0.313579</td>\n",
       "      <td>6.070636</td>\n",
       "      <td>0.408089</td>\n",
       "      <td>-0.382847</td>\n",
       "      <td>2.073765</td>\n",
       "      <td>4.760406</td>\n",
       "      <td>2</td>\n",
       "    </tr>\n",
       "    <tr>\n",
       "      <th>2</th>\n",
       "      <td>-2.269649</td>\n",
       "      <td>-1.664141</td>\n",
       "      <td>-3.437259</td>\n",
       "      <td>0.067495</td>\n",
       "      <td>-5.931700</td>\n",
       "      <td>-0.180652</td>\n",
       "      <td>0.828445</td>\n",
       "      <td>-5.487751</td>\n",
       "      <td>0.766849</td>\n",
       "      <td>3.694088</td>\n",
       "      <td>...</td>\n",
       "      <td>0.304487</td>\n",
       "      <td>-0.165287</td>\n",
       "      <td>5.499488</td>\n",
       "      <td>-3.388476</td>\n",
       "      <td>2.541520</td>\n",
       "      <td>0.517135</td>\n",
       "      <td>-2.841830</td>\n",
       "      <td>3.871514</td>\n",
       "      <td>3.932166</td>\n",
       "      <td>1</td>\n",
       "    </tr>\n",
       "    <tr>\n",
       "      <th>3</th>\n",
       "      <td>7.479793</td>\n",
       "      <td>5.889568</td>\n",
       "      <td>1.317137</td>\n",
       "      <td>-4.373565</td>\n",
       "      <td>-1.837871</td>\n",
       "      <td>4.464717</td>\n",
       "      <td>-7.121642</td>\n",
       "      <td>-2.167509</td>\n",
       "      <td>-7.180558</td>\n",
       "      <td>-2.917017</td>\n",
       "      <td>...</td>\n",
       "      <td>10.705716</td>\n",
       "      <td>-2.198392</td>\n",
       "      <td>2.135594</td>\n",
       "      <td>2.829084</td>\n",
       "      <td>0.116584</td>\n",
       "      <td>0.398829</td>\n",
       "      <td>0.844832</td>\n",
       "      <td>-2.144519</td>\n",
       "      <td>2.414562</td>\n",
       "      <td>0</td>\n",
       "    </tr>\n",
       "    <tr>\n",
       "      <th>4</th>\n",
       "      <td>2.106921</td>\n",
       "      <td>2.128837</td>\n",
       "      <td>-0.774967</td>\n",
       "      <td>1.692310</td>\n",
       "      <td>6.157526</td>\n",
       "      <td>7.775589</td>\n",
       "      <td>-0.985861</td>\n",
       "      <td>3.771013</td>\n",
       "      <td>-0.245877</td>\n",
       "      <td>2.201168</td>\n",
       "      <td>...</td>\n",
       "      <td>5.342408</td>\n",
       "      <td>-4.352204</td>\n",
       "      <td>1.036037</td>\n",
       "      <td>2.734861</td>\n",
       "      <td>1.571119</td>\n",
       "      <td>-0.313267</td>\n",
       "      <td>-2.706196</td>\n",
       "      <td>0.178901</td>\n",
       "      <td>-0.763242</td>\n",
       "      <td>4</td>\n",
       "    </tr>\n",
       "  </tbody>\n",
       "</table>\n",
       "<p>5 rows × 21 columns</p>\n",
       "</div>"
      ],
      "text/plain": [
       "   Encoded_0  Encoded_1  Encoded_2  Encoded_3  Encoded_4  Encoded_5  \\\n",
       "0   3.564027   9.547861   4.886412   2.349909  -2.082876   3.943501   \n",
       "1  -1.871639   0.601932  -1.138755  -8.497347  -3.201203   0.182974   \n",
       "2  -2.269649  -1.664141  -3.437259   0.067495  -5.931700  -0.180652   \n",
       "3   7.479793   5.889568   1.317137  -4.373565  -1.837871   4.464717   \n",
       "4   2.106921   2.128837  -0.774967   1.692310   6.157526   7.775589   \n",
       "\n",
       "   Encoded_6  Encoded_7  Encoded_8  Encoded_9  ...  Encoded_11  Encoded_12  \\\n",
       "0   1.381360   0.767944  -3.452310   4.347052  ...   -1.601610   -2.820389   \n",
       "1  -3.710460   0.526193   1.539595  -5.307961  ...   10.227912    4.511192   \n",
       "2   0.828445  -5.487751   0.766849   3.694088  ...    0.304487   -0.165287   \n",
       "3  -7.121642  -2.167509  -7.180558  -2.917017  ...   10.705716   -2.198392   \n",
       "4  -0.985861   3.771013  -0.245877   2.201168  ...    5.342408   -4.352204   \n",
       "\n",
       "   Encoded_13  Encoded_14  Encoded_15  Encoded_16  Encoded_17  Encoded_18  \\\n",
       "0    2.156797   -3.622727   -2.196494   -2.595282   -4.467386    2.416487   \n",
       "1   -2.595778    0.313579    6.070636    0.408089   -0.382847    2.073765   \n",
       "2    5.499488   -3.388476    2.541520    0.517135   -2.841830    3.871514   \n",
       "3    2.135594    2.829084    0.116584    0.398829    0.844832   -2.144519   \n",
       "4    1.036037    2.734861    1.571119   -0.313267   -2.706196    0.178901   \n",
       "\n",
       "   Encoded_19  label  \n",
       "0   -0.582435      7  \n",
       "1    4.760406      2  \n",
       "2    3.932166      1  \n",
       "3    2.414562      0  \n",
       "4   -0.763242      4  \n",
       "\n",
       "[5 rows x 21 columns]"
      ]
     },
     "execution_count": 64,
     "metadata": {},
     "output_type": "execute_result"
    }
   ],
   "source": [
    "import pandas as pd\n",
    "\n",
    "latent_space = pd.DataFrame(latent_space)\n",
    "latent_space['label'] = latent_space['label'].astype(str)\n",
    "\n",
    "latent_space.head()"
   ]
  },
  {
   "cell_type": "code",
   "execution_count": 65,
   "metadata": {},
   "outputs": [],
   "source": [
    "from sklearn.manifold import TSNE\n",
    "\n",
    "tsne = TSNE(n_components=2)\n",
    "digits_embedded = tsne.fit_transform(latent_space.drop(['label'],axis=1))"
   ]
  },
  {
   "cell_type": "code",
   "execution_count": 70,
   "metadata": {},
   "outputs": [
    {
     "data": {
      "text/plain": [
       "array([[ 53.566696,  -8.283025],\n",
       "       [-31.166576, -56.27377 ],\n",
       "       [ 46.01439 , -36.329643],\n",
       "       [-51.543915,  24.034119],\n",
       "       [ 19.249554,  64.00769 ]], dtype=float32)"
      ]
     },
     "execution_count": 70,
     "metadata": {},
     "output_type": "execute_result"
    }
   ],
   "source": [
    "digits_embedded[:5]"
   ]
  },
  {
   "cell_type": "code",
   "execution_count": 74,
   "metadata": {},
   "outputs": [
    {
     "data": {
      "text/plain": [
       "0       7\n",
       "1       2\n",
       "2       1\n",
       "3       0\n",
       "4       4\n",
       "       ..\n",
       "9995    2\n",
       "9996    3\n",
       "9997    4\n",
       "9998    5\n",
       "9999    6\n",
       "Name: label, Length: 10000, dtype: object"
      ]
     },
     "execution_count": 74,
     "metadata": {},
     "output_type": "execute_result"
    }
   ],
   "source": [
    "latent_space['label']"
   ]
  },
  {
   "cell_type": "code",
   "execution_count": 81,
   "metadata": {},
   "outputs": [
    {
     "data": {
      "image/png": "[encoded data removed]",
      "text/html": [
       "<div style=\"vertical-align: middle;\"><strong>from_list</strong> </div><div class=\"cmap\"><img alt=\"from_list colormap\" title=\"from_list\" style=\"border: 1px solid #555;\" src=\"data:image/png;base64,iVBORw0KGgoAAAANSUhEUgAAAgAAAABACAYAAABsv8+/AAAAGHRFWHRUaXRsZQBmcm9tX2xpc3QgY29sb3JtYXBDL89FAAAAHnRFWHREZXNjcmlwdGlvbgBmcm9tX2xpc3QgY29sb3JtYXABtCnOAAAAMHRFWHRBdXRob3IATWF0cGxvdGxpYiB2My45LjAsIGh0dHBzOi8vbWF0cGxvdGxpYi5vcmfx/+MOAAAAMnRFWHRTb2Z0d2FyZQBNYXRwbG90bGliIHYzLjkuMCwgaHR0cHM6Ly9tYXRwbG90bGliLm9yZ99ZfCkAAAF9SURBVHic7daxLQRwHEBhpzDASUxwrR10GgsoxQCXqG6N69QKnUT0BrCJmEHCEv/4Jd73TfDKt7l5eP05+UeO26fphGUOu4vphGX2z1/TCcu87+6mE5bZnr1MJyxzfX4/nbDM2+ZjOmGZq8vP6YRlHr9vpxOWOp0OAAD+ngEAgCADAABBBgAAggwAAAQZAAAIMgAAEGQAACDIAABAkAEAgCADAABBBgAAggwAAAQZAAAIMgAAEGQAACDIAABAkAEAgCADAABBBgAAggwAAAQZAAAIMgAAEGQAACDIAABAkAEAgCADAABBBgAAggwAAAQZAAAIMgAAEGQAACDIAABAkAEAgCADAABBBgAAggwAAAQZAAAIMgAAEGQAACDIAABAkAEAgCADAABBBgAAggwAAAQZAAAIMgAAEGQAACDIAABAkAEAgCADAABBBgAAggwAAAQZAAAIMgAAEGQAACDIAABAkAEAgCADAABBBgAAggwAAAQZAAAIMgAAEPQLzccOZc5FWwcAAAAASUVORK5CYII=\"></div><div style=\"vertical-align: middle; max-width: 514px; display: flex; justify-content: space-between;\"><div style=\"float: left;\"><div title=\"#4c72b0ff\" style=\"display: inline-block; width: 1em; height: 1em; margin: 0; vertical-align: middle; border: 1px solid #555; background-color: #4c72b0ff;\"></div> under</div><div style=\"margin: 0 auto; display: inline-block;\">bad <div title=\"#00000000\" style=\"display: inline-block; width: 1em; height: 1em; margin: 0; vertical-align: middle; border: 1px solid #555; background-color: #00000000;\"></div></div><div style=\"float: right;\">over <div title=\"#64b5cdff\" style=\"display: inline-block; width: 1em; height: 1em; margin: 0; vertical-align: middle; border: 1px solid #555; background-color: #64b5cdff;\"></div></div>"
      ],
      "text/plain": [
       "<matplotlib.colors.ListedColormap at 0x324127550>"
      ]
     },
     "execution_count": 81,
     "metadata": {},
     "output_type": "execute_result"
    }
   ],
   "source": [
    "import numpy as np\n",
    "\n",
    "import seaborn as sns\n",
    "\n",
    "from matplotlib.colors import ListedColormap\n",
    "import matplotlib as mpl\n",
    "\n",
    "PALETTE = sns.color_palette('deep', n_colors=10)\n",
    "CMAP = ListedColormap(PALETTE.as_hex())\n",
    "\n",
    "CMAP"
   ]
  },
  {
   "cell_type": "code",
   "execution_count": 84,
   "metadata": {},
   "outputs": [
    {
     "data": {
      "image/png": "[encoded data removed]",
      "text/plain": [
       "<Figure size 640x480 with 1 Axes>"
      ]
     },
     "metadata": {},
     "output_type": "display_data"
    }
   ],
   "source": [
    "\n",
    "\n",
    "plt.scatter(digits_embedded[:, 0], digits_embedded[:, 1],\n",
    "            c=latent_space['label'].values.astype(int), cmap=CMAP)\n",
    "                      \n",
    "plt.show()"
   ]
  },
  {
   "cell_type": "code",
   "execution_count": null,
   "metadata": {},
   "outputs": [],
   "source": []
  }
 ],
 "metadata": {
  "kernelspec": {
   "display_name": "py39",
   "language": "python",
   "name": "python3"
  },
  "language_info": {
   "codemirror_mode": {
    "name": "ipython",
    "version": 3
   },
   "file_extension": ".py",
   "mimetype": "text/x-python",
   "name": "python",
   "nbconvert_exporter": "python",
   "pygments_lexer": "ipython3",
   "version": "3.9.19"
  }
 },
 "nbformat": 4,
 "nbformat_minor": 2
}
