{
 "cells": [
  {
   "cell_type": "code",
   "execution_count": 2,
   "metadata": {},
   "outputs": [],
   "source": [
    "import torch\n",
    "import torch.nn.functional as F\n",
    "import matplotlib.pyplot as plt\n",
    "\n",
    "%matplotlib inline"
   ]
  },
  {
   "cell_type": "code",
   "execution_count": 3,
   "metadata": {},
   "outputs": [
    {
     "data": {
      "text/plain": [
       "['emma', 'olivia', 'ava', 'isabella', 'sophia', 'charlotte', 'mia', 'amelia']"
      ]
     },
     "execution_count": 3,
     "metadata": {},
     "output_type": "execute_result"
    }
   ],
   "source": [
    "names = open('data/names.txt', 'r').read().splitlines()\n",
    "names[:8]"
   ]
  },
  {
   "cell_type": "code",
   "execution_count": 4,
   "metadata": {},
   "outputs": [
    {
     "name": "stdout",
     "output_type": "stream",
     "text": [
      "{0: '<.>', 1: 'a', 2: 'b', 3: 'c', 4: 'd', 5: 'e', 6: 'f', 7: 'g', 8: 'h', 9: 'i', 10: 'j', 11: 'k', 12: 'l', 13: 'm', 14: 'n', 15: 'o', 16: 'p', 17: 'q', 18: 'r', 19: 's', 20: 't', 21: 'u', 22: 'v', 23: 'w', 24: 'x', 25: 'y', 26: 'z'}\n"
     ]
    }
   ],
   "source": [
    "letters = sorted(list(set(''.join(names))))\n",
    "SoS = '<.>'\n",
    "letters = [SoS] + letters \n",
    "letter2index = {l:i for i, l in enumerate(letters)}\n",
    "index2letter = {i:l for l, i in letter2index.items()}\n",
    "print(index2letter)"
   ]
  },
  {
   "cell_type": "code",
   "execution_count": 5,
   "metadata": {},
   "outputs": [
    {
     "data": {
      "text/plain": [
       "27"
      ]
     },
     "execution_count": 5,
     "metadata": {},
     "output_type": "execute_result"
    }
   ],
   "source": [
    "vocab_size = len(letter2index)\n",
    "vocab_size"
   ]
  },
  {
   "cell_type": "code",
   "execution_count": 6,
   "metadata": {},
   "outputs": [
    {
     "name": "stdout",
     "output_type": "stream",
     "text": [
      "torch.Size([182625, 3]) torch.Size([182625])\n",
      "torch.Size([22655, 3]) torch.Size([22655])\n",
      "torch.Size([22866, 3]) torch.Size([22866])\n"
     ]
    }
   ],
   "source": [
    "# build the dataset\n",
    "block_size = 3 # context length: how many characters do we take to predict the next one?\n",
    "\n",
    "def build_dataset(words):  \n",
    "  X, Y = [], []\n",
    "  \n",
    "  for w in words:\n",
    "    context = [0] * block_size\n",
    "    for ch in list(w) + [SoS]:\n",
    "      ix = letter2index[ch]\n",
    "      X.append(context)\n",
    "      Y.append(ix)\n",
    "      context = context[1:] + [ix] # crop and append\n",
    "\n",
    "  X = torch.tensor(X)\n",
    "  Y = torch.tensor(Y)\n",
    "  print(X.shape, Y.shape)\n",
    "  return X, Y\n",
    "\n",
    "import random\n",
    "random.seed(42)\n",
    "random.shuffle(names)\n",
    "n1 = int(0.8*len(names))\n",
    "n2 = int(0.9*len(names))\n",
    "\n",
    "Xtr,  Ytr  = build_dataset(names[:n1])     # 80%\n",
    "Xdev, Ydev = build_dataset(names[n1:n2])   # 10%\n",
    "Xte,  Yte  = build_dataset(names[n2:])     # 10%"
   ]
  },
  {
   "cell_type": "code",
   "execution_count": 7,
   "metadata": {},
   "outputs": [],
   "source": [
    "# utility function we will use later when comparing manual gradients to PyTorch gradients\n",
    "def cmp(s, dt, t):\n",
    "  ex = torch.all(dt == t.grad).item()\n",
    "  app = torch.allclose(dt, t.grad)\n",
    "  maxdiff = (dt - t.grad).abs().max().item()\n",
    "  print(f'{s:15s} | exact: {str(ex):5s} | approximate: {str(app):5s} | maxdiff: {maxdiff}')"
   ]
  },
  {
   "cell_type": "code",
   "execution_count": 8,
   "metadata": {},
   "outputs": [
    {
     "name": "stdout",
     "output_type": "stream",
     "text": [
      "4137\n"
     ]
    }
   ],
   "source": [
    "embedding_size = 10\n",
    "hidden_size = 64\n",
    "\n",
    "g = torch.Generator().manual_seed(2147483647)\n",
    "\n",
    "C = torch.randn((vocab_size, embedding_size), generator=g)\n",
    "W1 = torch.randn((block_size * embedding_size, hidden_size), generator=g)* (5/3)/((embedding_size * block_size)**0.5)\n",
    "b1 = torch.randn((1, hidden_size), generator=g) * 0.1\n",
    "W2 = torch.randn((hidden_size, vocab_size), generator=g) * 0.1\n",
    "b2 = torch.randn((1, vocab_size), generator=g) * 0.1\n",
    "\n",
    "bngain = torch.randn((1, hidden_size))*0.1 + 1.0\n",
    "bnbias = torch.randn((1, hidden_size))*0.1\n",
    "\n",
    "parameters = [C, W1, b1, W2, b2, bngain, bnbias]\n",
    "print(sum(p.nelement() for p in parameters)) # number of parameters in total\n",
    "for p in parameters:\n",
    "    p.requires_grad = True"
   ]
  },
  {
   "cell_type": "code",
   "execution_count": 9,
   "metadata": {},
   "outputs": [],
   "source": [
    "def random_batch(X, Y, batch_size):\n",
    "    batch_idx = torch.randint(0, X.size(0), (batch_size, ))\n",
    "    return X[batch_idx], Y[batch_idx]"
   ]
  },
  {
   "cell_type": "code",
   "execution_count": 10,
   "metadata": {},
   "outputs": [],
   "source": [
    "Xb, Yb = random_batch(Xtr, Ytr, 32)"
   ]
  },
  {
   "cell_type": "code",
   "execution_count": 11,
   "metadata": {},
   "outputs": [
    {
     "data": {
      "text/plain": [
       "tensor(3.4836, grad_fn=<NegBackward0>)"
      ]
     },
     "execution_count": 11,
     "metadata": {},
     "output_type": "execute_result"
    }
   ],
   "source": [
    "# forward pass, \"chunkated\" into smaller steps that are possible to backward one at a time\n",
    "n = Xb.size(0)\n",
    "\n",
    "emb = C[Xb] # embed the characters into vectors\n",
    "embcat = emb.view(emb.shape[0], -1) # concatenate the vectors\n",
    "# Linear layer 1\n",
    "hprebn = embcat @ W1 + b1 # hidden layer pre-activation\n",
    "# BatchNorm layer\n",
    "bnmeani = 1/n * hprebn.sum(0, keepdim=True)\n",
    "bndiff = hprebn - bnmeani\n",
    "bndiff2 = bndiff**2\n",
    "bnvar = 1/(n-1)*(bndiff2).sum(0, keepdim=True) # note: Bessel's correction (dividing by n-1, not n)\n",
    "bnvar_inv = (bnvar + 1e-5)**-0.5\n",
    "bnraw = bndiff * bnvar_inv\n",
    "hpreact = bngain * bnraw + bnbias\n",
    "# Non-linearity\n",
    "h = torch.tanh(hpreact) # hidden layer\n",
    "# Linear layer 2\n",
    "logits = h @ W2 + b2 # output layer\n",
    "# cross entropy loss (same as F.cross_entropy(logits, Yb))\n",
    "logit_maxes = logits.max(1, keepdim=True).values\n",
    "norm_logits = logits - logit_maxes # subtract max for numerical stability\n",
    "counts = norm_logits.exp()\n",
    "counts_sum = counts.sum(1, keepdims=True)\n",
    "counts_sum_inv = counts_sum**-1 # if I use (1.0 / counts_sum) instead then I can't get backprop to be bit exact...\n",
    "probs = counts * counts_sum_inv\n",
    "logprobs = probs.log()\n",
    "loss = -logprobs[range(n), Yb].mean()\n",
    "\n",
    "# PyTorch backward pass\n",
    "for p in parameters:\n",
    "  p.grad = None\n",
    "for t in [logprobs, probs, counts, counts_sum, counts_sum_inv, # afaik there is no cleaner way\n",
    "          norm_logits, logit_maxes, logits, h, hpreact, bnraw,\n",
    "         bnvar_inv, bnvar, bndiff2, bndiff, hprebn, bnmeani,\n",
    "         embcat, emb]:\n",
    "  t.retain_grad()\n",
    "loss.backward()\n",
    "loss"
   ]
  },
  {
   "cell_type": "code",
   "execution_count": 12,
   "metadata": {},
   "outputs": [
    {
     "data": {
      "text/plain": [
       "tensor([13, 12,  0,  0, 20,  0,  4, 12,  5, 15,  4,  0, 11,  1,  9, 12,  1, 24,\n",
       "        14,  0, 15, 14, 24,  0,  5,  5,  5,  9,  1, 20,  0,  5])"
      ]
     },
     "execution_count": 12,
     "metadata": {},
     "output_type": "execute_result"
    }
   ],
   "source": [
    "Yb"
   ]
  },
  {
   "cell_type": "code",
   "execution_count": 13,
   "metadata": {},
   "outputs": [
    {
     "data": {
      "text/plain": [
       "tensor([-3.3489, -3.4355, -3.7568, -2.9241, -2.9333, -3.2417, -4.6258, -2.6613,\n",
       "        -3.8851, -2.8886, -4.0868, -3.0793, -3.5364, -3.5937, -3.2925, -3.7106,\n",
       "        -4.4511, -4.0723, -3.8339, -2.7458, -4.5336, -2.8755, -4.0198, -2.8856,\n",
       "        -2.9595, -3.6142, -3.5466, -4.4321, -3.0003, -3.1061, -3.0801, -3.3188],\n",
       "       grad_fn=<IndexBackward0>)"
      ]
     },
     "execution_count": 13,
     "metadata": {},
     "output_type": "execute_result"
    }
   ],
   "source": [
    "logprobs[range(n), Yb]"
   ]
  },
  {
   "cell_type": "code",
   "execution_count": 14,
   "metadata": {},
   "outputs": [
    {
     "data": {
      "text/plain": [
       "torch.Size([32, 27])"
      ]
     },
     "execution_count": 14,
     "metadata": {},
     "output_type": "execute_result"
    }
   ],
   "source": [
    "logprobs.shape"
   ]
  },
  {
   "cell_type": "code",
   "execution_count": 15,
   "metadata": {},
   "outputs": [
    {
     "data": {
      "text/plain": [
       "(torch.Size([32, 27]), torch.Size([32, 1]), torch.Size([32, 1]))"
      ]
     },
     "execution_count": 15,
     "metadata": {},
     "output_type": "execute_result"
    }
   ],
   "source": [
    "counts.shape, counts_sum_inv.shape, counts.sum(dim=1, keepdim=True).shape"
   ]
  },
  {
   "cell_type": "code",
   "execution_count": 16,
   "metadata": {},
   "outputs": [
    {
     "data": {
      "text/plain": [
       "(torch.Size([32, 27]), torch.Size([32, 1]))"
      ]
     },
     "execution_count": 16,
     "metadata": {},
     "output_type": "execute_result"
    }
   ],
   "source": [
    "logits.shape, logit_maxes.shape"
   ]
  },
  {
   "cell_type": "code",
   "execution_count": 17,
   "metadata": {},
   "outputs": [
    {
     "data": {
      "text/plain": [
       "tensor([1.1554, 1.2180, 1.3205, 0.7188, 1.2426, 0.8789, 1.0674, 0.7745, 0.7962,\n",
       "        0.4934, 1.6195, 1.1961, 1.5247, 1.2585, 0.8596, 1.0127, 1.2180, 1.2180,\n",
       "        0.8462, 0.9565, 1.3203, 1.1026, 1.3401, 0.9577, 1.7787, 1.1946, 1.1569,\n",
       "        1.1874, 0.9350, 1.3362, 0.9478, 0.9576], grad_fn=<IndexBackward0>)"
      ]
     },
     "execution_count": 17,
     "metadata": {},
     "output_type": "execute_result"
    }
   ],
   "source": [
    "logits[range(n), logits.argmax(dim=1)]"
   ]
  },
  {
   "cell_type": "code",
   "execution_count": 18,
   "metadata": {},
   "outputs": [
    {
     "data": {
      "text/plain": [
       "tensor([[19],\n",
       "        [22],\n",
       "        [15],\n",
       "        [15],\n",
       "        [15],\n",
       "        [21],\n",
       "        [ 6],\n",
       "        [12],\n",
       "        [22],\n",
       "        [20],\n",
       "        [ 3],\n",
       "        [23],\n",
       "        [13],\n",
       "        [21],\n",
       "        [ 6],\n",
       "        [19],\n",
       "        [22],\n",
       "        [22],\n",
       "        [21],\n",
       "        [20],\n",
       "        [24],\n",
       "        [23],\n",
       "        [13],\n",
       "        [19],\n",
       "        [16],\n",
       "        [22],\n",
       "        [13],\n",
       "        [19],\n",
       "        [21],\n",
       "        [ 3],\n",
       "        [ 1],\n",
       "        [ 2]])"
      ]
     },
     "execution_count": 18,
     "metadata": {},
     "output_type": "execute_result"
    }
   ],
   "source": [
    "logits.max(1, keepdim=True).indices"
   ]
  },
  {
   "cell_type": "code",
   "execution_count": 19,
   "metadata": {},
   "outputs": [
    {
     "data": {
      "text/plain": [
       "tensor([1.1554, 1.2180, 1.3205, 0.7188, 1.2426, 0.8789, 1.0674, 0.7745, 0.7962,\n",
       "        0.4934, 1.6195, 1.1961, 1.5247, 1.2585, 0.8596, 1.0127, 1.2180, 1.2180,\n",
       "        0.8462, 0.9565, 1.3203, 1.1026, 1.3401, 0.9577, 1.7787, 1.1946, 1.1569,\n",
       "        1.1874, 0.9350, 1.3362, 0.9478, 0.9576], grad_fn=<IndexBackward0>)"
      ]
     },
     "execution_count": 19,
     "metadata": {},
     "output_type": "execute_result"
    }
   ],
   "source": [
    "logits[range(n), logits.max(1, keepdim=True).indices.view(-1)]"
   ]
  },
  {
   "cell_type": "code",
   "execution_count": 20,
   "metadata": {},
   "outputs": [
    {
     "data": {
      "text/plain": [
       "torch.Size([32, 27])"
      ]
     },
     "execution_count": 20,
     "metadata": {},
     "output_type": "execute_result"
    }
   ],
   "source": [
    "F.one_hot(logits.max(1, keepdim=True).indices.view(-1), num_classes=logits.size(1)).shape"
   ]
  },
  {
   "cell_type": "code",
   "execution_count": 21,
   "metadata": {},
   "outputs": [
    {
     "data": {
      "text/plain": [
       "(torch.Size([32, 27]), torch.Size([1, 27]))"
      ]
     },
     "execution_count": 21,
     "metadata": {},
     "output_type": "execute_result"
    }
   ],
   "source": [
    "logits.shape, b2.shape"
   ]
  },
  {
   "cell_type": "code",
   "execution_count": 22,
   "metadata": {},
   "outputs": [
    {
     "data": {
      "text/plain": [
       "(torch.Size([32, 64]), torch.Size([64, 27]), torch.Size([32, 27]))"
      ]
     },
     "execution_count": 22,
     "metadata": {},
     "output_type": "execute_result"
    }
   ],
   "source": [
    "h.shape, W2.shape, logits.shape"
   ]
  },
  {
   "cell_type": "code",
   "execution_count": 23,
   "metadata": {},
   "outputs": [
    {
     "data": {
      "text/plain": [
       "(torch.Size([32, 64]),\n",
       " torch.Size([1, 64]),\n",
       " torch.Size([32, 64]),\n",
       " torch.Size([1, 64]))"
      ]
     },
     "execution_count": 23,
     "metadata": {},
     "output_type": "execute_result"
    }
   ],
   "source": [
    "hpreact.shape, bngain.shape, bnraw.shape, bnbias.shape\n"
   ]
  },
  {
   "cell_type": "code",
   "execution_count": 24,
   "metadata": {},
   "outputs": [
    {
     "data": {
      "text/plain": [
       "(torch.Size([32, 64]), torch.Size([1, 64]))"
      ]
     },
     "execution_count": 24,
     "metadata": {},
     "output_type": "execute_result"
    }
   ],
   "source": [
    "bndiff.shape, bnvar_inv.shape\n"
   ]
  },
  {
   "cell_type": "code",
   "execution_count": 38,
   "metadata": {},
   "outputs": [
    {
     "name": "stdout",
     "output_type": "stream",
     "text": [
      "torch.Size([32, 3, 10]) torch.Size([27, 10]) torch.Size([32, 3])\n"
     ]
    },
    {
     "data": {
      "text/plain": [
       "tensor([[12,  9,  1],\n",
       "        [ 0,  0,  0],\n",
       "        [20, 15, 14],\n",
       "        [11, 23, 21]])"
      ]
     },
     "execution_count": 38,
     "metadata": {},
     "output_type": "execute_result"
    }
   ],
   "source": [
    "# emb = C[Xb]\n",
    "print(emb.shape, C.shape, Xb.shape, )\n",
    "Xb[:4]"
   ]
  },
  {
   "cell_type": "code",
   "execution_count": 40,
   "metadata": {},
   "outputs": [
    {
     "name": "stdout",
     "output_type": "stream",
     "text": [
      "logprobs        | exact: True  | approximate: True  | maxdiff: 0.0\n",
      "dprobs          | exact: True  | approximate: True  | maxdiff: 0.0\n",
      "dcounts_sum_inv | exact: True  | approximate: True  | maxdiff: 0.0\n",
      "dcounts_sum     | exact: True  | approximate: True  | maxdiff: 0.0\n",
      "dcounts         | exact: True  | approximate: True  | maxdiff: 0.0\n",
      "dnorm_logits    | exact: True  | approximate: True  | maxdiff: 0.0\n",
      "dlogit_maxes    | exact: True  | approximate: True  | maxdiff: 0.0\n",
      "dlogits         | exact: True  | approximate: True  | maxdiff: 0.0\n",
      "db2             | exact: True  | approximate: True  | maxdiff: 0.0\n",
      "dh              | exact: True  | approximate: True  | maxdiff: 0.0\n",
      "dW2             | exact: True  | approximate: True  | maxdiff: 0.0\n",
      "dhpreact        | exact: True  | approximate: True  | maxdiff: 0.0\n",
      "dbnbias         | exact: True  | approximate: True  | maxdiff: 0.0\n",
      "dbngain         | exact: True  | approximate: True  | maxdiff: 0.0\n",
      "dbnraw          | exact: True  | approximate: True  | maxdiff: 0.0\n",
      "dbnvar_inv      | exact: True  | approximate: True  | maxdiff: 0.0\n",
      "dbnvar          | exact: True  | approximate: True  | maxdiff: 0.0\n",
      "dbndiff2        | exact: True  | approximate: True  | maxdiff: 0.0\n",
      "dbndiff         | exact: True  | approximate: True  | maxdiff: 0.0\n",
      "dbnmeani        | exact: True  | approximate: True  | maxdiff: 0.0\n",
      "dhprebn         | exact: True  | approximate: True  | maxdiff: 0.0\n",
      "db1             | exact: True  | approximate: True  | maxdiff: 0.0\n",
      "dembcat         | exact: True  | approximate: True  | maxdiff: 0.0\n",
      "dW1             | exact: True  | approximate: True  | maxdiff: 0.0\n",
      "demb            | exact: True  | approximate: True  | maxdiff: 0.0\n",
      "dC              | exact: True  | approximate: True  | maxdiff: 0.0\n"
     ]
    }
   ],
   "source": [
    "dlogprobs = torch.zeros_like(logprobs)\n",
    "dlogprobs[range(n), Yb] = -1.0/n\n",
    "cmp('logprobs', dlogprobs, logprobs)\n",
    "dprobs = (1/probs) * dlogprobs\n",
    "cmp('dprobs', dprobs, probs)\n",
    "dcounts_sum_inv = (counts * dprobs).sum(dim=1, keepdim=True)\n",
    "cmp('dcounts_sum_inv', dcounts_sum_inv, counts_sum_inv)\n",
    "dcounts = counts_sum_inv * dprobs\n",
    "dcounts_sum = -(counts_sum**-2) * dcounts_sum_inv\n",
    "cmp('dcounts_sum', dcounts_sum, counts_sum)\n",
    "dcounts += torch.ones_like(counts) * dcounts_sum\n",
    "cmp('dcounts', dcounts, counts)\n",
    "dnorm_logits = counts * dcounts\n",
    "cmp('dnorm_logits', dnorm_logits, norm_logits)\n",
    "dlogit_maxes = -dnorm_logits.sum(dim=1, keepdim=True)\n",
    "cmp('dlogit_maxes', dlogit_maxes, logit_maxes)\n",
    "dlogits = dnorm_logits\n",
    "dlogits += F.one_hot(logits.max(1, keepdim=True).indices.view(-1), num_classes=logits.size(1)) * dlogit_maxes\n",
    "cmp('dlogits', dlogits, logits)\n",
    "db2 = dlogits.sum(dim=0, keepdim=True)\n",
    "cmp('db2', db2, b2)\n",
    "dh = dlogits @ W2.T\n",
    "cmp('dh', dh, h)\n",
    "dW2 = h.T @ dlogits\n",
    "cmp('dW2', dW2, W2)\n",
    "dhpreact = (1 - h**2) * dh  # h = torch.tanh(hpreact) tanh(x) = (e^(2x) - 1) / (e^(2x) - 1), dtanh = 1 - tanh^2\n",
    "cmp('dhpreact', dhpreact, hpreact)\n",
    "dbnbias = dhpreact.sum(dim=0, keepdim=True)\n",
    "cmp(\"dbnbias\", dbnbias, bnbias)\n",
    "dbngain = (dhpreact * bnraw).sum(dim=0, keepdim=True)\n",
    "cmp(\"dbngain\", dbngain, bngain)\n",
    "dbnraw = dhpreact * bngain\n",
    "cmp(\"dbnraw\", dbnraw, bnraw)\n",
    "dbnvar_inv = (dbnraw * bndiff).sum(dim=0, keepdim=True)\n",
    "cmp(\"dbnvar_inv\", dbnvar_inv, bnvar_inv)\n",
    "dbndiff = dbnraw * bnvar_inv\n",
    "dbnvar = -0.5 * dbnvar_inv * (bnvar + 1e-5)**-1.5 #bnvar_inv = (bnvar + 1e-5)**-0.5\n",
    "cmp(\"dbnvar\", dbnvar, bnvar)\n",
    "dbndiff2 = 1/(n-1) * torch.ones_like(bndiff2)  * dbnvar # bnvar = 1/(n-1)*(bndiff2).sum(0, keepdim=True)\n",
    "cmp(\"dbndiff2\", dbndiff2, bndiff2)\n",
    "#bndiff2 = bndiff**2\n",
    "dbndiff += 2 * bndiff * dbndiff2\n",
    "cmp(\"dbndiff\", dbndiff, bndiff)\n",
    "# bndiff = hprebn - bnmeani\n",
    "dhprebn = dbndiff\n",
    "dbnmeani = -dbndiff.sum(dim=0, keepdim=True)\n",
    "cmp(\"dbnmeani\", dbnmeani, bnmeani)\n",
    "# bnmeani = 1/n * hprebn.sum(0, keepdim=True)\n",
    "dhprebn += 1 / n * torch.ones_like(hprebn) * dbnmeani\n",
    "cmp(\"dhprebn\", dhprebn, hprebn)\n",
    "# hprebn = embcat @ W1 + b1\n",
    "db1 = dhprebn.sum(dim=0, keepdim=True)\n",
    "cmp('db1', db1, b1)\n",
    "dembcat = dhprebn @ W1.T\n",
    "cmp('dembcat', dembcat, embcat)\n",
    "dW1 = embcat.T @ dhprebn\n",
    "cmp('dW1', dW1, W1)\n",
    "# embcat = emb.view(emb.shape[0], -1) # concatenate the vectors\n",
    "demb = dembcat.reshape(emb.shape)\n",
    "cmp('demb', demb, emb)\n",
    "# emb = C[Xb] # embed the characters into vectors\n",
    "dC = torch.zeros_like(C)\n",
    "for sample_i in range(Xb.size(0)):\n",
    "    for char_i in range(Xb.size(1)):\n",
    "        ix = Xb[sample_i, char_i]\n",
    "        for emb_i in range(dC.size(1)):\n",
    "            dC[ix, emb_i] += demb[sample_i, char_i, emb_i]\n",
    "cmp('dC', dC, C)"
   ]
  },
  {
   "cell_type": "code",
   "execution_count": null,
   "metadata": {},
   "outputs": [],
   "source": []
  }
 ],
 "metadata": {
  "kernelspec": {
   "display_name": "py39",
   "language": "python",
   "name": "python3"
  },
  "language_info": {
   "codemirror_mode": {
    "name": "ipython",
    "version": 3
   },
   "file_extension": ".py",
   "mimetype": "text/x-python",
   "name": "python",
   "nbconvert_exporter": "python",
   "pygments_lexer": "ipython3",
   "version": "3.9.19"
  }
 },
 "nbformat": 4,
 "nbformat_minor": 2
}
