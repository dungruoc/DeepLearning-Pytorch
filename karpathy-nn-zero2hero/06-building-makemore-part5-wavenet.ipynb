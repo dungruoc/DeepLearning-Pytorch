{
 "cells": [
  {
   "cell_type": "code",
   "execution_count": 55,
   "metadata": {},
   "outputs": [],
   "source": [
    "import torch\n",
    "import torch.nn.functional as F\n",
    "import matplotlib.pyplot as plt\n",
    "\n",
    "%matplotlib inline"
   ]
  },
  {
   "cell_type": "code",
   "execution_count": 56,
   "metadata": {},
   "outputs": [
    {
     "data": {
      "text/plain": [
       "['emma', 'olivia', 'ava', 'isabella', 'sophia', 'charlotte', 'mia', 'amelia']"
      ]
     },
     "execution_count": 56,
     "metadata": {},
     "output_type": "execute_result"
    }
   ],
   "source": [
    "names = open('data/names.txt', 'r').read().splitlines()\n",
    "names[:8]"
   ]
  },
  {
   "cell_type": "code",
   "execution_count": 57,
   "metadata": {},
   "outputs": [
    {
     "name": "stdout",
     "output_type": "stream",
     "text": [
      "{0: '<.>', 1: 'a', 2: 'b', 3: 'c', 4: 'd', 5: 'e', 6: 'f', 7: 'g', 8: 'h', 9: 'i', 10: 'j', 11: 'k', 12: 'l', 13: 'm', 14: 'n', 15: 'o', 16: 'p', 17: 'q', 18: 'r', 19: 's', 20: 't', 21: 'u', 22: 'v', 23: 'w', 24: 'x', 25: 'y', 26: 'z'}\n"
     ]
    }
   ],
   "source": [
    "letters = sorted(list(set(''.join(names))))\n",
    "SoS = '<.>'\n",
    "letters = [SoS] + letters \n",
    "letter2index = {l:i for i, l in enumerate(letters)}\n",
    "index2letter = {i:l for l, i in letter2index.items()}\n",
    "vocab_size = len(letter2index)\n",
    "print(index2letter)"
   ]
  },
  {
   "cell_type": "code",
   "execution_count": 58,
   "metadata": {},
   "outputs": [
    {
     "name": "stdout",
     "output_type": "stream",
     "text": [
      "torch.Size([182625, 3]) torch.Size([182625])\n",
      "torch.Size([22655, 3]) torch.Size([22655])\n",
      "torch.Size([22866, 3]) torch.Size([22866])\n"
     ]
    }
   ],
   "source": [
    "# build the dataset\n",
    "def build_dataset(words, block_size):  \n",
    "  X, Y = [], []\n",
    "  \n",
    "  for w in words:\n",
    "    context = [0] * block_size\n",
    "    for ch in list(w) + [SoS]:\n",
    "      ix = letter2index[ch]\n",
    "      X.append(context)\n",
    "      Y.append(ix)\n",
    "      context = context[1:] + [ix] # crop and append\n",
    "\n",
    "  X = torch.tensor(X)\n",
    "  Y = torch.tensor(Y)\n",
    "  print(X.shape, Y.shape)\n",
    "  return X, Y\n",
    "\n",
    "import random\n",
    "random.seed(42)\n",
    "random.shuffle(names)\n",
    "n1 = int(0.8*len(names))\n",
    "n2 = int(0.9*len(names))\n",
    "\n",
    "block_size = 3 # context length: how many characters do we take to predict the next one?\n",
    "\n",
    "Xtr,  Ytr  = build_dataset(names[:n1], block_size)     # 80%\n",
    "Xdev, Ydev = build_dataset(names[n1:n2], block_size)   # 10%\n",
    "Xte,  Yte  = build_dataset(names[n2:], block_size)     # 10%"
   ]
  },
  {
   "cell_type": "code",
   "execution_count": 59,
   "metadata": {},
   "outputs": [],
   "source": [
    "from typing import Any\n",
    "\n",
    "\n",
    "class Embedding:\n",
    "\n",
    "    def __init__(self, in_classes, emb_size) -> None:\n",
    "        self.C = torch.randn((in_classes, emb_size))\n",
    "\n",
    "    def __call__(self, x):\n",
    "        self.output = self.C[x]\n",
    "        return self.output\n",
    "    \n",
    "    def parameters(self):\n",
    "        return [self.C]\n",
    "\n",
    "class Flatten:\n",
    "\n",
    "    def __init__(self, n=-1) -> None:\n",
    "        self.n = n\n",
    "\n",
    "    def __call__(self, x):\n",
    "        if self.n < 0 or x.dim() <= 2:\n",
    "            self.output = x.view(x.shape[0], -1)\n",
    "            return self.output\n",
    "        B, T, C = x.shape\n",
    "        x = x.view(B, T//self.n, self.n * C)\n",
    "        if x.shape[1] == 1:\n",
    "            x = x.squeeze(1)\n",
    "        self.output = x\n",
    "        return self.output\n",
    "    \n",
    "    def parameters(self):\n",
    "        return []\n",
    "\n",
    "class Linear:\n",
    "\n",
    "    def __init__(self, in_features, out_features, bias=True) -> None:\n",
    "        self.weight = torch.randn((in_features, out_features)) / (in_features**0.5)\n",
    "        self.bias = torch.zeros(out_features) if bias else None\n",
    "\n",
    "    def __call__(self, x):\n",
    "        self.output = x @ self.weight\n",
    "        if self.bias is not None:\n",
    "            self.output += self.bias\n",
    "        return self.output\n",
    "    \n",
    "    def parameters(self):\n",
    "        return [self.weight] + ([] if self.bias is None else [self.bias])\n",
    "    \n",
    "class BatchNorm1d:\n",
    "\n",
    "    def __init__(self, dim, eps=1e-5, momentum=0.1) -> None:\n",
    "        self.eps = eps\n",
    "        self.momentum = momentum\n",
    "        self.training = True\n",
    "\n",
    "        self.gamma = torch.ones(dim)\n",
    "        self.beta = torch.zeros(dim)\n",
    "\n",
    "        self.running_mean = torch.zeros(dim)\n",
    "        self.running_var = torch.ones(dim)\n",
    "\n",
    "    def __call__(self, x):\n",
    "        if self.training:\n",
    "            xmean = x.mean(dim=0, keepdim=True)\n",
    "            xvar = x.var(dim=0, keepdim=True, unbiased=True)\n",
    "            with torch.no_grad():\n",
    "                self.running_mean = (1 - self.momentum) * self.running_mean + self.momentum * xmean\n",
    "                self.running_var = (1 - self.momentum) * self.running_var + self.momentum * xvar\n",
    "        else:\n",
    "            xmean = self.running_mean\n",
    "            xvar = self.running_var\n",
    "\n",
    "        xhat = (x - xmean) / torch.sqrt(xvar + self.eps)\n",
    "        self.output = self.gamma * xhat + self.beta\n",
    "        return self.output\n",
    "    \n",
    "    def parameters(self):\n",
    "        return [self.gamma, self.beta]\n",
    "\n",
    "\n",
    "class Tanh:\n",
    "\n",
    "    def __call__(self, x):\n",
    "        self.output = F.tanh(x)\n",
    "        return self.output\n",
    "    \n",
    "    def parameters(self):\n",
    "        return []\n",
    "    \n",
    "\n",
    "class Sequential:\n",
    "\n",
    "    def __init__(self, layers) -> None:\n",
    "        self.layers = layers\n",
    "\n",
    "    def __call__(self, x):\n",
    "        for layer in self.layers:\n",
    "            x = layer(x)\n",
    "        self.output = x\n",
    "        return self.output\n",
    "    \n",
    "    def parameters(self):\n",
    "        return [p for layer in self.layers for p in layer.parameters()]"
   ]
  },
  {
   "cell_type": "code",
   "execution_count": 60,
   "metadata": {},
   "outputs": [],
   "source": [
    "\n",
    "\n",
    "def random_batch(X, Y, batch_size):\n",
    "    batch_idx = torch.randint(0, X.size(0), (batch_size, ))\n",
    "    return X[batch_idx], Y[batch_idx]\n",
    "\n",
    "def train(model, X_train, Y_train, n_steps, batch_size, print_every=10000):\n",
    "    losses = []\n",
    "    ud = []\n",
    "    parameters = model.parameters()\n",
    "\n",
    "    for p in parameters:\n",
    "        p.requires_grad = True\n",
    "\n",
    "    for i in range(n_steps):\n",
    "        X_batch, Y_batch = random_batch(X_train, Y_train, batch_size)\n",
    "        output = model(X_batch)\n",
    "        loss = F.cross_entropy(output, Y_batch)\n",
    "\n",
    "        for p in parameters:\n",
    "            p.grad = None\n",
    "        \n",
    "        loss.backward()\n",
    "\n",
    "        lr = 0.1 if i < 150000 else 0.01\n",
    "        for p in parameters:\n",
    "            p.data -= lr * p.grad\n",
    "\n",
    "        losses.append(loss.item())\n",
    "    \n",
    "        if i % print_every == 0:\n",
    "            print(f\"{i:7d}/{n_steps:7d}: {loss.item():4f}\")\n",
    "\n",
    "    return model, losses, ud\n"
   ]
  },
  {
   "cell_type": "code",
   "execution_count": 61,
   "metadata": {},
   "outputs": [
    {
     "name": "stdout",
     "output_type": "stream",
     "text": [
      "      0/ 100000: 3.491530\n",
      "  10000/ 100000: 2.217909\n",
      "  20000/ 100000: 2.368145\n",
      "  30000/ 100000: 2.134164\n",
      "  40000/ 100000: 2.406682\n",
      "  50000/ 100000: 2.240572\n",
      "  60000/ 100000: 1.960829\n",
      "  70000/ 100000: 1.923592\n",
      "  80000/ 100000: 2.658750\n",
      "  90000/ 100000: 2.050236\n"
     ]
    }
   ],
   "source": [
    "embedding_size = 10\n",
    "hidden_size = 200\n",
    "\n",
    "torch.manual_seed(42)\n",
    "\n",
    "model = Sequential(layers=[\n",
    "    Embedding(vocab_size, embedding_size),\n",
    "    Flatten(block_size),\n",
    "    Linear(embedding_size * block_size, hidden_size, bias=False), BatchNorm1d(hidden_size), Tanh(),\n",
    "    Linear(hidden_size, vocab_size)\n",
    "])\n",
    "\n",
    "model, losses, _ = train(model, Xtr, Ytr, 100000, batch_size=32)"
   ]
  },
  {
   "cell_type": "code",
   "execution_count": 62,
   "metadata": {},
   "outputs": [],
   "source": [
    "datasets = {\n",
    "    \"train\": (Xtr, Ytr),\n",
    "    \"val\": (Xdev, Ydev),\n",
    "    \"test\": (Xte, Yte)\n",
    "}"
   ]
  },
  {
   "cell_type": "code",
   "execution_count": 95,
   "metadata": {},
   "outputs": [],
   "source": [
    "@torch.no_grad()\n",
    "def split_loss(model, datasets, data_name):\n",
    "    for layer in model.layers:\n",
    "        layer.training = False\n",
    "    x, y = datasets[data_name]\n",
    "    pred = model(x)\n",
    "    loss = F.cross_entropy(pred, y)\n",
    "    print(data_name, loss.item())"
   ]
  },
  {
   "cell_type": "code",
   "execution_count": 64,
   "metadata": {},
   "outputs": [
    {
     "name": "stdout",
     "output_type": "stream",
     "text": [
      "train 2.143400192260742\n",
      "val 2.1826789379119873\n"
     ]
    }
   ],
   "source": [
    "split_loss(model, datasets, data_name='train')\n",
    "split_loss(model, datasets, data_name='val')"
   ]
  },
  {
   "cell_type": "code",
   "execution_count": 65,
   "metadata": {},
   "outputs": [
    {
     "data": {
      "text/plain": [
       "[<matplotlib.lines.Line2D at 0x14ca9bc10>]"
      ]
     },
     "execution_count": 65,
     "metadata": {},
     "output_type": "execute_result"
    },
    {
     "data": {
      "image/png": "[encoded data removed]",
      "text/plain": [
       "<Figure size 640x480 with 1 Axes>"
      ]
     },
     "metadata": {},
     "output_type": "display_data"
    }
   ],
   "source": [
    "plt.plot(losses)"
   ]
  },
  {
   "cell_type": "markdown",
   "metadata": {},
   "source": [
    "# Wavenet\n",
    "\n",
    "![Wave Net](wavenet.png)"
   ]
  },
  {
   "cell_type": "code",
   "execution_count": 66,
   "metadata": {},
   "outputs": [
    {
     "name": "stdout",
     "output_type": "stream",
     "text": [
      "torch.Size([182580, 8]) torch.Size([182580])\n",
      "torch.Size([22767, 8]) torch.Size([22767])\n",
      "torch.Size([22799, 8]) torch.Size([22799])\n"
     ]
    }
   ],
   "source": [
    "random.seed(42)\n",
    "random.shuffle(names)\n",
    "n1 = int(0.8*len(names))\n",
    "n2 = int(0.9*len(names))\n",
    "\n",
    "block_size = 8 # context length: how many characters do we take to predict the next one?\n",
    "\n",
    "Xtr,  Ytr  = build_dataset(names[:n1], block_size)     # 80%\n",
    "Xdev, Ydev = build_dataset(names[n1:n2], block_size)   # 10%\n",
    "Xte,  Yte  = build_dataset(names[n2:], block_size)     # 10%"
   ]
  },
  {
   "cell_type": "code",
   "execution_count": 67,
   "metadata": {},
   "outputs": [],
   "source": [
    "embedding_size = 10\n",
    "hidden_size = 200\n",
    "\n",
    "torch.manual_seed(42)\n",
    "\n",
    "model = Sequential(layers=[\n",
    "    Embedding(vocab_size, embedding_size),\n",
    "    Flatten(block_size),\n",
    "    Linear(embedding_size * block_size, hidden_size, bias=False), BatchNorm1d(hidden_size), Tanh(),\n",
    "    Linear(hidden_size, vocab_size)\n",
    "])"
   ]
  },
  {
   "cell_type": "code",
   "execution_count": 68,
   "metadata": {},
   "outputs": [],
   "source": [
    "Xb, Yb = random_batch(Xtr, Ytr, batch_size=4)\n",
    "logits = model(Xb)"
   ]
  },
  {
   "cell_type": "code",
   "execution_count": 69,
   "metadata": {},
   "outputs": [
    {
     "data": {
      "text/plain": [
       "tensor([[ 0,  0,  0, 11,  1, 13, 18, 25],\n",
       "        [ 0,  0,  0,  0,  0, 25,  1, 14],\n",
       "        [ 0,  0,  0,  0,  0,  0,  0, 20],\n",
       "        [ 0,  0,  0,  0,  2,  5,  3, 11]])"
      ]
     },
     "execution_count": 69,
     "metadata": {},
     "output_type": "execute_result"
    }
   ],
   "source": [
    "Xb"
   ]
  },
  {
   "cell_type": "code",
   "execution_count": 70,
   "metadata": {},
   "outputs": [
    {
     "data": {
      "text/plain": [
       "torch.Size([4, 8, 10])"
      ]
     },
     "execution_count": 70,
     "metadata": {},
     "output_type": "execute_result"
    }
   ],
   "source": [
    "model.layers[0].output.shape"
   ]
  },
  {
   "cell_type": "code",
   "execution_count": 71,
   "metadata": {},
   "outputs": [
    {
     "data": {
      "text/plain": [
       "torch.Size([4, 80])"
      ]
     },
     "execution_count": 71,
     "metadata": {},
     "output_type": "execute_result"
    }
   ],
   "source": [
    "model.layers[1].output.shape"
   ]
  },
  {
   "cell_type": "code",
   "execution_count": 72,
   "metadata": {},
   "outputs": [
    {
     "data": {
      "text/plain": [
       "torch.Size([4, 200])"
      ]
     },
     "execution_count": 72,
     "metadata": {},
     "output_type": "execute_result"
    }
   ],
   "source": [
    "model.layers[2].output.shape"
   ]
  },
  {
   "cell_type": "code",
   "execution_count": 73,
   "metadata": {},
   "outputs": [
    {
     "name": "stdout",
     "output_type": "stream",
     "text": [
      "torch.Size([4, 200])\n",
      "torch.Size([4, 4, 200])\n"
     ]
    }
   ],
   "source": [
    "# (batch_size, 8 * embedding_size)\n",
    "print((torch.randn((4, 80)) @ torch.randn((80, 200))).shape)\n",
    "# (1, 2), (3, 4), (5, 6), (7, 8)\n",
    "print((torch.randn((4, 80)).view(4, -1, 20) @ torch.randn((20, 200))).shape)\n"
   ]
  },
  {
   "cell_type": "code",
   "execution_count": 42,
   "metadata": {},
   "outputs": [
    {
     "data": {
      "text/plain": [
       "2"
      ]
     },
     "execution_count": 42,
     "metadata": {},
     "output_type": "execute_result"
    }
   ],
   "source": [
    "torch.zeros((2, 2)).dim()"
   ]
  },
  {
   "cell_type": "code",
   "execution_count": 77,
   "metadata": {},
   "outputs": [],
   "source": [
    "embedding_size = 10\n",
    "hidden_size = 68\n",
    "\n",
    "torch.manual_seed(42)\n",
    "\n",
    "model = Sequential(layers=[\n",
    "    Embedding(vocab_size, embedding_size), # 8\n",
    "    Flatten(2), Linear(embedding_size * 2, hidden_size, bias=False), BatchNorm1d(hidden_size), Tanh(), # 4\n",
    "    Flatten(2), Linear(hidden_size * 2, hidden_size, bias=False), BatchNorm1d(hidden_size), Tanh(), # 2\n",
    "    Flatten(2), Linear(hidden_size * 2, hidden_size, bias=False), BatchNorm1d(hidden_size), Tanh(), # 1\n",
    "    Linear(hidden_size, vocab_size)\n",
    "])"
   ]
  },
  {
   "cell_type": "code",
   "execution_count": 78,
   "metadata": {},
   "outputs": [],
   "source": [
    "logits = model(Xb)"
   ]
  },
  {
   "cell_type": "code",
   "execution_count": 79,
   "metadata": {},
   "outputs": [
    {
     "name": "stdout",
     "output_type": "stream",
     "text": [
      "Embedding torch.Size([4, 8, 10])\n",
      "Flatten torch.Size([4, 4, 20])\n",
      "Linear torch.Size([4, 4, 68])\n",
      "BatchNorm1d torch.Size([4, 4, 68])\n",
      "Tanh torch.Size([4, 4, 68])\n",
      "Flatten torch.Size([4, 2, 136])\n",
      "Linear torch.Size([4, 2, 68])\n",
      "BatchNorm1d torch.Size([4, 2, 68])\n",
      "Tanh torch.Size([4, 2, 68])\n",
      "Flatten torch.Size([4, 136])\n",
      "Linear torch.Size([4, 68])\n",
      "BatchNorm1d torch.Size([4, 68])\n",
      "Tanh torch.Size([4, 68])\n",
      "Linear torch.Size([4, 27])\n"
     ]
    }
   ],
   "source": [
    "for layer in model.layers:\n",
    "    print(layer.__class__.__name__, layer.output.shape)"
   ]
  },
  {
   "cell_type": "code",
   "execution_count": 80,
   "metadata": {},
   "outputs": [
    {
     "name": "stdout",
     "output_type": "stream",
     "text": [
      "      0/ 100000: 3.653908\n",
      "  10000/ 100000: 2.222533\n",
      "  20000/ 100000: 2.209970\n",
      "  30000/ 100000: 1.683415\n",
      "  40000/ 100000: 1.949772\n",
      "  50000/ 100000: 2.052855\n",
      "  60000/ 100000: 1.833406\n",
      "  70000/ 100000: 2.441178\n",
      "  80000/ 100000: 2.436555\n",
      "  90000/ 100000: 2.374535\n"
     ]
    }
   ],
   "source": [
    "model, losses, _ = train(model, Xtr, Ytr, 100000, batch_size=32)"
   ]
  },
  {
   "cell_type": "code",
   "execution_count": 82,
   "metadata": {},
   "outputs": [
    {
     "name": "stdout",
     "output_type": "stream",
     "text": [
      "train 2.010878086090088\n",
      "val 2.0767173767089844\n"
     ]
    }
   ],
   "source": [
    "datasets = {\n",
    "    \"train\": (Xtr, Ytr),\n",
    "    \"val\": (Xdev, Ydev),\n",
    "    \"test\": (Xte, Yte)\n",
    "}\n",
    "\n",
    "split_loss(model, datasets, data_name='train')\n",
    "split_loss(model, datasets, data_name='val')"
   ]
  },
  {
   "cell_type": "markdown",
   "metadata": {},
   "source": [
    "# Fix the Batch Norm for multiple channels"
   ]
  },
  {
   "cell_type": "code",
   "execution_count": 89,
   "metadata": {},
   "outputs": [
    {
     "data": {
      "text/plain": [
       "(torch.Size([1, 4, 68]), torch.Size([1, 4, 68]))"
      ]
     },
     "execution_count": 89,
     "metadata": {},
     "output_type": "execute_result"
    }
   ],
   "source": [
    "e = torch.randn((32, 4, 68))\n",
    "emean = e.mean(dim=0, keepdim=True)\n",
    "evar = e.var(dim=0, keepdim=True)\n",
    "evar.shape, emean.shape"
   ]
  },
  {
   "cell_type": "code",
   "execution_count": 90,
   "metadata": {},
   "outputs": [
    {
     "data": {
      "text/plain": [
       "torch.Size([1, 1, 68])"
      ]
     },
     "execution_count": 90,
     "metadata": {},
     "output_type": "execute_result"
    }
   ],
   "source": [
    "e.mean(dim=tuple(range(e.dim() - 1)), keepdim=True).shape"
   ]
  },
  {
   "cell_type": "code",
   "execution_count": 91,
   "metadata": {},
   "outputs": [
    {
     "data": {
      "text/plain": [
       "torch.Size([1, 100])"
      ]
     },
     "execution_count": 91,
     "metadata": {},
     "output_type": "execute_result"
    }
   ],
   "source": [
    "e = torch.randn((32, 100))\n",
    "e.mean(dim=tuple(range(e.dim() - 1)), keepdim=True).shape"
   ]
  },
  {
   "cell_type": "code",
   "execution_count": 92,
   "metadata": {},
   "outputs": [],
   "source": [
    "class BatchNorm1d:\n",
    "\n",
    "    def __init__(self, dim, eps=1e-5, momentum=0.1) -> None:\n",
    "        self.eps = eps\n",
    "        self.momentum = momentum\n",
    "        self.training = True\n",
    "\n",
    "        self.gamma = torch.ones(dim)\n",
    "        self.beta = torch.zeros(dim)\n",
    "\n",
    "        self.running_mean = torch.zeros(dim)\n",
    "        self.running_var = torch.ones(dim)\n",
    "\n",
    "    def __call__(self, x):\n",
    "        if self.training:\n",
    "            squeeze_dims = tuple(range(x.dim() - 1))\n",
    "            xmean = x.mean(dim=squeeze_dims, keepdim=True).squeeze(squeeze_dims)\n",
    "            xvar = x.var(dim=squeeze_dims, keepdim=True, unbiased=True).squeeze(squeeze_dims)\n",
    "            with torch.no_grad():\n",
    "                self.running_mean = (1 - self.momentum) * self.running_mean + self.momentum * xmean\n",
    "                self.running_var = (1 - self.momentum) * self.running_var + self.momentum * xvar\n",
    "        else:\n",
    "            xmean = self.running_mean\n",
    "            xvar = self.running_var\n",
    "\n",
    "        xhat = (x - xmean) / torch.sqrt(xvar + self.eps)\n",
    "        self.output = self.gamma * xhat + self.beta\n",
    "        return self.output\n",
    "    \n",
    "    def parameters(self):\n",
    "        return [self.gamma, self.beta]\n"
   ]
  },
  {
   "cell_type": "code",
   "execution_count": 93,
   "metadata": {},
   "outputs": [],
   "source": [
    "embedding_size = 10\n",
    "hidden_size = 68\n",
    "\n",
    "torch.manual_seed(42)\n",
    "\n",
    "model = Sequential(layers=[\n",
    "    Embedding(vocab_size, embedding_size), # 8\n",
    "    Flatten(2), Linear(embedding_size * 2, hidden_size, bias=False), BatchNorm1d(hidden_size), Tanh(), # 4\n",
    "    Flatten(2), Linear(hidden_size * 2, hidden_size, bias=False), BatchNorm1d(hidden_size), Tanh(), # 2\n",
    "    Flatten(2), Linear(hidden_size * 2, hidden_size, bias=False), BatchNorm1d(hidden_size), Tanh(), # 1\n",
    "    Linear(hidden_size, vocab_size)\n",
    "])"
   ]
  },
  {
   "cell_type": "code",
   "execution_count": 94,
   "metadata": {},
   "outputs": [
    {
     "name": "stdout",
     "output_type": "stream",
     "text": [
      "      0/ 100000: 3.631887\n",
      "  10000/ 100000: 2.217933\n",
      "  20000/ 100000: 2.219506\n",
      "  30000/ 100000: 1.725441\n",
      "  40000/ 100000: 1.895136\n",
      "  50000/ 100000: 2.100642\n",
      "  60000/ 100000: 1.718768\n",
      "  70000/ 100000: 2.398021\n",
      "  80000/ 100000: 2.477944\n",
      "  90000/ 100000: 2.565272\n"
     ]
    }
   ],
   "source": [
    "model, losses, _ = train(model, Xtr, Ytr, 100000, batch_size=32)"
   ]
  },
  {
   "cell_type": "code",
   "execution_count": 96,
   "metadata": {},
   "outputs": [
    {
     "name": "stdout",
     "output_type": "stream",
     "text": [
      "train 1.9880826473236084\n",
      "val 2.067246913909912\n"
     ]
    }
   ],
   "source": [
    "split_loss(model, datasets, data_name='train')\n",
    "split_loss(model, datasets, data_name='val')"
   ]
  },
  {
   "cell_type": "code",
   "execution_count": null,
   "metadata": {},
   "outputs": [],
   "source": []
  }
 ],
 "metadata": {
  "kernelspec": {
   "display_name": "py39",
   "language": "python",
   "name": "python3"
  },
  "language_info": {
   "codemirror_mode": {
    "name": "ipython",
    "version": 3
   },
   "file_extension": ".py",
   "mimetype": "text/x-python",
   "name": "python",
   "nbconvert_exporter": "python",
   "pygments_lexer": "ipython3",
   "version": "3.9.19"
  }
 },
 "nbformat": 4,
 "nbformat_minor": 2
}
