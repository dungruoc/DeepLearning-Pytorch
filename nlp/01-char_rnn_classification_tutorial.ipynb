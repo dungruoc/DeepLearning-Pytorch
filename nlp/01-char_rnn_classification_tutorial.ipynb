{
 "cells": [
  {
   "cell_type": "markdown",
   "metadata": {},
   "source": [
    "# Prepare Data"
   ]
  },
  {
   "cell_type": "code",
   "execution_count": 1,
   "metadata": {},
   "outputs": [],
   "source": [
    "import pathlib\n",
    "data_root = f\"{pathlib.Path.home()}/Projects/AI-ML/datasets\""
   ]
  },
  {
   "cell_type": "code",
   "execution_count": 2,
   "metadata": {},
   "outputs": [],
   "source": [
    "from io import open\n",
    "import glob\n",
    "import os\n",
    "\n",
    "def findFiles(path): return glob.glob(f\"{data_root}/{path}\")\n",
    "\n",
    "names_path = 'nlp_data/names/*.txt'\n",
    "# print(findFiles(names_path))"
   ]
  },
  {
   "cell_type": "code",
   "execution_count": 3,
   "metadata": {},
   "outputs": [
    {
     "name": "stdout",
     "output_type": "stream",
     "text": [
      "Slusarski\n"
     ]
    }
   ],
   "source": [
    "import unicodedata\n",
    "import string\n",
    "\n",
    "all_letters = string.ascii_letters + \" .,;'\"\n",
    "n_letters = len(all_letters)\n",
    "\n",
    "# Turn a Unicode string to plain ASCII, thanks to https://stackoverflow.com/a/518232/2809427\n",
    "def unicodeToAscii(s):\n",
    "    return ''.join(\n",
    "        c for c in unicodedata.normalize('NFD', s)\n",
    "        if unicodedata.category(c) != 'Mn'\n",
    "        and c in all_letters\n",
    "    )\n",
    "\n",
    "print(unicodeToAscii('Ślusàrski'))"
   ]
  },
  {
   "cell_type": "code",
   "execution_count": 4,
   "metadata": {},
   "outputs": [],
   "source": [
    "# Build the category_lines dictionary, a list of names per language\n",
    "category_lines = {}\n",
    "all_categories = []\n",
    "\n",
    "# Read a file and split into lines\n",
    "def readLines(filename):\n",
    "    lines = open(filename, encoding='utf-8').read().strip().split('\\n')\n",
    "    return [unicodeToAscii(line) for line in lines]\n",
    "\n",
    "for filename in findFiles(names_path):\n",
    "    category = os.path.splitext(os.path.basename(filename))[0]\n",
    "    all_categories.append(category)\n",
    "    lines = readLines(filename)\n",
    "    category_lines[category] = lines\n",
    "\n",
    "n_categories = len(all_categories)"
   ]
  },
  {
   "cell_type": "code",
   "execution_count": 5,
   "metadata": {},
   "outputs": [
    {
     "name": "stdout",
     "output_type": "stream",
     "text": [
      "['Abandonato', 'Abatangelo', 'Abatantuono', 'Abate', 'Abategiovanni']\n"
     ]
    }
   ],
   "source": [
    "print(category_lines['Italian'][:5])"
   ]
  },
  {
   "cell_type": "code",
   "execution_count": 6,
   "metadata": {},
   "outputs": [
    {
     "data": {
      "text/plain": [
       "{'a': 0,\n",
       " 'b': 1,\n",
       " 'c': 2,\n",
       " 'd': 3,\n",
       " 'e': 4,\n",
       " 'f': 5,\n",
       " 'g': 6,\n",
       " 'h': 7,\n",
       " 'i': 8,\n",
       " 'j': 9,\n",
       " 'k': 10,\n",
       " 'l': 11,\n",
       " 'm': 12,\n",
       " 'n': 13,\n",
       " 'o': 14,\n",
       " 'p': 15,\n",
       " 'q': 16,\n",
       " 'r': 17,\n",
       " 's': 18,\n",
       " 't': 19,\n",
       " 'u': 20,\n",
       " 'v': 21,\n",
       " 'w': 22,\n",
       " 'x': 23,\n",
       " 'y': 24,\n",
       " 'z': 25,\n",
       " 'A': 26,\n",
       " 'B': 27,\n",
       " 'C': 28,\n",
       " 'D': 29,\n",
       " 'E': 30,\n",
       " 'F': 31,\n",
       " 'G': 32,\n",
       " 'H': 33,\n",
       " 'I': 34,\n",
       " 'J': 35,\n",
       " 'K': 36,\n",
       " 'L': 37,\n",
       " 'M': 38,\n",
       " 'N': 39,\n",
       " 'O': 40,\n",
       " 'P': 41,\n",
       " 'Q': 42,\n",
       " 'R': 43,\n",
       " 'S': 44,\n",
       " 'T': 45,\n",
       " 'U': 46,\n",
       " 'V': 47,\n",
       " 'W': 48,\n",
       " 'X': 49,\n",
       " 'Y': 50,\n",
       " 'Z': 51,\n",
       " ' ': 52,\n",
       " '.': 53,\n",
       " ',': 54,\n",
       " ';': 55,\n",
       " \"'\": 56}"
      ]
     },
     "execution_count": 6,
     "metadata": {},
     "output_type": "execute_result"
    }
   ],
   "source": [
    "letter2index = {l:i for (i, l) in enumerate(all_letters)}\n",
    "letter2index"
   ]
  },
  {
   "cell_type": "code",
   "execution_count": 7,
   "metadata": {},
   "outputs": [
    {
     "data": {
      "text/plain": [
       "tensor([[29, 20, 13,  6]])"
      ]
     },
     "execution_count": 7,
     "metadata": {},
     "output_type": "execute_result"
    }
   ],
   "source": [
    "import torch\n",
    "\n",
    "def name2tensor(name):\n",
    "    return torch.tensor([letter2index[l] for l in name])\n",
    "\n",
    "name2tensor('Dung').unsqueeze(0)"
   ]
  },
  {
   "cell_type": "code",
   "execution_count": 57,
   "metadata": {},
   "outputs": [],
   "source": [
    "import torch.nn as nn\n",
    "import torch.nn.functional as F\n",
    "\n",
    "\n",
    "class RnnCell(nn.Module):\n",
    "\n",
    "    def __init__(self, input_dim, hidden_dim, output_dim) -> None:\n",
    "        super().__init__()\n",
    "\n",
    "        self.i2h = nn.Linear(input_dim + hidden_dim, hidden_dim, bias=True)\n",
    "        self.h2o = nn.Linear(hidden_dim, output_dim)\n",
    "\n",
    "    def forward(self, x, hidden):\n",
    "        x = torch.cat((x, hidden), dim=-1)\n",
    "        hidden = F.tanh(self.i2h(x))\n",
    "        output = self.h2o(hidden)\n",
    "        return output, hidden\n",
    "\n",
    "class RnnClassifier(nn.Module):\n",
    "\n",
    "    def __init__(self, vocab_size, embedding_size, hidden_dim, output_dim) -> None:\n",
    "        super().__init__()\n",
    "\n",
    "        self.hidden_dim = hidden_dim\n",
    "        self.embedding = nn.Embedding(vocab_size, embedding_size)\n",
    "        self.cell = RnnCell(embedding_size, hidden_dim, output_dim)\n",
    "        self.softmax = nn.LogSoftmax(dim=-1)\n",
    "\n",
    "    def step_forward(self, x, hidden):\n",
    "        embedded = self.embedding(x).squeeze(-2)\n",
    "        output, hidden = self.cell(embedded, hidden)\n",
    "        return output, hidden\n",
    "\n",
    "    def forward_batch(self, batch, hidden):\n",
    "        outputs = []\n",
    "        # inputs: (B, T)\n",
    "        B, T = batch.size()\n",
    "        if hidden is None:\n",
    "            hidden = torch.zeros((B, self.hidden_dim))\n",
    "        for t in range(T):\n",
    "            output, hidden = self.step_forward(batch[:, t].unsqueeze(-1), hidden)\n",
    "            outputs.append(output)\n",
    "        return outputs, hidden\n",
    "\n",
    "    def forward_single(self, x, hidden):\n",
    "        outputs = []\n",
    "        if hidden is None:\n",
    "            hidden = torch.zeros(self.hidden_dim)\n",
    "        for t in range(len(x)):\n",
    "            output, hidden = self.step_forward(x[t].unsqueeze(-1), hidden)\n",
    "            outputs.append(output)\n",
    "        return outputs, hidden\n",
    "\n",
    "    def forward(self, inputs, hidden=None):\n",
    "        outputs = []\n",
    "        if inputs.dim() == 2:\n",
    "            outputs, hidden = self.forward_batch(inputs, hidden)\n",
    "        else:\n",
    "            outputs, hidden = self.forward_single(inputs, hidden)\n",
    "        cl = self.softmax(outputs[-1])\n",
    "        return cl, torch.stack(outputs, dim=-2), hidden\n",
    "\n"
   ]
  },
  {
   "cell_type": "code",
   "execution_count": 58,
   "metadata": {},
   "outputs": [
    {
     "data": {
      "text/plain": [
       "2"
      ]
     },
     "execution_count": 58,
     "metadata": {},
     "output_type": "execute_result"
    }
   ],
   "source": [
    "name2tensor('Dung').unsqueeze(0).dim()"
   ]
  },
  {
   "cell_type": "code",
   "execution_count": 62,
   "metadata": {},
   "outputs": [
    {
     "data": {
      "text/plain": [
       "(tensor([-2.3454, -2.1946, -2.4561, -2.3224, -2.1760, -2.6006, -2.1566, -2.3622,\n",
       "         -2.2667, -2.2288], grad_fn=<LogSoftmaxBackward0>),\n",
       " tensor([[-0.1065, -0.0234, -0.1333,  0.1506,  0.1707, -0.0149, -0.1050, -0.1151,\n",
       "          -0.4469,  0.0016],\n",
       "         [-0.1113,  0.1234, -0.0233,  0.2687, -0.0699, -0.1594,  0.0076,  0.3197,\n",
       "          -0.0354,  0.2268],\n",
       "         [ 0.0807,  0.0824,  0.0694,  0.1132, -0.1933, -0.1104,  0.0010, -0.0527,\n",
       "          -0.0912,  0.3391],\n",
       "         [-0.0990,  0.0518, -0.2097, -0.0761,  0.0704, -0.3543,  0.0898, -0.1158,\n",
       "          -0.0203,  0.0176]], grad_fn=<StackBackward0>),\n",
       " tensor([ 0.0726, -0.3795,  0.0661,  0.0957,  0.2626, -0.1148,  0.0790, -0.1236,\n",
       "          0.3079,  0.4043,  0.0149, -0.0900,  0.0318, -0.0378,  0.2422,  0.0083,\n",
       "          0.3240,  0.1682,  0.1805, -0.0464,  0.2311, -0.0998, -0.1567, -0.0587,\n",
       "          0.4685, -0.0760, -0.0234, -0.2116, -0.0711, -0.0486,  0.3079,  0.1468,\n",
       "          0.1353, -0.2628, -0.0497,  0.0947, -0.4276, -0.3033,  0.1834,  0.0970,\n",
       "         -0.3209, -0.3539, -0.1111, -0.2647,  0.3249, -0.1232,  0.0520, -0.3052,\n",
       "         -0.0490, -0.0580,  0.1971,  0.0038,  0.1064,  0.1072, -0.5252,  0.0432,\n",
       "         -0.2940,  0.1886, -0.4503,  0.0788,  0.0173,  0.0062,  0.0760,  0.3619],\n",
       "        grad_fn=<TanhBackward0>))"
      ]
     },
     "execution_count": 62,
     "metadata": {},
     "output_type": "execute_result"
    }
   ],
   "source": [
    "rnn_net = RnnClassifier(len(all_letters), 20, 64, 10)\n",
    "\n",
    "rnn_net(name2tensor('Dung'))"
   ]
  },
  {
   "cell_type": "code",
   "execution_count": 63,
   "metadata": {},
   "outputs": [
    {
     "data": {
      "text/plain": [
       "(tensor([[-2.3454, -2.1946, -2.4561, -2.3224, -2.1760, -2.6006, -2.1566, -2.3622,\n",
       "          -2.2667, -2.2288]], grad_fn=<LogSoftmaxBackward0>),\n",
       " tensor([[[-0.1065, -0.0234, -0.1333,  0.1506,  0.1707, -0.0149, -0.1050,\n",
       "           -0.1151, -0.4469,  0.0016],\n",
       "          [-0.1113,  0.1234, -0.0233,  0.2687, -0.0699, -0.1594,  0.0076,\n",
       "            0.3197, -0.0354,  0.2268],\n",
       "          [ 0.0807,  0.0824,  0.0694,  0.1132, -0.1933, -0.1104,  0.0010,\n",
       "           -0.0527, -0.0912,  0.3391],\n",
       "          [-0.0990,  0.0518, -0.2097, -0.0761,  0.0704, -0.3543,  0.0898,\n",
       "           -0.1158, -0.0203,  0.0176]]], grad_fn=<StackBackward0>),\n",
       " tensor([[ 0.0726, -0.3795,  0.0661,  0.0957,  0.2626, -0.1148,  0.0790, -0.1236,\n",
       "           0.3079,  0.4043,  0.0149, -0.0900,  0.0318, -0.0378,  0.2422,  0.0083,\n",
       "           0.3240,  0.1682,  0.1805, -0.0464,  0.2311, -0.0998, -0.1567, -0.0587,\n",
       "           0.4685, -0.0760, -0.0234, -0.2116, -0.0711, -0.0486,  0.3079,  0.1468,\n",
       "           0.1353, -0.2628, -0.0497,  0.0947, -0.4276, -0.3033,  0.1834,  0.0970,\n",
       "          -0.3209, -0.3539, -0.1111, -0.2647,  0.3249, -0.1232,  0.0520, -0.3052,\n",
       "          -0.0490, -0.0580,  0.1971,  0.0038,  0.1064,  0.1072, -0.5252,  0.0432,\n",
       "          -0.2940,  0.1886, -0.4503,  0.0788,  0.0173,  0.0062,  0.0760,  0.3619]],\n",
       "        grad_fn=<TanhBackward0>))"
      ]
     },
     "execution_count": 63,
     "metadata": {},
     "output_type": "execute_result"
    }
   ],
   "source": [
    "rnn_net(name2tensor('Dung').unsqueeze(0))"
   ]
  },
  {
   "cell_type": "code",
   "execution_count": 64,
   "metadata": {},
   "outputs": [
    {
     "data": {
      "text/plain": [
       "(tensor([[-2.3454, -2.1946, -2.4561, -2.3224, -2.1760, -2.6006, -2.1566, -2.3622,\n",
       "          -2.2667, -2.2288],\n",
       "         [-2.4081, -2.3536, -2.5791, -2.1136, -2.2651, -2.2273, -2.2680, -2.3214,\n",
       "          -2.2664, -2.2891]], grad_fn=<LogSoftmaxBackward0>),\n",
       " tensor([[[-0.1065, -0.0234, -0.1333,  0.1506,  0.1707, -0.0149, -0.1050,\n",
       "           -0.1151, -0.4469,  0.0016],\n",
       "          [-0.1113,  0.1234, -0.0233,  0.2687, -0.0699, -0.1594,  0.0076,\n",
       "            0.3197, -0.0354,  0.2268],\n",
       "          [ 0.0807,  0.0824,  0.0694,  0.1132, -0.1933, -0.1104,  0.0010,\n",
       "           -0.0527, -0.0912,  0.3391],\n",
       "          [-0.0990,  0.0518, -0.2097, -0.0761,  0.0704, -0.3543,  0.0898,\n",
       "           -0.1158, -0.0203,  0.0176]],\n",
       " \n",
       "         [[ 0.1039, -0.0044,  0.1570, -0.2463, -0.1748, -0.0637, -0.1065,\n",
       "           -0.2584, -0.1261,  0.3039],\n",
       "          [-0.0704,  0.1341, -0.5069, -0.1216,  0.2731, -0.4253,  0.0583,\n",
       "            0.0387, -0.1292,  0.0356],\n",
       "          [-0.2142, -0.1422, -0.2905,  0.0691, -0.0047, -0.1220, -0.2075,\n",
       "            0.1099,  0.1332, -0.0430],\n",
       "          [-0.2743, -0.2198, -0.4453,  0.0202, -0.1313, -0.0935, -0.1342,\n",
       "           -0.1876, -0.1326, -0.1553]]], grad_fn=<StackBackward0>),\n",
       " tensor([[ 0.0726, -0.3795,  0.0661,  0.0957,  0.2626, -0.1148,  0.0790, -0.1236,\n",
       "           0.3079,  0.4043,  0.0149, -0.0900,  0.0318, -0.0378,  0.2422,  0.0083,\n",
       "           0.3240,  0.1682,  0.1805, -0.0464,  0.2311, -0.0998, -0.1567, -0.0587,\n",
       "           0.4685, -0.0760, -0.0234, -0.2116, -0.0711, -0.0486,  0.3079,  0.1468,\n",
       "           0.1353, -0.2628, -0.0497,  0.0947, -0.4276, -0.3033,  0.1834,  0.0970,\n",
       "          -0.3209, -0.3539, -0.1111, -0.2647,  0.3249, -0.1232,  0.0520, -0.3052,\n",
       "          -0.0490, -0.0580,  0.1971,  0.0038,  0.1064,  0.1072, -0.5252,  0.0432,\n",
       "          -0.2940,  0.1886, -0.4503,  0.0788,  0.0173,  0.0062,  0.0760,  0.3619],\n",
       "         [-0.3971,  0.2469, -0.3715,  0.0366,  0.3694,  0.4139,  0.0800, -0.4676,\n",
       "           0.2348,  0.1643, -0.1176,  0.0581, -0.4777, -0.3542,  0.0185,  0.5152,\n",
       "           0.2938,  0.4654, -0.0608, -0.4634,  0.0055, -0.1901,  0.1571, -0.4133,\n",
       "           0.5097, -0.0871,  0.1236,  0.5663,  0.2183, -0.1058, -0.3020,  0.4291,\n",
       "           0.0896,  0.1685, -0.1856,  0.2631, -0.5068, -0.4237,  0.0189,  0.2095,\n",
       "           0.1223,  0.1773, -0.1911, -0.0220, -0.1267, -0.0811, -0.0035, -0.2891,\n",
       "          -0.3562, -0.3114, -0.1772, -0.0197, -0.3421,  0.1017, -0.4828, -0.2305,\n",
       "           0.1032,  0.1153, -0.0183, -0.1959, -0.6382,  0.2662, -0.0730, -0.6228]],\n",
       "        grad_fn=<TanhBackward0>))"
      ]
     },
     "execution_count": 64,
     "metadata": {},
     "output_type": "execute_result"
    }
   ],
   "source": [
    "rnn_net(torch.stack((name2tensor('Dung'), name2tensor('Ahaa')), dim=0))"
   ]
  },
  {
   "cell_type": "code",
   "execution_count": 65,
   "metadata": {},
   "outputs": [
    {
     "name": "stdout",
     "output_type": "stream",
     "text": [
      "('Russian', 6)\n"
     ]
    }
   ],
   "source": [
    "def categoryFromOutput(output):\n",
    "    _, top_i = output.topk(1)\n",
    "    category_i = top_i[0].item()\n",
    "    return all_categories[category_i], category_i\n",
    "\n",
    "print(categoryFromOutput(rnn_net(name2tensor('Dung'))[0]))"
   ]
  },
  {
   "cell_type": "code",
   "execution_count": 68,
   "metadata": {},
   "outputs": [
    {
     "data": {
      "text/plain": [
       "tensor(2.1981)"
      ]
     },
     "execution_count": 68,
     "metadata": {},
     "output_type": "execute_result"
    }
   ],
   "source": [
    "criterion = nn.NLLLoss()\n",
    "\n",
    "criterion(torch.tensor([-2.1626, -2.2632, -2.5306, -2.4830, -2.4316, -2.4224, -2.1981, -2.1758,\n",
    "         -2.3348, -2.1211]).unsqueeze(0), torch.tensor([6], dtype=torch.long))"
   ]
  },
  {
   "cell_type": "code",
   "execution_count": 54,
   "metadata": {},
   "outputs": [
    {
     "name": "stdout",
     "output_type": "stream",
     "text": [
      "category = Greek / name = Pappayiorgas / category_tensor = tensor([11]) / name_tensor shape = torch.Size([12])\n",
      "category = Arabic / name = Kanaan / category_tensor = tensor([2]) / name_tensor shape = torch.Size([6])\n",
      "category = Irish / name = Domhnall / category_tensor = tensor([8]) / name_tensor shape = torch.Size([8])\n",
      "category = Vietnamese / name = Pham / category_tensor = tensor([5]) / name_tensor shape = torch.Size([4])\n",
      "category = Arabic / name = Almasi / category_tensor = tensor([2]) / name_tensor shape = torch.Size([6])\n",
      "category = Italian / name = Re / category_tensor = tensor([12]) / name_tensor shape = torch.Size([2])\n",
      "category = Czech / name = Matejka / category_tensor = tensor([0]) / name_tensor shape = torch.Size([7])\n",
      "category = Dutch / name = Schrijnemakers / category_tensor = tensor([15]) / name_tensor shape = torch.Size([14])\n",
      "category = Chinese / name = Jin / category_tensor = tensor([4]) / name_tensor shape = torch.Size([3])\n",
      "category = Chinese / name = Dong / category_tensor = tensor([4]) / name_tensor shape = torch.Size([4])\n"
     ]
    }
   ],
   "source": [
    "import random\n",
    "\n",
    "def randomChoice(data):\n",
    "    return data[random.randint(0, len(data) - 1)]\n",
    "\n",
    "category2index = {c: i for (i, c) in enumerate(all_categories)}\n",
    "\n",
    "def randomSample():\n",
    "    category = randomChoice(all_categories)\n",
    "    name = randomChoice(category_lines[category])\n",
    "    return category, name, torch.tensor([category2index[category]]), name2tensor(name)\n",
    "\n",
    "\n",
    "for i in range(10):\n",
    "    category, name, category_tensor, name_tensor = randomSample()\n",
    "    print('category =', category, '/ name =', name, '/ category_tensor =', category_tensor, '/ name_tensor shape =', name_tensor.shape)"
   ]
  },
  {
   "cell_type": "code",
   "execution_count": 69,
   "metadata": {},
   "outputs": [],
   "source": [
    "criterion = nn.NLLLoss()\n",
    "\n",
    "rnn_clf = RnnClassifier(vocab_size=len(all_letters), embedding_size=30, hidden_dim=128, output_dim=len(all_categories))\n",
    "\n",
    "learning_rate = 0.005 # If you set this too high, it might explode. If too low, it might not learn\n",
    "\n",
    "def train(category_tensor, name_tensor):\n",
    "\n",
    "    rnn_clf.zero_grad()\n",
    "\n",
    "    probs, _, _ = rnn_clf(name_tensor)\n",
    "\n",
    "    loss = criterion(probs.unsqueeze(0), category_tensor)\n",
    "    loss.backward()\n",
    "\n",
    "    # Add parameters' gradients to their values, multiplied by learning rate\n",
    "    for p in rnn_clf.parameters():\n",
    "        p.data.add_(p.grad.data, alpha=-learning_rate)\n",
    "\n",
    "    return probs, loss.item()"
   ]
  },
  {
   "cell_type": "code",
   "execution_count": 70,
   "metadata": {},
   "outputs": [
    {
     "name": "stdout",
     "output_type": "stream",
     "text": [
      "5000 5% (0m 3s) 0.9372 Ferro / Portuguese ✓\n",
      "10000 10% (0m 6s) 2.3052 Walker / Dutch ✗ (Scottish)\n",
      "15000 15% (0m 9s) 2.6305 Korycan / Russian ✗ (Czech)\n",
      "20000 20% (0m 12s) 2.6040 Severin / Russian ✗ (French)\n",
      "25000 25% (0m 15s) 4.8401 Ruhlyada / Irish ✗ (Russian)\n",
      "30000 30% (0m 18s) 0.3100 Minabuchi / Japanese ✓\n",
      "35000 35% (0m 20s) 0.0770 Bellomi / Italian ✓\n",
      "40000 40% (0m 24s) 0.3324 Kudrna / Czech ✓\n",
      "45000 45% (0m 27s) 0.6014 Dang / Vietnamese ✓\n",
      "50000 50% (0m 29s) 0.2826 Szwarc / Polish ✓\n",
      "55000 55% (0m 32s) 0.0870 Klerx / Dutch ✓\n",
      "60000 60% (0m 35s) 0.1257 Gomatos / Greek ✓\n",
      "65000 65% (0m 37s) 1.6069 Schafer / Dutch ✗ (German)\n",
      "70000 70% (0m 40s) 0.9293 Greenaway / French ✗ (English)\n",
      "75000 75% (0m 44s) 0.0764 Doyle / Irish ✓\n",
      "80000 80% (0m 47s) 0.0358 Antoun / Arabic ✓\n",
      "85000 85% (0m 51s) 1.2619 Paterson / English ✗ (Scottish)\n",
      "90000 90% (0m 54s) 0.0626 Paulissen / Dutch ✓\n",
      "95000 95% (0m 57s) 0.1059 Nam / Korean ✓\n",
      "100000 100% (1m 0s) 0.0046 Maalouf / Arabic ✓\n"
     ]
    }
   ],
   "source": [
    "import time\n",
    "import math\n",
    "\n",
    "n_iters = 100000\n",
    "print_every = 5000\n",
    "plot_every = 1000\n",
    "\n",
    "\n",
    "\n",
    "# Keep track of losses for plotting\n",
    "current_loss = 0\n",
    "all_losses = []\n",
    "\n",
    "def timeSince(since):\n",
    "    now = time.time()\n",
    "    s = now - since\n",
    "    m = math.floor(s / 60)\n",
    "    s -= m * 60\n",
    "    return '%dm %ds' % (m, s)\n",
    "\n",
    "start = time.time()\n",
    "\n",
    "for iter in range(1, n_iters + 1):\n",
    "    category, line, category_tensor, name_tensor = randomSample()\n",
    "    output, loss = train(category_tensor, name_tensor)\n",
    "    current_loss += loss\n",
    "\n",
    "    # Print ``iter`` number, loss, name and guess\n",
    "    if iter % print_every == 0 and iter > 0:\n",
    "        guess, guess_i = categoryFromOutput(output)\n",
    "        correct = '✓' if guess == category else '✗ (%s)' % category\n",
    "        print('%d %d%% (%s) %.4f %s / %s %s' % (iter, iter / n_iters * 100, timeSince(start), loss, line, guess, correct))\n",
    "\n",
    "    # Add current loss avg to list of losses\n",
    "    if iter % plot_every == 0:\n",
    "        all_losses.append(current_loss / plot_every)\n",
    "        current_loss = 0"
   ]
  },
  {
   "cell_type": "code",
   "execution_count": 71,
   "metadata": {},
   "outputs": [],
   "source": [
    "import matplotlib.pyplot as plt\n",
    "import matplotlib.ticker as ticker\n",
    "%matplotlib inline"
   ]
  },
  {
   "cell_type": "code",
   "execution_count": 72,
   "metadata": {},
   "outputs": [
    {
     "data": {
      "image/png": "[encoded data removed]",
      "text/plain": [
       "<Figure size 640x480 with 1 Axes>"
      ]
     },
     "metadata": {},
     "output_type": "display_data"
    }
   ],
   "source": [
    "\n",
    "plt.figure()\n",
    "plt.plot(all_losses)\n",
    "plt.show()"
   ]
  },
  {
   "cell_type": "code",
   "execution_count": 76,
   "metadata": {},
   "outputs": [
    {
     "name": "stderr",
     "output_type": "stream",
     "text": [
      "/var/folders/6h/15ndlbdd5jl8rr8hqbhn5zz40000gn/T/ipykernel_93377/1400445024.py:32: UserWarning: set_ticklabels() should only be used with a fixed number of ticks, i.e. after set_ticks() or using a FixedLocator.\n",
      "  ax.set_xticklabels([''] + all_categories, rotation=90)\n",
      "/var/folders/6h/15ndlbdd5jl8rr8hqbhn5zz40000gn/T/ipykernel_93377/1400445024.py:33: UserWarning: set_ticklabels() should only be used with a fixed number of ticks, i.e. after set_ticks() or using a FixedLocator.\n",
      "  ax.set_yticklabels([''] + all_categories)\n"
     ]
    },
    {
     "data": {
      "image/png": "[encoded data removed]",
      "text/plain": [
       "<Figure size 640x480 with 2 Axes>"
      ]
     },
     "metadata": {},
     "output_type": "display_data"
    }
   ],
   "source": [
    "# Keep track of correct guesses in a confusion matrix\n",
    "confusion = torch.zeros(n_categories, n_categories)\n",
    "n_confusion = 10000\n",
    "\n",
    "# Just return an output given a line\n",
    "@torch.no_grad()\n",
    "def evaluate(line_tensor):\n",
    "\n",
    "    cl, _, _ = rnn_clf(line_tensor)\n",
    "\n",
    "    return cl.unsqueeze(0)\n",
    "\n",
    "# Go through a bunch of examples and record which are correctly guessed\n",
    "for i in range(n_confusion):\n",
    "    category, line, category_tensor, line_tensor = randomSample()\n",
    "    output = evaluate(line_tensor)\n",
    "    guess, guess_i = categoryFromOutput(output)\n",
    "    category_i = all_categories.index(category)\n",
    "    confusion[category_i][guess_i] += 1\n",
    "\n",
    "# Normalize by dividing every row by its sum\n",
    "for i in range(n_categories):\n",
    "    confusion[i] = confusion[i] / confusion[i].sum()\n",
    "\n",
    "# Set up plot\n",
    "fig = plt.figure()\n",
    "ax = fig.add_subplot(111)\n",
    "cax = ax.matshow(confusion.numpy())\n",
    "fig.colorbar(cax)\n",
    "\n",
    "# Set up axes\n",
    "ax.set_xticklabels([''] + all_categories, rotation=90)\n",
    "ax.set_yticklabels([''] + all_categories)\n",
    "\n",
    "# Force label at every tick\n",
    "ax.xaxis.set_major_locator(ticker.MultipleLocator(1))\n",
    "ax.yaxis.set_major_locator(ticker.MultipleLocator(1))\n",
    "\n",
    "# sphinx_gallery_thumbnail_number = 2\n",
    "plt.show()"
   ]
  },
  {
   "cell_type": "code",
   "execution_count": 79,
   "metadata": {},
   "outputs": [
    {
     "name": "stdout",
     "output_type": "stream",
     "text": [
      "\n",
      "> Dovesky\n",
      "(-0.40) Russian\n",
      "(-1.17) Czech\n",
      "(-4.30) English\n",
      "\n",
      "> Jackson\n",
      "(-0.11) Scottish\n",
      "(-2.47) English\n",
      "(-4.14) Russian\n",
      "\n",
      "> Satoshi\n",
      "(-0.01) Japanese\n",
      "(-5.45) Arabic\n",
      "(-7.81) Greek\n",
      "\n",
      "> Minh Dung\n",
      "(-0.06) Vietnamese\n",
      "(-2.94) Chinese\n",
      "(-5.98) Korean\n"
     ]
    }
   ],
   "source": [
    "def predict(input_line, n_predictions=3):\n",
    "    print('\\n> %s' % input_line)\n",
    "    with torch.no_grad():\n",
    "        output = evaluate(name2tensor(input_line))\n",
    "        # Get top N categories\n",
    "        topv, topi = output.topk(n_predictions, 1, True)\n",
    "        predictions = []\n",
    "\n",
    "        for i in range(n_predictions):\n",
    "            value = topv[0][i].item()\n",
    "            category_index = topi[0][i].item()\n",
    "            print('(%.2f) %s' % (value, all_categories[category_index]))\n",
    "            predictions.append([value, all_categories[category_index]])\n",
    "\n",
    "predict('Dovesky')\n",
    "predict('Jackson')\n",
    "predict('Satoshi')\n",
    "predict('Minh Dung')"
   ]
  },
  {
   "cell_type": "code",
   "execution_count": null,
   "metadata": {},
   "outputs": [],
   "source": []
  }
 ],
 "metadata": {
  "kernelspec": {
   "display_name": "py39",
   "language": "python",
   "name": "python3"
  },
  "language_info": {
   "codemirror_mode": {
    "name": "ipython",
    "version": 3
   },
   "file_extension": ".py",
   "mimetype": "text/x-python",
   "name": "python",
   "nbconvert_exporter": "python",
   "pygments_lexer": "ipython3",
   "version": "3.9.19"
  }
 },
 "nbformat": 4,
 "nbformat_minor": 2
}
