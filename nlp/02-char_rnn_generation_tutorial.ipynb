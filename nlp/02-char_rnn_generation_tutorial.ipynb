{
 "cells": [
  {
   "cell_type": "code",
   "execution_count": 1,
   "metadata": {},
   "outputs": [],
   "source": [
    "import pathlib\n",
    "data_root = f\"{pathlib.Path.home()}/Projects/AI-ML/datasets\"\n",
    "\n",
    "from io import open\n",
    "import glob\n",
    "import os\n",
    "\n",
    "def findFiles(path): return glob.glob(f\"{data_root}/{path}\")\n",
    "\n",
    "names_path = 'nlp_data/names/*.txt'\n",
    "# print(findFiles(names_path))"
   ]
  },
  {
   "cell_type": "code",
   "execution_count": 2,
   "metadata": {},
   "outputs": [
    {
     "name": "stdout",
     "output_type": "stream",
     "text": [
      "Slusarski\n"
     ]
    }
   ],
   "source": [
    "import unicodedata\n",
    "import string\n",
    "\n",
    "all_letters = string.ascii_letters + \" .,;'\"\n",
    "n_letters = len(all_letters)\n",
    "\n",
    "# Turn a Unicode string to plain ASCII, thanks to https://stackoverflow.com/a/518232/2809427\n",
    "def unicodeToAscii(s):\n",
    "    return ''.join(\n",
    "        c for c in unicodedata.normalize('NFD', s)\n",
    "        if unicodedata.category(c) != 'Mn'\n",
    "        and c in all_letters\n",
    "    )\n",
    "\n",
    "print(unicodeToAscii('Ślusàrski'))"
   ]
  },
  {
   "cell_type": "code",
   "execution_count": 3,
   "metadata": {},
   "outputs": [],
   "source": [
    "# Build the category_lines dictionary, a list of names per language\n",
    "category_lines = {}\n",
    "all_categories = []\n",
    "\n",
    "# Read a file and split into lines\n",
    "def readLines(filename):\n",
    "    lines = open(filename, encoding='utf-8').read().strip().split('\\n')\n",
    "    return [unicodeToAscii(line) for line in lines]\n",
    "\n",
    "for filename in findFiles(names_path):\n",
    "    category = os.path.splitext(os.path.basename(filename))[0]\n",
    "    all_categories.append(category)\n",
    "    lines = readLines(filename)\n",
    "    category_lines[category] = lines\n",
    "\n",
    "n_categories = len(all_categories)"
   ]
  },
  {
   "cell_type": "markdown",
   "metadata": {},
   "source": [
    "![RNN](images/char-rnn-name-gen.png)"
   ]
  },
  {
   "cell_type": "code",
   "execution_count": 4,
   "metadata": {},
   "outputs": [],
   "source": [
    "import torch\n",
    "import torch.nn as nn\n",
    "import torch.nn.functional as F\n",
    "\n",
    "\n",
    "class RnnCell(nn.Module):\n",
    "\n",
    "    def __init__(self, input_dim, hidden_dim, output_dim) -> None:\n",
    "        super().__init__()\n",
    "\n",
    "        self.i2h = nn.Linear(input_dim + hidden_dim, hidden_dim)\n",
    "        self.i2o = nn.Linear(input_dim + hidden_dim, output_dim)\n",
    "        self.c2o = nn.Linear(output_dim + hidden_dim, output_dim)\n",
    "        self.dropout = nn.Dropout(0.1)\n",
    "\n",
    "    def forward(self, x, hidden):\n",
    "        x = torch.cat((x, hidden), dim=-1)\n",
    "        hidden = self.i2h(x)\n",
    "        output = self.i2o(x)\n",
    "        output = self.c2o(torch.cat((output, hidden), dim=-1))\n",
    "        # hidden = F.tanh(hidden)\n",
    "        output = self.dropout(output)\n",
    "        return output, hidden"
   ]
  },
  {
   "cell_type": "code",
   "execution_count": 5,
   "metadata": {},
   "outputs": [],
   "source": [
    "class CharRnnGenerator(nn.Module):\n",
    "\n",
    "    def __init__(self, n_categories, vocab_size, embedding_size, hidden_dim) -> None:\n",
    "        super().__init__()\n",
    "\n",
    "        self.n_categories = n_categories\n",
    "        self.hidden_dim = hidden_dim\n",
    "        self.embedding = nn.Embedding(vocab_size, embedding_size)\n",
    "        self.cell = RnnCell(input_dim=(n_categories + embedding_size), hidden_dim=hidden_dim, output_dim=vocab_size)\n",
    "        self.softmax = nn.LogSoftmax(dim=-1)\n",
    "\n",
    "    def step_forward(self, category, idx, hidden):\n",
    "        category_embedded = F.one_hot(category, num_classes=self.n_categories)\n",
    "        # print(\"Cat:\", category_embedded.shape)\n",
    "        embedded = self.embedding(idx).squeeze(-2)\n",
    "        # print(\"embedded:\", embedded.shape)\n",
    "        embedded = torch.cat((category_embedded, embedded), dim=-1)\n",
    "        # print(\"combined:\", embedded.shape)\n",
    "        output, hidden = self.cell(embedded, hidden)\n",
    "        output = self.softmax(output)\n",
    "        return output, hidden\n",
    "\n",
    "\n",
    "    def forward(self, category, idx, hidden = None):\n",
    "        outputs = []\n",
    "        if hidden is None:\n",
    "            hidden = torch.zeros(self.hidden_dim)\n",
    "        for t in range(len(idx)):\n",
    "            output, hidden = self.step_forward(category, idx[t].unsqueeze(-1), hidden)\n",
    "            outputs.append(output)\n",
    "        return torch.stack(outputs, dim=-2), hidden"
   ]
  },
  {
   "cell_type": "code",
   "execution_count": 6,
   "metadata": {},
   "outputs": [
    {
     "data": {
      "text/plain": [
       "(tensor([[-2.9207, -2.9462, -3.0034, -2.9935, -2.8856, -2.8475, -3.1176, -3.3416,\n",
       "          -2.6819, -2.9302, -2.9145, -3.0256, -3.0074, -3.2878, -2.9096, -2.9716,\n",
       "          -3.0256, -3.1032, -2.9462, -3.2873],\n",
       "         [-2.9800, -2.8762, -2.8858, -2.9800, -2.8201, -3.3205, -2.9467, -3.2323,\n",
       "          -2.9925, -2.9800, -3.0458, -2.8274, -3.0337, -3.1276, -2.9800, -3.1157,\n",
       "          -2.7925, -3.1602, -2.8344, -3.1858],\n",
       "         [-2.9920, -2.8282, -2.9862, -2.8748, -3.1102, -3.3426, -3.1190, -3.0662,\n",
       "          -2.6988, -2.7994, -3.2103, -2.9920, -3.1326, -3.0184, -2.7876, -3.0056,\n",
       "          -2.9590, -3.0079, -2.9920, -3.2345],\n",
       "         [-3.1938, -2.7829, -3.2696, -3.2340, -2.7266, -2.9555, -3.0358, -3.2555,\n",
       "          -3.1073, -2.7335, -3.2650, -3.1148, -2.6972, -2.9769, -2.8709, -3.1482,\n",
       "          -2.8802, -2.9790, -3.1787, -2.8685]], grad_fn=<StackBackward0>),\n",
       " tensor([ 0.0864, -0.2910,  0.0039,  0.1051,  0.1509, -0.1673,  0.3400,  0.0071,\n",
       "          0.2174,  0.6348, -0.0426, -0.3349, -0.1409, -0.1330, -0.0650, -0.2270,\n",
       "         -0.1847,  0.3890,  0.1769, -0.6583,  0.2916, -0.0726, -0.0619,  0.3936,\n",
       "          0.5278,  0.0115,  0.1873,  0.0108,  0.4689, -0.3090, -0.4935,  0.5596],\n",
       "        grad_fn=<ViewBackward0>))"
      ]
     },
     "execution_count": 6,
     "metadata": {},
     "output_type": "execute_result"
    }
   ],
   "source": [
    "rnn = CharRnnGenerator(10, 20, 16, 32)\n",
    "\n",
    "category = torch.tensor(2)\n",
    "sentence = torch.tensor([1, 2, 19, 0])\n",
    "rnn(category, sentence)"
   ]
  },
  {
   "cell_type": "code",
   "execution_count": 7,
   "metadata": {},
   "outputs": [
    {
     "data": {
      "text/plain": [
       "tensor(2)"
      ]
     },
     "execution_count": 7,
     "metadata": {},
     "output_type": "execute_result"
    }
   ],
   "source": [
    "torch.tensor(2)"
   ]
  },
  {
   "cell_type": "code",
   "execution_count": 8,
   "metadata": {},
   "outputs": [
    {
     "data": {
      "text/plain": [
       "tensor([[0, 0, 1]])"
      ]
     },
     "execution_count": 8,
     "metadata": {},
     "output_type": "execute_result"
    }
   ],
   "source": [
    "F.one_hot(torch.tensor([2]), 3)"
   ]
  },
  {
   "cell_type": "code",
   "execution_count": 9,
   "metadata": {},
   "outputs": [
    {
     "name": "stdout",
     "output_type": "stream",
     "text": [
      "F\n"
     ]
    }
   ],
   "source": [
    "category2index = {c: i for i, c in enumerate(all_categories)}\n",
    "\n",
    "EoS = '<E>'\n",
    "letter2index = {c: (i+1) for i, c in enumerate(all_letters)}\n",
    "letter2index[EoS] = 0\n",
    "\n",
    "index2letter = {(i+1): c for i, c in enumerate(all_letters)}\n",
    "index2letter[0] = EoS\n",
    "\n",
    "print(index2letter[letter2index['F']])"
   ]
  },
  {
   "cell_type": "code",
   "execution_count": 10,
   "metadata": {},
   "outputs": [],
   "source": [
    "import random\n",
    "\n",
    "\n",
    "def category2tensor(category):\n",
    "    return torch.tensor(category2index[category], dtype=torch.long)\n",
    "\n",
    "def name2tensor(name):\n",
    "    return torch.tensor([letter2index[EoS]] + [letter2index[l] for l in name] + [letter2index[EoS]], dtype=torch.long)\n",
    "\n",
    "def trainingPair(name):\n",
    "    tensor = name2tensor(name)\n",
    "    return tensor[:-1], tensor[1:]\n",
    "\n",
    "def randomChoice(data):\n",
    "    return data[random.randint(0, len(data) - 1)]\n",
    "\n",
    "def randomTrainingSample():\n",
    "    category = randomChoice(all_categories)\n",
    "    name = randomChoice(category_lines[category])\n",
    "    inputs, targets = trainingPair(name)\n",
    "    return category2tensor(category), inputs, targets, (category, name)"
   ]
  },
  {
   "cell_type": "code",
   "execution_count": 11,
   "metadata": {},
   "outputs": [
    {
     "name": "stdout",
     "output_type": "stream",
     "text": [
      "torch.Size([]) torch.Size([5]) torch.Size([5]) Chinese Kong\n"
     ]
    }
   ],
   "source": [
    "cat_tensor, inputs, targets, (category, name) = randomTrainingSample()\n",
    "print(cat_tensor.shape, inputs.shape, targets.shape, category, name)"
   ]
  },
  {
   "cell_type": "code",
   "execution_count": 12,
   "metadata": {},
   "outputs": [],
   "source": [
    "hidden_dim = 128\n",
    "embedding_size = 30\n",
    "gen_rnn = CharRnnGenerator(n_categories=len(all_categories), vocab_size=len(index2letter), embedding_size=embedding_size, hidden_dim=hidden_dim)\n",
    "\n",
    "criterion = nn.NLLLoss(reduction='sum')"
   ]
  },
  {
   "cell_type": "code",
   "execution_count": 13,
   "metadata": {},
   "outputs": [
    {
     "data": {
      "text/plain": [
       "tensor(21.1224, grad_fn=<NllLossBackward0>)"
      ]
     },
     "execution_count": 13,
     "metadata": {},
     "output_type": "execute_result"
    }
   ],
   "source": [
    "criterion(gen_rnn(cat_tensor, inputs)[0], targets)"
   ]
  },
  {
   "cell_type": "code",
   "execution_count": 14,
   "metadata": {},
   "outputs": [],
   "source": [
    "learning_rate = 0.0005\n",
    "\n",
    "def train(category_tensor, inputs, targets):\n",
    "    gen_rnn.zero_grad()\n",
    "    \n",
    "    outputs, _ = gen_rnn(category_tensor, inputs)\n",
    "    loss = criterion(outputs, targets)\n",
    "    loss.backward()\n",
    "\n",
    "    for p in gen_rnn.parameters():\n",
    "        p.data.add_(p.grad.data, alpha=-learning_rate)\n",
    "\n",
    "    return outputs, loss.item() / len(inputs)\n"
   ]
  },
  {
   "cell_type": "code",
   "execution_count": 15,
   "metadata": {},
   "outputs": [],
   "source": [
    "import time\n",
    "import math\n",
    "\n",
    "def timeSince(since):\n",
    "    now = time.time()\n",
    "    s = now - since\n",
    "    m = math.floor(s / 60)\n",
    "    s -= m * 60\n",
    "    return '%dm %ds' % (m, s)"
   ]
  },
  {
   "cell_type": "code",
   "execution_count": 16,
   "metadata": {},
   "outputs": [
    {
     "name": "stdout",
     "output_type": "stream",
     "text": [
      "0m 17s (5000 3%) 2.5863\n",
      "0m 30s (10000 6%) 2.3520\n",
      "0m 50s (15000 10%) 2.7679\n",
      "1m 2s (20000 13%) 2.5211\n",
      "1m 12s (25000 16%) 2.2557\n",
      "1m 21s (30000 20%) 2.2887\n",
      "1m 29s (35000 23%) 1.8380\n",
      "1m 37s (40000 26%) 2.6742\n",
      "1m 46s (45000 30%) 2.0871\n",
      "1m 54s (50000 33%) 2.7062\n",
      "2m 2s (55000 36%) 2.7252\n",
      "2m 11s (60000 40%) 3.0959\n",
      "2m 20s (65000 43%) 2.2097\n",
      "2m 29s (70000 46%) 2.9995\n",
      "2m 37s (75000 50%) 1.8083\n",
      "2m 46s (80000 53%) 1.9534\n",
      "2m 54s (85000 56%) 3.1691\n",
      "3m 2s (90000 60%) 2.8650\n",
      "3m 10s (95000 63%) 3.0032\n",
      "3m 18s (100000 66%) 2.2700\n",
      "3m 27s (105000 70%) 2.6023\n",
      "3m 36s (110000 73%) 3.0237\n",
      "3m 46s (115000 76%) 2.5228\n",
      "3m 56s (120000 80%) 2.5308\n",
      "4m 5s (125000 83%) 2.3719\n",
      "4m 13s (130000 86%) 1.8973\n",
      "4m 22s (135000 90%) 1.8908\n",
      "4m 30s (140000 93%) 2.2786\n",
      "4m 38s (145000 96%) 2.3726\n",
      "4m 46s (150000 100%) 1.8764\n"
     ]
    }
   ],
   "source": [
    "n_iters = 150000\n",
    "print_every = 5000\n",
    "plot_every = 500\n",
    "all_losses = []\n",
    "total_loss = 0 # Reset every ``plot_every`` ``iters``\n",
    "\n",
    "start = time.time()\n",
    "\n",
    "for iter in range(1, n_iters + 1):\n",
    "    cat_tensor, inputs, targets, (category, name) = randomTrainingSample()\n",
    "    output, loss = train(cat_tensor, inputs, targets)\n",
    "    total_loss += loss\n",
    "\n",
    "    if iter % print_every == 0:\n",
    "        print('%s (%d %d%%) %.4f' % (timeSince(start), iter, iter / n_iters * 100, loss))\n",
    "\n",
    "    if iter % plot_every == 0:\n",
    "        all_losses.append(total_loss / plot_every)\n",
    "        total_loss = 0"
   ]
  },
  {
   "cell_type": "code",
   "execution_count": 17,
   "metadata": {},
   "outputs": [],
   "source": [
    "import matplotlib.pyplot as plt\n",
    "%matplotlib inline"
   ]
  },
  {
   "cell_type": "code",
   "execution_count": 18,
   "metadata": {},
   "outputs": [
    {
     "data": {
      "image/png": "[encoded data removed]",
      "text/plain": [
       "<Figure size 640x480 with 1 Axes>"
      ]
     },
     "metadata": {},
     "output_type": "display_data"
    }
   ],
   "source": [
    "plt.figure()\n",
    "plt.plot(all_losses)\n",
    "plt.show()"
   ]
  },
  {
   "cell_type": "code",
   "execution_count": 19,
   "metadata": {},
   "outputs": [
    {
     "name": "stdout",
     "output_type": "stream",
     "text": [
      "Russian Abounnon\n",
      "Russian ModXultbing\n",
      "Russian BartMontkev\n",
      "German Basks\n",
      "German euthcVult\n",
      "German Grten\n",
      "Spanish Iomaraza\n",
      "Spanish Davaler\n",
      "Spanish Narsstopra\n",
      "Chinese LiS\n",
      "Chinese Fian\n",
      "Chinese G.ue\n"
     ]
    }
   ],
   "source": [
    "max_length = 20\n",
    "\n",
    "def letter2tensor(l):\n",
    "    return torch.tensor([letter2index[l]], dtype=torch.long)\n",
    "\n",
    "# Sample from a category and starting letter\n",
    "def sample(category):\n",
    "    with torch.no_grad():  # no need to track history in sampling\n",
    "        category_tensor = category2tensor(category)\n",
    "        input_tensor = letter2tensor(EoS)\n",
    "        hidden = torch.zeros(gen_rnn.hidden_dim)\n",
    "        output_name = ''\n",
    "\n",
    "        for i in range(max_length):\n",
    "            output, hidden = gen_rnn.step_forward(category_tensor, input_tensor, hidden)\n",
    "            idx = torch.multinomial(output.exp(), num_samples=1, replacement=True).item()\n",
    "            if idx == letter2index[EoS]:\n",
    "                break\n",
    "            else:\n",
    "                letter = index2letter[idx]\n",
    "                output_name += letter\n",
    "            input_tensor = letter2tensor(letter)\n",
    "\n",
    "        return output_name\n",
    "\n",
    "# Get multiple samples from one category and multiple starting letters\n",
    "def samples(category, n_samples):\n",
    "    for _ in range(n_samples):\n",
    "        print(category, sample(category))\n",
    "\n",
    "samples('Russian', 3)\n",
    "\n",
    "samples('German', 3)\n",
    "\n",
    "samples('Spanish', 3)\n",
    "\n",
    "samples('Chinese', 3)"
   ]
  },
  {
   "cell_type": "code",
   "execution_count": 20,
   "metadata": {},
   "outputs": [
    {
     "name": "stdout",
     "output_type": "stream",
     "text": [
      "Vietnamese VAng\n",
      "Vietnamese Hau\n",
      "Vietnamese Vann\n",
      "Vietnamese Sih\n",
      "Vietnamese Bo\n",
      "Vietnamese Lou\n",
      "Vietnamese Hhan\n",
      "Vietnamese HuwPhi\n",
      "Vietnamese Paynn\n",
      "Vietnamese NhiiZ\n"
     ]
    }
   ],
   "source": [
    "samples('Vietnamese', 10)"
   ]
  },
  {
   "cell_type": "code",
   "execution_count": 21,
   "metadata": {},
   "outputs": [
    {
     "data": {
      "text/plain": [
       "['Czech',\n",
       " 'German',\n",
       " 'Arabic',\n",
       " 'Japanese',\n",
       " 'Chinese',\n",
       " 'Vietnamese',\n",
       " 'Russian',\n",
       " 'French',\n",
       " 'Irish',\n",
       " 'English',\n",
       " 'Spanish',\n",
       " 'Greek',\n",
       " 'Italian',\n",
       " 'Portuguese',\n",
       " 'Scottish',\n",
       " 'Dutch',\n",
       " 'Korean',\n",
       " 'Polish']"
      ]
     },
     "execution_count": 21,
     "metadata": {},
     "output_type": "execute_result"
    }
   ],
   "source": [
    "all_categories"
   ]
  },
  {
   "cell_type": "code",
   "execution_count": 22,
   "metadata": {},
   "outputs": [
    {
     "name": "stdout",
     "output_type": "stream",
     "text": [
      "French Salamal\n",
      "French Omacu\n",
      "French Panmmoth\n",
      "French Lortseri\n",
      "French Sarofe\n",
      "French Sovim\n",
      "French Celra\n",
      "French Donov\n",
      "French Bourran\n",
      "French Jarisovege\n"
     ]
    }
   ],
   "source": [
    "samples('French', 10)"
   ]
  },
  {
   "cell_type": "code",
   "execution_count": 23,
   "metadata": {},
   "outputs": [],
   "source": [
    "def eval_category(category):\n",
    "    total_loss = 0.0\n",
    "    total_len = 0\n",
    "    with torch.no_grad():\n",
    "        cat_tensor = category2tensor(category)\n",
    "        for name in category_lines[category]:\n",
    "            inputs, targets = trainingPair(name)\n",
    "            outputs, _ = gen_rnn(cat_tensor, inputs)\n",
    "            loss = criterion(outputs, targets)\n",
    "            total_loss += loss.item()\n",
    "            total_len += len(name)\n",
    "        return total_loss/ total_len"
   ]
  },
  {
   "cell_type": "code",
   "execution_count": 24,
   "metadata": {},
   "outputs": [
    {
     "name": "stdout",
     "output_type": "stream",
     "text": [
      "Czech 3.0379206878698053\n",
      "German 2.861055170154176\n",
      "Arabic 2.6411040535774264\n",
      "Japanese 2.802753792648994\n",
      "Chinese 2.7755597403110603\n",
      "Vietnamese 2.599470034577793\n",
      "Russian 2.9018882356814224\n",
      "French 2.754965241328475\n",
      "Irish 2.6812999954223633\n",
      "English 2.9993506581723226\n",
      "Spanish 2.7218923292441253\n",
      "Greek 2.474122554834836\n",
      "Italian 2.7660614242182526\n",
      "Portuguese 2.4618357668424906\n",
      "Scottish 2.6463153654812306\n",
      "Dutch 2.7796970514150767\n",
      "Korean 2.5053731503819985\n",
      "Polish 2.5906599203587994\n"
     ]
    }
   ],
   "source": [
    "for category in all_categories:\n",
    "    print(category, eval_category(category))"
   ]
  },
  {
   "cell_type": "code",
   "execution_count": null,
   "metadata": {},
   "outputs": [],
   "source": []
  }
 ],
 "metadata": {
  "kernelspec": {
   "display_name": "py39",
   "language": "python",
   "name": "python3"
  },
  "language_info": {
   "codemirror_mode": {
    "name": "ipython",
    "version": 3
   },
   "file_extension": ".py",
   "mimetype": "text/x-python",
   "name": "python",
   "nbconvert_exporter": "python",
   "pygments_lexer": "ipython3",
   "version": "3.9.19"
  }
 },
 "nbformat": 4,
 "nbformat_minor": 2
}
