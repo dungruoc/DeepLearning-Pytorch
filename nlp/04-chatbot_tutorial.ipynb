{
 "cells": [
  {
   "cell_type": "code",
   "execution_count": 1,
   "metadata": {},
   "outputs": [],
   "source": [
    "import torch\n",
    "import torch.nn as nn\n",
    "import torch.nn.functional as F\n",
    "\n",
    "import csv\n",
    "import random\n",
    "import os\n",
    "import re\n",
    "import unicodedata\n",
    "from io import open\n",
    "import itertools\n",
    "import math\n",
    "import json"
   ]
  },
  {
   "cell_type": "code",
   "execution_count": 2,
   "metadata": {},
   "outputs": [],
   "source": [
    "import matplotlib.pyplot as plt\n",
    "%matplotlib inline"
   ]
  },
  {
   "cell_type": "code",
   "execution_count": 3,
   "metadata": {},
   "outputs": [
    {
     "name": "stdout",
     "output_type": "stream",
     "text": [
      "Downloading movie-corpus to /Users/dungminhdang/.convokit/downloads/movie-corpus\n",
      "Downloading movie-corpus from http://zissou.infosci.cornell.edu/convokit/datasets/movie-corpus/movie-corpus.zip (40.9MB)... Done\n"
     ]
    }
   ],
   "source": [
    "from convokit import Corpus, download\n",
    "\n",
    "corpus = Corpus(filename=download(\"movie-corpus\"))"
   ]
  },
  {
   "cell_type": "code",
   "execution_count": 4,
   "metadata": {},
   "outputs": [
    {
     "name": "stdout",
     "output_type": "stream",
     "text": [
      "Number of Speakers: 9035\n",
      "Number of Utterances: 304713\n",
      "Number of Conversations: 83097\n"
     ]
    }
   ],
   "source": [
    "corpus.print_summary_stats()"
   ]
  },
  {
   "cell_type": "code",
   "execution_count": 5,
   "metadata": {},
   "outputs": [
    {
     "name": "stdout",
     "output_type": "stream",
     "text": [
      "Utterance(id: 'L438276', conversation_id: L438272, reply-to: L438275, speaker: Speaker(id: 'u7001', vectors: [], meta: ConvoKitMeta({'character_name': 'DOOLITTLE', 'movie_idx': 'm468', 'movie_name': 'pearl harbor', 'gender': '?', 'credit_pos': '?'})), timestamp: None, text: 'No baseball diamonds, Red.', vectors: [], meta: ConvoKitMeta({'movie_id': 'm468', 'parsed': [{'rt': 2, 'toks': [{'tok': 'No', 'tag': 'DT', 'dep': 'det', 'up': 1, 'dn': []}, {'tok': 'baseball', 'tag': 'NN', 'dep': 'nsubj', 'up': 2, 'dn': [0]}, {'tok': 'diamonds', 'tag': 'NNS', 'dep': 'ROOT', 'dn': [1, 3, 4, 5]}, {'tok': ',', 'tag': ',', 'dep': 'punct', 'up': 2, 'dn': []}, {'tok': 'Red', 'tag': 'NNP', 'dep': 'npadvmod', 'up': 2, 'dn': []}, {'tok': '.', 'tag': '.', 'dep': 'punct', 'up': 2, 'dn': []}]}]}))\n"
     ]
    }
   ],
   "source": [
    "utt = corpus.random_utterance()\n",
    "print(utt)"
   ]
  },
  {
   "cell_type": "code",
   "execution_count": 6,
   "metadata": {},
   "outputs": [
    {
     "name": "stdout",
     "output_type": "stream",
     "text": [
      "ID: L438276 \n",
      "\n",
      "Reply_to: L438275 \n",
      "\n",
      "Timestamp: None \n",
      "\n",
      "Text: No baseball diamonds, Red. \n",
      "\n",
      "Conversation ID: L438272 \n",
      "\n",
      "Speaker ID: u7001\n"
     ]
    }
   ],
   "source": [
    "# primary data fields\n",
    "print(\"ID:\", utt.id, \"\\n\")\n",
    "print(\"Reply_to:\", utt.reply_to, \"\\n\")\n",
    "print(\"Timestamp:\", utt.timestamp, \"\\n\")\n",
    "print(\"Text:\", utt.text, \"\\n\")\n",
    "print(\"Conversation ID:\", utt.conversation_id, \"\\n\")\n",
    "print(\"Speaker ID:\", utt.speaker.id)"
   ]
  },
  {
   "cell_type": "code",
   "execution_count": 7,
   "metadata": {},
   "outputs": [
    {
     "name": "stdout",
     "output_type": "stream",
     "text": [
      "Conversation('id': 'L82415', 'utterances': ['L82416', 'L82415'], 'meta': ConvoKitMeta({'movie_idx': 'm267', 'movie_name': 'being john malkovich', 'release_year': '1999', 'rating': '7.90', 'votes': '115008', 'genre': \"['comedy', 'drama', 'fantasy', 'romance']\"}))\n",
      "\n"
     ]
    },
    {
     "data": {
      "text/plain": [
       "ConvoKitMeta({'movie_idx': 'm267', 'movie_name': 'being john malkovich', 'release_year': '1999', 'rating': '7.90', 'votes': '115008', 'genre': \"['comedy', 'drama', 'fantasy', 'romance']\"})"
      ]
     },
     "execution_count": 7,
     "metadata": {},
     "output_type": "execute_result"
    }
   ],
   "source": [
    "convo = corpus.random_conversation()\n",
    "print(convo)\n",
    "print()\n",
    "convo.meta"
   ]
  },
  {
   "cell_type": "code",
   "execution_count": 8,
   "metadata": {},
   "outputs": [
    {
     "data": {
      "text/plain": [
       "83097"
      ]
     },
     "execution_count": 8,
     "metadata": {},
     "output_type": "execute_result"
    }
   ],
   "source": [
    "len(corpus.conversations)"
   ]
  },
  {
   "cell_type": "code",
   "execution_count": 10,
   "metadata": {},
   "outputs": [
    {
     "data": {
      "text/plain": [
       "Conversation({'obj_type': 'conversation', 'vectors': [], 'tree': None, 'owner': <convokit.model.corpus.Corpus object at 0x31c088880>, 'id': 'L82415', 'meta': ConvoKitMeta({'movie_idx': 'm267', 'movie_name': 'being john malkovich', 'release_year': '1999', 'rating': '7.90', 'votes': '115008', 'genre': \"['comedy', 'drama', 'fantasy', 'romance']\"})})"
      ]
     },
     "execution_count": 10,
     "metadata": {},
     "output_type": "execute_result"
    }
   ],
   "source": [
    "corpus.conversations['L82415']"
   ]
  },
  {
   "cell_type": "code",
   "execution_count": 13,
   "metadata": {},
   "outputs": [
    {
     "name": "stdout",
     "output_type": "stream",
     "text": [
      "Utterance(id: 'L1045', conversation_id: L1044, reply-to: L1044, speaker: Speaker(id: 'u0', vectors: [], meta: ConvoKitMeta({'character_name': 'BIANCA', 'movie_idx': 'm0', 'movie_name': '10 things i hate about you', 'gender': 'f', 'credit_pos': '4'})), timestamp: None, text: 'They do not!', vectors: [], meta: ConvoKitMeta({'movie_id': 'm0', 'parsed': [{'rt': 1, 'toks': [{'tok': 'They', 'tag': 'PRP', 'dep': 'nsubj', 'up': 1, 'dn': []}, {'tok': 'do', 'tag': 'VBP', 'dep': 'ROOT', 'dn': [0, 2, 3]}, {'tok': 'not', 'tag': 'RB', 'dep': 'neg', 'up': 1, 'dn': []}, {'tok': '!', 'tag': '.', 'dep': 'punct', 'up': 1, 'dn': []}]}]}))\n"
     ]
    }
   ],
   "source": [
    "print(next(corpus.iter_utterances()))"
   ]
  },
  {
   "cell_type": "code",
   "execution_count": 45,
   "metadata": {},
   "outputs": [],
   "source": [
    "conversation_texts = {}\n",
    "\n",
    "for conv_id in corpus.get_conversation_ids():\n",
    "    utt_list = []\n",
    "    for utt_id in corpus.get_conversation(conv_id).get_utterance_ids():\n",
    "        utt = corpus.get_utterance(utt_id)\n",
    "        utt_list.append((utt.text.strip(), utt_id))\n",
    "    conversation_texts[conv_id] = [x[0] for x in sorted(utt_list, key=lambda x: x[1])]"
   ]
  },
  {
   "cell_type": "code",
   "execution_count": 46,
   "metadata": {},
   "outputs": [
    {
     "data": {
      "text/plain": [
       "83097"
      ]
     },
     "execution_count": 46,
     "metadata": {},
     "output_type": "execute_result"
    }
   ],
   "source": [
    "len(conversation_texts)"
   ]
  },
  {
   "cell_type": "code",
   "execution_count": 47,
   "metadata": {},
   "outputs": [
    {
     "name": "stdout",
     "output_type": "stream",
     "text": [
      "L1044 ['They do to!', 'They do not!']\n",
      "L984 ['She okay?', 'I hope so.']\n",
      "L924 ['Wow', \"Let's go.\"]\n",
      "L870 ['I\\'m kidding.  You know how sometimes you just become this \"persona\"?  And you don\\'t know how to quit?', 'No', \"Okay -- you're gonna need to learn how to lie.\"]\n",
      "L866 [\"I figured you'd get to the good stuff eventually.\", 'What good stuff?', 'The \"real you\".', 'Like my fear of wearing pastels?']\n"
     ]
    }
   ],
   "source": [
    "for key in list(conversation_texts.keys())[:5]:\n",
    "    print(key, conversation_texts[key])"
   ]
  },
  {
   "cell_type": "code",
   "execution_count": 48,
   "metadata": {},
   "outputs": [
    {
     "name": "stdout",
     "output_type": "stream",
     "text": [
      "They do to!\n",
      "\n",
      "    They do not!\n",
      "\n"
     ]
    }
   ],
   "source": [
    "corpus.get_conversation('L1044').print_conversation_structure(lambda utt: utt.text + \"\\n\")"
   ]
  },
  {
   "cell_type": "code",
   "execution_count": 49,
   "metadata": {},
   "outputs": [
    {
     "name": "stdout",
     "output_type": "stream",
     "text": [
      "She okay?\n",
      "\n",
      "    I hope so.\n",
      "\n"
     ]
    }
   ],
   "source": [
    "corpus.get_conversation('L984').print_conversation_structure(lambda utt: utt.text + \"\\n\")"
   ]
  },
  {
   "cell_type": "code",
   "execution_count": 50,
   "metadata": {},
   "outputs": [
    {
     "name": "stdout",
     "output_type": "stream",
     "text": [
      "Wow\n",
      "\n",
      "    Let's go.\n",
      "\n"
     ]
    }
   ],
   "source": [
    "corpus.get_conversation('L924').print_conversation_structure(lambda utt: utt.text + \"\\n\")"
   ]
  },
  {
   "cell_type": "code",
   "execution_count": 51,
   "metadata": {},
   "outputs": [
    {
     "name": "stdout",
     "output_type": "stream",
     "text": [
      "I'm kidding.  You know how sometimes you just become this \"persona\"?  And you don't know how to quit?\n",
      "\n",
      "    No\n",
      "\n",
      "        Okay -- you're gonna need to learn how to lie.\n",
      "\n"
     ]
    }
   ],
   "source": [
    "corpus.get_conversation('L870').print_conversation_structure(lambda utt: utt.text + \"\\n\")"
   ]
  },
  {
   "cell_type": "code",
   "execution_count": 52,
   "metadata": {},
   "outputs": [
    {
     "name": "stdout",
     "output_type": "stream",
     "text": [
      "I figured you'd get to the good stuff eventually.\n",
      "\n",
      "    What good stuff?\n",
      "\n",
      "        The \"real you\".\n",
      "\n",
      "            Like my fear of wearing pastels?\n",
      "\n"
     ]
    }
   ],
   "source": [
    "corpus.get_conversation('L866').print_conversation_structure(lambda utt: utt.text + \"\\n\")"
   ]
  },
  {
   "cell_type": "code",
   "execution_count": 53,
   "metadata": {},
   "outputs": [
    {
     "name": "stdout",
     "output_type": "stream",
     "text": [
      "221616\n",
      "[('They do to!', 'They do not!'), ('She okay?', 'I hope so.'), ('Wow', \"Let's go.\"), ('I\\'m kidding.  You know how sometimes you just become this \"persona\"?  And you don\\'t know how to quit?', 'No'), ('No', \"Okay -- you're gonna need to learn how to lie.\"), (\"I figured you'd get to the good stuff eventually.\", 'What good stuff?'), ('What good stuff?', 'The \"real you\".'), ('The \"real you\".', 'Like my fear of wearing pastels?'), ('do you listen to this crap?', 'What crap?'), ('What crap?', \"Me.  This endless ...blonde babble. I'm like, boring myself.\")]\n"
     ]
    }
   ],
   "source": [
    "def extract_conv_pairs(conversation_texts):\n",
    "    all_pairs = []\n",
    "    for conv_id in conversation_texts:\n",
    "        for i in range(len(conversation_texts[conv_id]) - 1):\n",
    "            all_pairs.append((conversation_texts[conv_id][i], conversation_texts[conv_id][i+1]))\n",
    "    return all_pairs\n",
    "\n",
    "all_conv_pairs = extract_conv_pairs(conversation_texts)\n",
    "\n",
    "print(len(all_conv_pairs))\n",
    "print(all_conv_pairs[:10])"
   ]
  },
  {
   "cell_type": "code",
   "execution_count": 54,
   "metadata": {},
   "outputs": [],
   "source": [
    "import pathlib\n",
    "data_root = f\"{pathlib.Path.home()}/Projects/AI-ML/datasets/nlp_data\"\n",
    "\n",
    "datafile = os.path.join(data_root, \"formatted_movie_lines.txt\")"
   ]
  },
  {
   "cell_type": "code",
   "execution_count": 55,
   "metadata": {},
   "outputs": [
    {
     "name": "stdout",
     "output_type": "stream",
     "text": [
      "\n",
      "Writing newly formatted file...\n"
     ]
    }
   ],
   "source": [
    "import codecs\n",
    "\n",
    "delimiter = '\\t'\n",
    "# Unescape the delimiter\n",
    "delimiter = str(codecs.decode(delimiter, \"unicode_escape\"))\n",
    "\n",
    "# Write new csv file\n",
    "print(\"\\nWriting newly formatted file...\")\n",
    "with open(datafile, 'w', encoding='utf-8') as outputfile:\n",
    "    writer = csv.writer(outputfile, delimiter=delimiter, lineterminator='\\n')\n",
    "    for pair in all_conv_pairs:\n",
    "        writer.writerow(pair)"
   ]
  },
  {
   "cell_type": "code",
   "execution_count": 56,
   "metadata": {},
   "outputs": [],
   "source": [
    "def printLines(file, n=10):\n",
    "    with open(file, 'rb') as datafile:\n",
    "        lines = datafile.readlines()\n",
    "    for line in lines[:n]:\n",
    "        print(line)"
   ]
  },
  {
   "cell_type": "code",
   "execution_count": 57,
   "metadata": {},
   "outputs": [
    {
     "name": "stdout",
     "output_type": "stream",
     "text": [
      "\n",
      "Sample lines from file:\n",
      "b'They do to!\\tThey do not!\\n'\n",
      "b'She okay?\\tI hope so.\\n'\n",
      "b\"Wow\\tLet's go.\\n\"\n",
      "b'\"I\\'m kidding.  You know how sometimes you just become this \"\"persona\"\"?  And you don\\'t know how to quit?\"\\tNo\\n'\n",
      "b\"No\\tOkay -- you're gonna need to learn how to lie.\\n\"\n",
      "b\"I figured you'd get to the good stuff eventually.\\tWhat good stuff?\\n\"\n",
      "b'What good stuff?\\t\"The \"\"real you\"\".\"\\n'\n",
      "b'\"The \"\"real you\"\".\"\\tLike my fear of wearing pastels?\\n'\n",
      "b'do you listen to this crap?\\tWhat crap?\\n'\n",
      "b\"What crap?\\tMe.  This endless ...blonde babble. I'm like, boring myself.\\n\"\n"
     ]
    }
   ],
   "source": [
    "print(\"\\nSample lines from file:\")\n",
    "printLines(datafile)"
   ]
  },
  {
   "cell_type": "code",
   "execution_count": 66,
   "metadata": {},
   "outputs": [],
   "source": [
    "PAD_token = 0\n",
    "SOS_token = 1\n",
    "EOS_token = 2\n",
    "\n",
    "class Vocabulary:\n",
    "\n",
    "    def __init__(self, name) -> None:\n",
    "        \n",
    "        self.name = name\n",
    "        self.trimed = 0\n",
    "        self.reset()\n",
    "\n",
    "    def reset(self):\n",
    "        self.word2index = {}\n",
    "        self.index2word = {EOS_token: \"<EOS>\", SOS_token: \"<SOS>\", PAD_token: \"<PAD>\"}\n",
    "        self.word2count = {}\n",
    "        self.n_words = 3\n",
    "\n",
    "    def addWord(self, word):\n",
    "        if word in self.word2count:\n",
    "            self.word2count[word] += 1\n",
    "        else:\n",
    "            self.word2count[word] = 1\n",
    "            self.word2index[word] = self.n_words\n",
    "            self.index2word[self.n_words] = word\n",
    "            self.n_words += 1\n",
    "\n",
    "    def addSentence(self, sentence):\n",
    "        for word in sentence.split(' '):\n",
    "            self.addWord(word)\n",
    "\n",
    "    def trim(self, min_count):\n",
    "        if self.trimed >= min_count:\n",
    "            return\n",
    "        self.trimed = min_count\n",
    "\n",
    "        keep_words = []\n",
    "\n",
    "        for k, v in self.word2count.items():\n",
    "            if v >= self.trimed:\n",
    "                keep_words.append((k, v))\n",
    "\n",
    "        print(\"keep_words {} / {} = {:.4f}\".format(\n",
    "            len(keep_words), len(self.word2count), float(len(keep_words)) / len(self.word2count)\n",
    "        ))\n",
    "\n",
    "        self.reset()\n",
    "\n",
    "        for word, count in keep_words:\n",
    "            self.addWord(word)\n",
    "            self.word2count[word] = count\n",
    "\n",
    "    def encode(self, sentence):\n",
    "        return [self.word2index[word] for word in sentence.split(' ')] + [EOS_token]\n",
    "    \n",
    "    def decode(self, ids):\n",
    "        words = []\n",
    "        for idx in ids:\n",
    "            if idx == EOS_token:\n",
    "                break\n",
    "            else:\n",
    "                words.append(self.index2word[idx])\n",
    "        return words"
   ]
  },
  {
   "cell_type": "code",
   "execution_count": 67,
   "metadata": {},
   "outputs": [],
   "source": [
    "MAX_LENGTH = 10  # Maximum sentence length to consider\n",
    "\n",
    "# Turn a Unicode string to plain ASCII, thanks to\n",
    "# https://stackoverflow.com/a/518232/2809427\n",
    "def unicodeToAscii(s):\n",
    "    return ''.join(\n",
    "        c for c in unicodedata.normalize('NFD', s)\n",
    "        if unicodedata.category(c) != 'Mn'\n",
    "    )\n",
    "\n",
    "# Lowercase, trim, and remove non-letter characters\n",
    "def normalizeString(s):\n",
    "    s = unicodeToAscii(s.lower().strip())\n",
    "    s = re.sub(r\"([.!?])\", r\" \\1\", s)\n",
    "    s = re.sub(r\"[^a-zA-Z.!?]+\", r\" \", s)\n",
    "    s = re.sub(r\"\\s+\", r\" \", s).strip()\n",
    "    return s"
   ]
  },
  {
   "cell_type": "code",
   "execution_count": 68,
   "metadata": {},
   "outputs": [],
   "source": [
    "# Read query/response pairs and return a voc object\n",
    "def readVocs(datafile, corpus_name):\n",
    "    print(\"Reading lines...\")\n",
    "    # Read the file and split into lines\n",
    "    lines = open(datafile, encoding='utf-8').\\\n",
    "        read().strip().split('\\n')\n",
    "    # Split every line into pairs and normalize\n",
    "    pairs = [[normalizeString(s) for s in l.split('\\t')] for l in lines]\n",
    "    voc = Vocabulary(corpus_name)\n",
    "    return voc, pairs\n",
    "\n",
    "\n",
    "# Returns True if both sentences in a pair 'p' are under the MAX_LENGTH threshold\n",
    "def filterPair(p):\n",
    "    # Input sequences need to preserve the last word for EOS token\n",
    "    return len(p[0].split(' ')) < MAX_LENGTH and len(p[1].split(' ')) < MAX_LENGTH\n",
    "\n",
    "# Filter pairs using the ``filterPair`` condition\n",
    "def filterPairs(pairs):\n",
    "    return [pair for pair in pairs if filterPair(pair)]\n",
    "\n",
    "# Using the functions defined above, return a populated voc object and pairs list\n",
    "def loadPrepareData(corpus_name, datafile):\n",
    "    print(\"Start preparing training data ...\")\n",
    "    voc, pairs = readVocs(datafile, corpus_name)\n",
    "    print(\"Read {!s} sentence pairs\".format(len(pairs)))\n",
    "    pairs = filterPairs(pairs)\n",
    "    print(\"Trimmed to {!s} sentence pairs\".format(len(pairs)))\n",
    "    print(\"Counting words...\")\n",
    "    for pair in pairs:\n",
    "        voc.addSentence(pair[0])\n",
    "        voc.addSentence(pair[1])\n",
    "    print(\"Counted words:\", voc.n_words)\n",
    "    return voc, pairs"
   ]
  },
  {
   "cell_type": "code",
   "execution_count": 69,
   "metadata": {},
   "outputs": [
    {
     "name": "stdout",
     "output_type": "stream",
     "text": [
      "Start preparing training data ...\n",
      "Reading lines...\n",
      "Read 221616 sentence pairs\n",
      "Trimmed to 64585 sentence pairs\n",
      "Counting words...\n",
      "Counted words: 18093\n",
      "\n",
      "pairs:\n",
      "['they do to !', 'they do not !']\n",
      "['she okay ?', 'i hope so .']\n",
      "['wow', 'let s go .']\n",
      "['what good stuff ?', 'the real you .']\n",
      "['the real you .', 'like my fear of wearing pastels ?']\n",
      "['do you listen to this crap ?', 'what crap ?']\n",
      "['well no . . .', 'then that s all you had to say .']\n",
      "['then that s all you had to say .', 'but']\n",
      "['but', 'you always been this selfish ?']\n",
      "['have fun tonight ?', 'tons']\n"
     ]
    }
   ],
   "source": [
    "voc, pairs = loadPrepareData(\"movie-corpus\", datafile)\n",
    "# Print some pairs to validate\n",
    "print(\"\\npairs:\")\n",
    "for pair in pairs[:10]:\n",
    "    print(pair)"
   ]
  },
  {
   "cell_type": "code",
   "execution_count": 70,
   "metadata": {},
   "outputs": [
    {
     "name": "stdout",
     "output_type": "stream",
     "text": [
      "keep_words 7837 / 18090 = 0.4332\n",
      "Trimmed from 64585 pairs to 53386, 0.8266 of total\n"
     ]
    }
   ],
   "source": [
    "MIN_COUNT = 3    # Minimum word count threshold for trimming\n",
    "\n",
    "def trimRareWords(voc, pairs, MIN_COUNT):\n",
    "    # Trim words used under the MIN_COUNT from the voc\n",
    "    voc.trim(MIN_COUNT)\n",
    "    # Filter out pairs with trimmed words\n",
    "    keep_pairs = []\n",
    "    for pair in pairs:\n",
    "        input_sentence = pair[0]\n",
    "        output_sentence = pair[1]\n",
    "        keep_input = True\n",
    "        keep_output = True\n",
    "        # Check input sentence\n",
    "        for word in input_sentence.split(' '):\n",
    "            if word not in voc.word2index:\n",
    "                keep_input = False\n",
    "                break\n",
    "        # Check output sentence\n",
    "        for word in output_sentence.split(' '):\n",
    "            if word not in voc.word2index:\n",
    "                keep_output = False\n",
    "                break\n",
    "\n",
    "        # Only keep pairs that do not contain trimmed word(s) in their input or output sentence\n",
    "        if keep_input and keep_output:\n",
    "            keep_pairs.append(pair)\n",
    "\n",
    "    print(\"Trimmed from {} pairs to {}, {:.4f} of total\".format(len(pairs), len(keep_pairs), len(keep_pairs) / len(pairs)))\n",
    "    return keep_pairs\n",
    "\n",
    "\n",
    "# Trim voc and pairs\n",
    "pairs = trimRareWords(voc, pairs, MIN_COUNT)"
   ]
  },
  {
   "cell_type": "markdown",
   "metadata": {},
   "source": [
    "# Batch data\n",
    "\n",
    "[padded_batch_of_sequences](https://stackoverflow.com/questions/51030782/why-do-we-pack-the-sequences-in-pytorch)\n",
    "\n",
    "![Padded batch](images/batch-padded.png)\n",
    "\n",
    "> So, the data preparation work should be complete by now, right? Not really.. Because there is still one pressing problem, mainly in terms of how much compute do we have to do when compared to the actually required computations.\n",
    "> \n",
    "> For the sake of understanding, let's also assume that we will matrix multiply the above padded_batch_of_sequences of shape (6, 9) with a weight matrix W of shape (9, 3).\n",
    ">\n",
    "> Thus, we will have to perform 6x9 = 54 multiplication and 6x8 = 48 addition                     (nrows x (n-1)_cols) operations, only to throw away most of the computed results since they would be 0s (where we have pads). The actual required compute in this case is as follows:\n",
    "```text\n",
    " 9-mult  8-add \n",
    " 8-mult  7-add \n",
    " 6-mult  5-add \n",
    " 4-mult  3-add \n",
    " 3-mult  2-add \n",
    " 2-mult  1-add\n",
    "---------------\n",
    "32-mult  26-add\n",
    "   \n",
    "------------------------------  \n",
    "#savings: 22-mult & 22-add ops  \n",
    "          (32-54)  (26-48) \n",
    "```\n",
    "> That's a LOT more savings even for this very simple (toy) example. You can now imagine how much compute (eventually: cost, energy, time, carbon emission etc.) can be saved using pack_padded_sequence() for large tensors with millions of entries, and million+ systems all over the world doing that, again and again.\n",
    ">\n",
    "> The functionality of pack_padded_sequence() can be understood from the figure below, with the help of the used color-coding:\n",
    "\n",
    "![Packed sentences](images/batch-packed-sentences.png)\n",
    "> As a result of using pack_padded_sequence(), we will get a tuple of tensors containing (i) the flattened (along axis-1, in the above figure) sequences , (ii) the corresponding batch sizes, tensor([6,6,5,4,3,3,2,2,1]) for the above example.\n",
    "> \n",
    "> The data tensor (i.e. the flattened sequences) could then be passed to objective functions such as CrossEntropy for loss calculations.\n",
    "\n",
    "## batch transposed\n",
    "\n",
    "![Batch](images/batch-transpose.png)"
   ]
  },
  {
   "cell_type": "code",
   "execution_count": 75,
   "metadata": {},
   "outputs": [],
   "source": [
    "def zeroPadding(sentence_list, fillvalue=PAD_token):\n",
    "    return list(itertools.zip_longest(*sentence_list, fillvalue=fillvalue))\n",
    "\n",
    "def maskMatrix(tokens, value=PAD_token):\n",
    "    return (tokens != value)\n",
    "\n",
    "def prepareInputBatch(sentence_batch, voc):\n",
    "    token_list = [voc.encode(sentence) for sentence in sentence_batch]\n",
    "    lengths = torch.tensor([len(seq) for seq in token_list])\n",
    "    paddedList = zeroPadding(token_list)\n",
    "    paddedTensors = torch.LongTensor(paddedList)\n",
    "    return paddedTensors, lengths\n",
    "\n",
    "def prepareOutputBatch(sentence_batch, voc):\n",
    "    tensors, lengths = prepareInputBatch(sentence_batch, voc)\n",
    "    mask = maskMatrix(tensors)\n",
    "    maxLength = lengths.max().item()\n",
    "    return tensors, mask, maxLength\n",
    "\n",
    "def batch2TrainData(voc, pair_batch):\n",
    "    pair_batch.sort(key = lambda pair: len(pair[0].split(' ')), reverse=True)\n",
    "    input_batch = [p[0] for p in pair_batch]\n",
    "    output_batch = [p[1] for p in pair_batch]\n",
    "    inputTensors, inputLengths = prepareInputBatch(input_batch, voc)\n",
    "    outputTensors, outputMask, outputMaxLen = prepareOutputBatch(output_batch, voc)\n",
    "    return inputTensors, inputLengths, outputTensors, outputMask, outputMaxLen\n",
    "\n"
   ]
  },
  {
   "cell_type": "code",
   "execution_count": 76,
   "metadata": {},
   "outputs": [
    {
     "name": "stdout",
     "output_type": "stream",
     "text": [
      "input_variable: tensor([[  19,   11,  396,   50,   11],\n",
      "        [   4,  136,   11,  387,  113],\n",
      "        [  11,    5, 2462,   14,  544],\n",
      "        [  44,  194,   99,   14,   24],\n",
      "        [   5, 2442,   10,   14,   14],\n",
      "        [   4,   14,    2,    2,    2],\n",
      "        [  10,    2,    0,    0,    0],\n",
      "        [   2,    0,    0,    0,    0]])\n",
      "lengths: tensor([8, 7, 6, 6, 6])\n",
      "target_variable: tensor([[  93,  194,  128,  576,  175],\n",
      "        [ 736, 2442,   28, 6640,   13],\n",
      "        [  62,   10,  820,   50,   10],\n",
      "        [ 757,   24,    2,   64,    2],\n",
      "        [  14,  265,    0, 3238,    0],\n",
      "        [  62,  682,    0,   14,    0],\n",
      "        [ 201,   14,    0,    2,    0],\n",
      "        [ 278, 6539,    0,    0,    0],\n",
      "        [  14,   10,    0,    0,    0],\n",
      "        [   2,    2,    0,    0,    0]])\n",
      "mask: tensor([[ True,  True,  True,  True,  True],\n",
      "        [ True,  True,  True,  True,  True],\n",
      "        [ True,  True,  True,  True,  True],\n",
      "        [ True,  True,  True,  True,  True],\n",
      "        [ True,  True, False,  True, False],\n",
      "        [ True,  True, False,  True, False],\n",
      "        [ True,  True, False,  True, False],\n",
      "        [ True,  True, False, False, False],\n",
      "        [ True,  True, False, False, False],\n",
      "        [ True,  True, False, False, False]])\n",
      "max_target_len: 10\n"
     ]
    }
   ],
   "source": [
    "# Example for validation\n",
    "small_batch_size = 5\n",
    "batches = batch2TrainData(voc, [random.choice(pairs) for _ in range(small_batch_size)])\n",
    "input_variable, lengths, target_variable, mask, max_target_len = batches\n",
    "\n",
    "print(\"input_variable:\", input_variable)\n",
    "print(\"lengths:\", lengths)\n",
    "print(\"target_variable:\", target_variable)\n",
    "print(\"mask:\", mask)\n",
    "print(\"max_target_len:\", max_target_len)"
   ]
  },
  {
   "cell_type": "markdown",
   "metadata": {},
   "source": [
    "# Encoder\n",
    "\n",
    "![Bidirectional RNN](images/bidirectional-gru-encoder.png)"
   ]
  },
  {
   "cell_type": "code",
   "execution_count": 77,
   "metadata": {},
   "outputs": [],
   "source": [
    "class EncoderGru(nn.Module):\n",
    "\n",
    "    def __init__(self, embedding, hidden_size, n_layers, dropout_p=0.1) -> None:\n",
    "        super().__init__()\n",
    "\n",
    "        self.embedding = embedding\n",
    "        self.hidden_size = hidden_size\n",
    "        self.gru = nn.GRU(hidden_size, hidden_size, num_layers=n_layers, dropout=dropout_p, bidirectional=True)\n",
    "\n",
    "    def forward(self, ids, lengths, hidden=None):\n",
    "        # ids: (T, B)\n",
    "        embedded = self.embedding(ids)\n",
    "        packed = nn.utils.rnn.pack_padded_sequence(embedded, lengths)\n",
    "        outputs, hidden = self.gru(packed, hidden) # (T, B, 2 x H)\n",
    "        outputs, _ = nn.utils.rnn.pad_packed_sequence(outputs)\n",
    "        # sum up 2 directional outputs -> (T, B, H)\n",
    "        outputs = outputs[:, :, : self.hidden_size] + outputs[:, :, self.hidden_size:]\n",
    "        return outputs, hidden"
   ]
  },
  {
   "cell_type": "code",
   "execution_count": 79,
   "metadata": {},
   "outputs": [
    {
     "name": "stdout",
     "output_type": "stream",
     "text": [
      "torch.Size([8, 5, 20]) torch.Size([4, 5, 20])\n"
     ]
    }
   ],
   "source": [
    "hidden_size = 20\n",
    "embedding = nn.Embedding(voc.n_words, hidden_size)\n",
    "encoder = EncoderGru(embedding, hidden_size, n_layers=2)\n",
    "\n",
    "outputs, hidden = encoder(input_variable, lengths)\n",
    "print(outputs.shape, hidden.shape)"
   ]
  },
  {
   "cell_type": "markdown",
   "metadata": {},
   "source": [
    "# Decoder"
   ]
  },
  {
   "cell_type": "code",
   "execution_count": 103,
   "metadata": {},
   "outputs": [
    {
     "name": "stdout",
     "output_type": "stream",
     "text": [
      "torch.Size([10, 5, 7840]) torch.Size([1, 5, 20]) tensor([[1.0000, 1.0000, 1.0000, 1.0000, 1.0000],\n",
      "        [1.0000, 1.0000, 1.0000, 1.0000, 1.0000],\n",
      "        [1.0000, 1.0000, 1.0000, 1.0000, 1.0000],\n",
      "        [1.0000, 1.0000, 1.0000, 1.0000, 1.0000],\n",
      "        [1.0000, 1.0000, 1.0000, 1.0000, 1.0000],\n",
      "        [1.0000, 1.0000, 1.0000, 1.0000, 1.0000],\n",
      "        [1.0000, 1.0000, 1.0000, 1.0000, 1.0000],\n",
      "        [1.0000, 1.0000, 1.0000, 1.0000, 1.0000],\n",
      "        [1.0000, 1.0000, 1.0000, 1.0000, 1.0000],\n",
      "        [1.0000, 1.0000, 1.0000, 1.0000, 1.0000]], grad_fn=<SumBackward1>)\n"
     ]
    }
   ],
   "source": [
    "class DecoderGru(nn.Module):\n",
    "\n",
    "    def __init__(self, embedding, hidden_size, output_size, enc_layers, n_layers, dropout_p=0.1) -> None:\n",
    "        super().__init__()\n",
    "\n",
    "        self.hidden_size = hidden_size\n",
    "        self.output_size = output_size\n",
    "        self.n_layers = n_layers\n",
    "\n",
    "        self.embedding = embedding\n",
    "        self.embedding_dropout = nn.Dropout(dropout_p)\n",
    "        self.hidden_conv = nn.Linear(2 * enc_layers, n_layers)\n",
    "        self.gru = nn.GRU(hidden_size, hidden_size, num_layers=n_layers, dropout=dropout_p)\n",
    "        self.out_fc = nn.Linear(hidden_size, output_size)\n",
    "\n",
    "    def forward_step(self, step_idx, hidden):\n",
    "        # step_idx: (1, B)\n",
    "        embedded = self.embedding(step_idx) # (1, B, H)\n",
    "        embedded = self.embedding_dropout(embedded)\n",
    "        output, hidden = self.gru(embedded, hidden)\n",
    "        output = self.out_fc(output)\n",
    "        return output, hidden\n",
    "    \n",
    "    def forward(self, encoder_outputs, encoder_hidden, max_target_len, targets):\n",
    "        batch_size = encoder_hidden.size(1) # (2 * enc_layers, B, H)\n",
    "        decoder_input = torch.LongTensor([[SOS_token for _ in range(batch_size)]]) # (1, B)\n",
    "        # decoder_hidden = encoder_hidden[:self.n_layers] # (2 * enc_layers, B, H) -> (n_layers, B, H)\n",
    "        decoder_hidden = self.hidden_conv(encoder_hidden.permute(2, 1, 0)).permute(2, 1, 0)\n",
    "        outputs = []\n",
    "        for t in range(max_target_len):\n",
    "            decoder_output, decoder_hidden = self.forward_step(decoder_input, decoder_hidden)\n",
    "            outputs.append(decoder_output)\n",
    "            if targets is not None:\n",
    "                decoder_input = targets[t].view(1, -1)\n",
    "            else:\n",
    "                _, topi = decoder_output.topk(1, dim=-1)\n",
    "                decoder_input = torch.LongTensor([[topi[0][i][0] for i in range(batch_size)]])\n",
    "        outputs = torch.cat(outputs, dim=0)\n",
    "        outputs = F.softmax(outputs, dim=-1)\n",
    "        return outputs, decoder_hidden\n",
    "        \n",
    "\n",
    "decoder = DecoderGru(embedding, hidden_size, enc_layers=2, n_layers=1, output_size=voc.n_words)\n",
    "decoder_outputs, decoder_hidden = decoder(outputs, hidden, max_target_len, target_variable)\n",
    "print(decoder_outputs.shape, decoder_hidden.shape, decoder_outputs.sum(dim=2))"
   ]
  },
  {
   "cell_type": "code",
   "execution_count": 104,
   "metadata": {},
   "outputs": [
    {
     "name": "stdout",
     "output_type": "stream",
     "text": [
      "torch.Size([10, 5, 7840]) torch.Size([1, 5, 20]) tensor([[1.0000, 1.0000, 1.0000, 1.0000, 1.0000],\n",
      "        [1.0000, 1.0000, 1.0000, 1.0000, 1.0000],\n",
      "        [1.0000, 1.0000, 1.0000, 1.0000, 1.0000],\n",
      "        [1.0000, 1.0000, 1.0000, 1.0000, 1.0000],\n",
      "        [1.0000, 1.0000, 1.0000, 1.0000, 1.0000],\n",
      "        [1.0000, 1.0000, 1.0000, 1.0000, 1.0000],\n",
      "        [1.0000, 1.0000, 1.0000, 1.0000, 1.0000],\n",
      "        [1.0000, 1.0000, 1.0000, 1.0000, 1.0000],\n",
      "        [1.0000, 1.0000, 1.0000, 1.0000, 1.0000],\n",
      "        [1.0000, 1.0000, 1.0000, 1.0000, 1.0000]], grad_fn=<SumBackward1>)\n"
     ]
    }
   ],
   "source": [
    "decoder_outputs, decoder_hidden = decoder(outputs, hidden, max_target_len, targets=None)\n",
    "print(decoder_outputs.shape, decoder_hidden.shape, decoder_outputs.sum(dim=2))"
   ]
  },
  {
   "cell_type": "code",
   "execution_count": 131,
   "metadata": {},
   "outputs": [],
   "source": [
    "def maskNLLLoss(pred, target, mask):\n",
    "    # print(pred.shape, target.shape, mask.shape)\n",
    "    n_enabled = mask.sum()\n",
    "    crossEntropy = -torch.log(torch.gather(pred.view(-1, pred.size(-1)), 1, target.view(-1, 1)).squeeze(1))\n",
    "    loss = crossEntropy.masked_select(mask.view(-1, 1)).mean()\n",
    "    return loss, n_enabled.item()"
   ]
  },
  {
   "cell_type": "code",
   "execution_count": 132,
   "metadata": {},
   "outputs": [
    {
     "name": "stdout",
     "output_type": "stream",
     "text": [
      "torch.Size([10, 5, 7840]) torch.Size([10, 5]) torch.Size([10, 5]) torch.Size([50, 7840])\n"
     ]
    }
   ],
   "source": [
    "print(decoder_outputs.shape, target_variable.shape, mask.shape, decoder_outputs.view(-1, decoder_outputs.size(2)).shape)"
   ]
  },
  {
   "cell_type": "code",
   "execution_count": 133,
   "metadata": {},
   "outputs": [
    {
     "data": {
      "text/plain": [
       "torch.Size([50, 1])"
      ]
     },
     "execution_count": 133,
     "metadata": {},
     "output_type": "execute_result"
    }
   ],
   "source": [
    "torch.gather(decoder_outputs.view(-1, decoder_outputs.size(2)), 1, target_variable.view(-1, 1)).shape"
   ]
  },
  {
   "cell_type": "code",
   "execution_count": 134,
   "metadata": {},
   "outputs": [
    {
     "data": {
      "text/plain": [
       "(tensor(9.0310, grad_fn=<MeanBackward0>), 5)"
      ]
     },
     "execution_count": 134,
     "metadata": {},
     "output_type": "execute_result"
    }
   ],
   "source": [
    "maskNLLLoss(decoder_outputs[0], target_variable[0], mask[0])"
   ]
  },
  {
   "cell_type": "code",
   "execution_count": 135,
   "metadata": {},
   "outputs": [
    {
     "data": {
      "text/plain": [
       "(tensor(8.8797, grad_fn=<MeanBackward0>), 35)"
      ]
     },
     "execution_count": 135,
     "metadata": {},
     "output_type": "execute_result"
    }
   ],
   "source": [
    "maskNLLLoss(decoder_outputs, target_variable, mask)"
   ]
  },
  {
   "cell_type": "code",
   "execution_count": 136,
   "metadata": {},
   "outputs": [],
   "source": [
    "def train_batch(batch_data, encoder, decoder, embedding,\n",
    "                encoder_optim, decoder_optim, embedding_optim,\n",
    "                grad_clip, teacher_forcing_ratio):\n",
    "    input_tensors, input_lengths, target_tensors, mask, max_target_len = batch_data\n",
    "    \n",
    "    embedding_optim.zero_grad()\n",
    "    encoder_optim.zero_grad()\n",
    "    decoder_optim.zero_grad()\n",
    "\n",
    "    encoder_outputs, encoder_hidden = encoder(input_tensors, input_lengths)\n",
    "    use_teacher_forcing = True if random.random() < teacher_forcing_ratio else False\n",
    "\n",
    "    if use_teacher_forcing:\n",
    "        decoder_outputs, _ = decoder(encoder_outputs, encoder_hidden, max_target_len, target_tensors)\n",
    "    else:\n",
    "        decoder_outputs, _ = decoder(encoder_outputs, encoder_hidden, max_target_len, targets=None)\n",
    "\n",
    "    mask_loss, nTotal = maskNLLLoss(decoder_outputs, target_tensors, mask)\n",
    "    mask_loss.backward()\n",
    "\n",
    "    _ = nn.utils.clip_grad_norm_(embedding.parameters(), grad_clip)\n",
    "    _ = nn.utils.clip_grad_norm_(encoder.parameters(), grad_clip)\n",
    "    _ = nn.utils.clip_grad_norm_(decoder.parameters(), grad_clip)\n",
    "\n",
    "    embedding_optim.step()\n",
    "    encoder_optim.step()\n",
    "    decoder_optim.step()\n",
    "\n",
    "    return mask_loss.item(), nTotal"
   ]
  },
  {
   "cell_type": "code",
   "execution_count": 138,
   "metadata": {},
   "outputs": [
    {
     "name": "stderr",
     "output_type": "stream",
     "text": [
      "/Users/dungminhdang/anaconda3/envs/py39/lib/python3.9/site-packages/torch/nn/modules/rnn.py:83: UserWarning: dropout option adds dropout after all but last recurrent layer, so non-zero dropout expects num_layers greater than 1, but got dropout=0.1 and num_layers=1\n",
      "  warnings.warn(\"dropout option adds dropout after all but last \"\n"
     ]
    },
    {
     "name": "stdout",
     "output_type": "stream",
     "text": [
      "Iteration: 100; Percent complete: 2.5%; Average loss: 4.8055\n",
      "Iteration: 200; Percent complete: 5.0%; Average loss: 3.0201\n",
      "Iteration: 300; Percent complete: 7.5%; Average loss: 2.7914\n",
      "Iteration: 400; Percent complete: 10.0%; Average loss: 2.6742\n",
      "Iteration: 500; Percent complete: 12.5%; Average loss: 2.6698\n",
      "Iteration: 600; Percent complete: 15.0%; Average loss: 2.6283\n",
      "Iteration: 700; Percent complete: 17.5%; Average loss: 2.5890\n",
      "Iteration: 800; Percent complete: 20.0%; Average loss: 2.5420\n",
      "Iteration: 900; Percent complete: 22.5%; Average loss: 2.4950\n",
      "Iteration: 1000; Percent complete: 25.0%; Average loss: 2.4758\n",
      "Iteration: 1100; Percent complete: 27.5%; Average loss: 2.4205\n",
      "Iteration: 1200; Percent complete: 30.0%; Average loss: 2.4108\n",
      "Iteration: 1300; Percent complete: 32.5%; Average loss: 2.3934\n",
      "Iteration: 1400; Percent complete: 35.0%; Average loss: 2.3443\n",
      "Iteration: 1500; Percent complete: 37.5%; Average loss: 2.3195\n",
      "Iteration: 1600; Percent complete: 40.0%; Average loss: 2.3634\n",
      "Iteration: 1700; Percent complete: 42.5%; Average loss: 2.3399\n",
      "Iteration: 1800; Percent complete: 45.0%; Average loss: 2.3284\n",
      "Iteration: 1900; Percent complete: 47.5%; Average loss: 2.3151\n",
      "Iteration: 2000; Percent complete: 50.0%; Average loss: 2.2824\n",
      "Iteration: 2100; Percent complete: 52.5%; Average loss: 2.2768\n",
      "Iteration: 2200; Percent complete: 55.0%; Average loss: 2.2906\n",
      "Iteration: 2300; Percent complete: 57.5%; Average loss: 2.2569\n",
      "Iteration: 2400; Percent complete: 60.0%; Average loss: 2.2763\n",
      "Iteration: 2500; Percent complete: 62.5%; Average loss: 2.2308\n",
      "Iteration: 2600; Percent complete: 65.0%; Average loss: 2.2637\n",
      "Iteration: 2700; Percent complete: 67.5%; Average loss: 2.2412\n",
      "Iteration: 2800; Percent complete: 70.0%; Average loss: 2.2282\n",
      "Iteration: 2900; Percent complete: 72.5%; Average loss: 2.1905\n",
      "Iteration: 3000; Percent complete: 75.0%; Average loss: 2.2404\n",
      "Iteration: 3100; Percent complete: 77.5%; Average loss: 2.1976\n",
      "Iteration: 3200; Percent complete: 80.0%; Average loss: 2.2241\n",
      "Iteration: 3300; Percent complete: 82.5%; Average loss: 2.2282\n",
      "Iteration: 3400; Percent complete: 85.0%; Average loss: 2.1925\n",
      "Iteration: 3500; Percent complete: 87.5%; Average loss: 2.1794\n",
      "Iteration: 3600; Percent complete: 90.0%; Average loss: 2.1645\n",
      "Iteration: 3700; Percent complete: 92.5%; Average loss: 2.2011\n",
      "Iteration: 3800; Percent complete: 95.0%; Average loss: 2.1882\n",
      "Iteration: 3900; Percent complete: 97.5%; Average loss: 2.1728\n",
      "Iteration: 4000; Percent complete: 100.0%; Average loss: 2.2116\n"
     ]
    }
   ],
   "source": [
    "hidden_size = 128\n",
    "encoder_n_layers = 1\n",
    "decoder_n_layers = 2\n",
    "dropout = 0.1\n",
    "batch_size = 32\n",
    "\n",
    "embedding = nn.Embedding(voc.n_words, hidden_size)\n",
    "encoder = EncoderGru(embedding, hidden_size, encoder_n_layers, dropout)\n",
    "decoder = DecoderGru(embedding, hidden_size, enc_layers=encoder_n_layers,\n",
    "                     n_layers=decoder_n_layers, output_size=voc.n_words, dropout_p=dropout)\n",
    "\n",
    "clip = 50.0\n",
    "teacher_forcing_ratio = 1.0\n",
    "learning_rate = 0.0001\n",
    "decoder_learning_ratio = 5.0\n",
    "n_iteration = 4000\n",
    "print_every = 100\n",
    "\n",
    "embedding.train()\n",
    "encoder.train()\n",
    "decoder.train()\n",
    "\n",
    "embedding_optimizer = torch.optim.Adam(embedding.parameters(), lr=learning_rate)\n",
    "encoder_optimizer = torch.optim.Adam(encoder.parameters(), lr=learning_rate)\n",
    "decoder_optimizer = torch.optim.Adam(decoder.parameters(), lr=learning_rate * decoder_learning_ratio)\n",
    "\n",
    "print_loss = 0\n",
    "\n",
    "for iteration in range(1, n_iteration + 1):\n",
    "    batch_data = batch2TrainData(voc, [random.choice(pairs) for _ in range(batch_size)])\n",
    "    \n",
    "    loss, n_mask = train_batch(batch_data, encoder, decoder, embedding,\n",
    "                encoder_optimizer, decoder_optimizer, embedding_optimizer,\n",
    "                clip, teacher_forcing_ratio)\n",
    "    \n",
    "    print_loss += loss\n",
    "\n",
    "    if iteration % print_every == 0:\n",
    "            print_loss_avg = print_loss / print_every\n",
    "            print(\"Iteration: {}; Percent complete: {:.1f}%; Average loss: {:.4f}\".format(iteration, iteration / n_iteration * 100, print_loss_avg))\n",
    "            print_loss = 0"
   ]
  },
  {
   "cell_type": "code",
   "execution_count": 144,
   "metadata": {},
   "outputs": [
    {
     "data": {
      "text/plain": [
       "['i', 'm', 'sorry', '.', '<EOS>', '<PAD>', '<PAD>', '<PAD>', '<PAD>', '<PAD>']"
      ]
     },
     "execution_count": 144,
     "metadata": {},
     "output_type": "execute_result"
    }
   ],
   "source": [
    "class EvaluateMode(nn.Module):\n",
    "\n",
    "    def __init__(self, encoder, decoder) -> None:\n",
    "        super().__init__()\n",
    "\n",
    "        self.encoder = encoder\n",
    "        self.decoder = decoder\n",
    "\n",
    "    def forward(self, input_tensors, input_lengths, max_length):\n",
    "        encoder_outputs, encoder_hidden = encoder(input_tensors, input_lengths)\n",
    "        decoder_outputs, _ = decoder(encoder_outputs, encoder_hidden, max_length, targets=None)\n",
    "        decoder_scores, decoder_tokens = torch.max(decoder_outputs, dim=-1)\n",
    "\n",
    "        return decoder_tokens, decoder_scores\n",
    "    \n",
    "    def evaluate(self, voc, sentence, max_length=MAX_LENGTH):\n",
    "        indexes_batch = [voc.encode(sentence)]\n",
    "        lengths = torch.tensor([len(indexes) for indexes in indexes_batch])\n",
    "        input_batch = torch.LongTensor(indexes_batch).transpose(0, 1)\n",
    "\n",
    "        tokens, scores = self(input_batch, lengths, max_length)\n",
    "        decoded_words = [voc.index2word[token.item()] for token in tokens]\n",
    "        return decoded_words\n",
    "    \n",
    "evalModel = EvaluateMode(encoder, decoder)\n",
    "evalModel.eval()\n",
    "\n",
    "\n",
    "evalModel.evaluate(voc, \"to do\")"
   ]
  },
  {
   "cell_type": "code",
   "execution_count": 147,
   "metadata": {},
   "outputs": [
    {
     "name": "stdout",
     "output_type": "stream",
     "text": [
      "> . . . that s perfectly all right .\n",
      "= uh why why are you doing this ?\n",
      ">> what ? <EOS> <PAD> <PAD> <PAD> <PAD> <PAD> <PAD> <PAD>\n",
      "> naw ! that s science fiction stuff !\n",
      "= not where we operate .\n",
      ">> what ? <EOS> <PAD> <PAD> <PAD> <PAD> <PAD> <PAD> <PAD>\n",
      "> yes .\n",
      "= welcome to hard times daddy .\n",
      ">> i m sorry . <EOS> <PAD> <PAD> <PAD> <PAD> <PAD>\n",
      "> crime ?\n",
      "= murder sir .\n",
      ">> yes . <EOS> <PAD> <PAD> <PAD> <PAD> <PAD> <PAD> <PAD>\n",
      "> you aren t staying ?\n",
      "= this . . . seemed best .\n",
      ">> i m not sure . <EOS> <PAD> <PAD> <PAD> <PAD>\n",
      "> your treat .\n",
      "= yes . my treat .\n",
      ">> what ? <EOS> <PAD> <PAD> <PAD> <PAD> <PAD> <PAD> <PAD>\n",
      "> yeah\n",
      "= so why are you dating jonathan ?\n",
      ">> i m sorry . <EOS> <PAD> <PAD> <PAD> <PAD> <PAD>\n",
      "> do what ?\n",
      "= turn her over to a stalker .\n",
      ">> i m not going to see you . <EOS> <PAD>\n",
      "> gaiijin .\n",
      "= i ll check it out .\n",
      ">> you re not . <EOS> <PAD> <PAD> <PAD> <PAD> <PAD>\n",
      "> what ?\n",
      "= how much time do we have ?\n",
      ">> you re a little . <EOS> <PAD> <PAD> <PAD> <PAD>\n"
     ]
    }
   ],
   "source": [
    "\n",
    "eval_batch = [random.choice(pairs) for _ in range(10)]\n",
    "\n",
    "for pair in eval_batch:\n",
    "    generated = ' '.join(evalModel.evaluate(voc, pair[0]))\n",
    "    print(f\"> {pair[0]}\")\n",
    "    print(f\"= {pair[1]}\")\n",
    "    print(f\">> {generated}\")\n"
   ]
  },
  {
   "cell_type": "markdown",
   "metadata": {},
   "source": [
    "# Attention Decoder\n",
    "\n",
    "# Luong's attention\n",
    "\n",
    "![Global attention](images/luong-attention.png)"
   ]
  },
  {
   "cell_type": "code",
   "execution_count": 150,
   "metadata": {},
   "outputs": [],
   "source": [
    "\n",
    "# encoder hidden: (2 * enc_layers, B, H)\n",
    "\n",
    "class LuongAttn(nn.Module):\n",
    "\n",
    "    def __init__(self, method: str, hidden_size: int) -> None:\n",
    "        super().__init__()\n",
    "\n",
    "        self.method = method\n",
    "        if self.method not in ['dot', 'general', 'concat']:\n",
    "            raise ValueError(self.method, \"is not supported\")\n",
    "        self.hidden_size = hidden_size\n",
    "\n",
    "        if method == 'general':\n",
    "            self.attn = nn.Linear(hidden_size, hidden_size)\n",
    "        elif method == 'concat':\n",
    "            self.attn = nn.Linear(2 * hidden_size, hidden_size)\n",
    "            self.v = nn.Parameter(torch.FloatTensor(hidden_size))\n",
    "\n",
    "    def general_scores(self, decoder_output, encoder_outputs):\n",
    "        # encoder_outputs: # (T, B, H)\n",
    "        # decoder_output: (1, B, H)\n",
    "        energy = self.attn(encoder_outputs) # (T, B, H)\n",
    "        return torch.sum(decoder_output * energy, dim=2)\n",
    "    \n",
    "    def dot_scores(self, decoder_output, encoder_outputs):\n",
    "        return torch.sum(decoder_output * encoder_outputs, dim=2)\n",
    "    \n",
    "    def concat_scores(self, decoder_output, encoder_outputs):\n",
    "        energy = F.tanh(self.attn(torch.cat((decoder_output.expand(encoder_outputs.size(0), -1, -1), encoder_outputs), dim=2)))\n",
    "        return torch.sum(self.v * energy, dim=2)\n",
    "\n",
    "    def forward(self, decoder_output, encoder_outputs):\n",
    "        # encoder output: (T, B, H)\n",
    "        if self.method == 'general':\n",
    "            attn_energies = self.general_scores(decoder_output, encoder_outputs)\n",
    "        elif self.method == 'concat':\n",
    "            attn_energies = self.concat_scores(decoder_output, encoder_outputs)\n",
    "        elif self.method == 'dot':\n",
    "            attn_energies = self.dot_scores(decoder_output, encoder_outputs)\n",
    "\n",
    "        attn_energies = attn_energies.t() # attn_energies: (T, B) -> (B, T)\n",
    "        return F.softmax(attn_energies, dim=1).unsqueeze(1) # (B, 1, T)\n",
    "    \n",
    "        "
   ]
  },
  {
   "cell_type": "code",
   "execution_count": 167,
   "metadata": {},
   "outputs": [],
   "source": [
    "class AttnDecoderGru(nn.Module):\n",
    "\n",
    "    def __init__(self, attn_mode, embedding, hidden_size, output_size, enc_layers, n_layers, dropout_p=0.1) -> None:\n",
    "        super().__init__()\n",
    "\n",
    "        self.hidden_size = hidden_size\n",
    "        self.output_size = output_size\n",
    "        self.n_layers = n_layers\n",
    "\n",
    "        self.embedding = embedding\n",
    "        self.embedding_dropout = nn.Dropout(dropout_p)\n",
    "        self.hidden_conv = nn.Linear(2 * enc_layers, n_layers)\n",
    "        torch.nn.init.ones_(self.hidden_conv.weight)\n",
    "\n",
    "        self.gru = nn.GRU(hidden_size, hidden_size, num_layers=n_layers, dropout=dropout_p)\n",
    "        self.attention = LuongAttn(attn_mode, hidden_size)\n",
    "        self.proj = nn.Linear(2 * hidden_size, hidden_size)\n",
    "        self.out_fc = nn.Linear(hidden_size, output_size)\n",
    "\n",
    "    def forward_step(self, step_idx, hidden, encoder_outputs):\n",
    "        embedded = self.embedding(step_idx)\n",
    "        embedded = self.embedding_dropout(embedded)\n",
    "        output, hidden = self.gru(embedded, hidden)\n",
    "        attn_weights = self.attention(output, encoder_outputs)\n",
    "        # (B, 1, T) @ (T, B, H) -> (B, 1, H)\n",
    "        attn_values = torch.bmm(attn_weights, encoder_outputs.transpose(0, 1))\n",
    "\n",
    "        attn_values = attn_values.squeeze(1) # (B, H)\n",
    "        output = output.squeeze(0) # (B, H)\n",
    "        output = torch.cat((output, attn_values), dim=1)\n",
    "        output = F.tanh(self.proj(output)) # (B, 2 * H) -> (B, H)\n",
    "        output = self.out_fc(output)\n",
    "\n",
    "        return output.unsqueeze(0), hidden\n",
    "    \n",
    "    def forward(self, encoder_outputs, encoder_hidden, max_target_len, targets):\n",
    "        batch_size = encoder_hidden.size(1) # (2 * enc_layers, B, H)\n",
    "        decoder_input = torch.LongTensor([[SOS_token for _ in range(batch_size)]]) # (1, B)\n",
    "        # decoder_hidden = encoder_hidden[:self.n_layers] # (2 * enc_layers, B, H) -> (n_layers, B, H)\n",
    "        decoder_hidden = self.hidden_conv(encoder_hidden.permute(2, 1, 0)).permute(2, 1, 0)\n",
    "        outputs = []\n",
    "        for t in range(max_target_len):\n",
    "            decoder_output, decoder_hidden = self.forward_step(decoder_input, decoder_hidden, encoder_outputs)\n",
    "            outputs.append(decoder_output)\n",
    "            if targets is not None:\n",
    "                decoder_input = targets[t].view(1, -1)\n",
    "            else:\n",
    "                _, topi = decoder_output.topk(1, dim=-1)\n",
    "                decoder_input = torch.LongTensor([[topi[0][i][0] for i in range(batch_size)]])\n",
    "        outputs = torch.cat(outputs, dim=0)\n",
    "        outputs = F.softmax(outputs, dim=-1)\n",
    "        return outputs, decoder_hidden"
   ]
  },
  {
   "cell_type": "code",
   "execution_count": 156,
   "metadata": {},
   "outputs": [
    {
     "name": "stdout",
     "output_type": "stream",
     "text": [
      "torch.Size([8, 5, 20]) torch.Size([4, 5, 20])\n"
     ]
    }
   ],
   "source": [
    "hidden_size = 20\n",
    "embedding = nn.Embedding(voc.n_words, hidden_size)\n",
    "encoder = EncoderGru(embedding, hidden_size, n_layers=2)\n",
    "\n",
    "outputs, hidden = encoder(input_variable, lengths)\n",
    "print(outputs.shape, hidden.shape)"
   ]
  },
  {
   "cell_type": "code",
   "execution_count": 157,
   "metadata": {},
   "outputs": [
    {
     "name": "stdout",
     "output_type": "stream",
     "text": [
      "torch.Size([10, 5, 7840]) torch.Size([1, 5, 20]) torch.Size([10, 5, 7840])\n"
     ]
    },
    {
     "name": "stderr",
     "output_type": "stream",
     "text": [
      "/Users/dungminhdang/anaconda3/envs/py39/lib/python3.9/site-packages/torch/nn/modules/rnn.py:83: UserWarning: dropout option adds dropout after all but last recurrent layer, so non-zero dropout expects num_layers greater than 1, but got dropout=0.1 and num_layers=1\n",
      "  warnings.warn(\"dropout option adds dropout after all but last \"\n"
     ]
    }
   ],
   "source": [
    "attn_mode = 'dot'\n",
    "decoder = AttnDecoderGru(attn_mode, embedding, hidden_size, enc_layers=2, n_layers=1, output_size=voc.n_words)\n",
    "decoder_outputs, decoder_hidden = decoder(outputs, hidden, max_target_len, target_variable)\n",
    "print(decoder_outputs.shape, decoder_hidden.shape, decoder_outputs.shape)"
   ]
  },
  {
   "cell_type": "code",
   "execution_count": 158,
   "metadata": {},
   "outputs": [
    {
     "name": "stdout",
     "output_type": "stream",
     "text": [
      "tensor([[1.0000, 1.0000, 1.0000, 1.0000, 1.0000],\n",
      "        [1.0000, 1.0000, 1.0000, 1.0000, 1.0000],\n",
      "        [1.0000, 1.0000, 1.0000, 1.0000, 1.0000],\n",
      "        [1.0000, 1.0000, 1.0000, 1.0000, 1.0000],\n",
      "        [1.0000, 1.0000, 1.0000, 1.0000, 1.0000],\n",
      "        [1.0000, 1.0000, 1.0000, 1.0000, 1.0000],\n",
      "        [1.0000, 1.0000, 1.0000, 1.0000, 1.0000],\n",
      "        [1.0000, 1.0000, 1.0000, 1.0000, 1.0000],\n",
      "        [1.0000, 1.0000, 1.0000, 1.0000, 1.0000],\n",
      "        [1.0000, 1.0000, 1.0000, 1.0000, 1.0000]], grad_fn=<SumBackward1>)\n"
     ]
    }
   ],
   "source": [
    "print(decoder_outputs.sum(dim=-1))"
   ]
  },
  {
   "cell_type": "code",
   "execution_count": 159,
   "metadata": {},
   "outputs": [
    {
     "name": "stdout",
     "output_type": "stream",
     "text": [
      "torch.Size([10, 5, 7840]) torch.Size([1, 5, 20]) torch.Size([10, 5, 7840])\n"
     ]
    },
    {
     "name": "stderr",
     "output_type": "stream",
     "text": [
      "/Users/dungminhdang/anaconda3/envs/py39/lib/python3.9/site-packages/torch/nn/modules/rnn.py:83: UserWarning: dropout option adds dropout after all but last recurrent layer, so non-zero dropout expects num_layers greater than 1, but got dropout=0.1 and num_layers=1\n",
      "  warnings.warn(\"dropout option adds dropout after all but last \"\n"
     ]
    }
   ],
   "source": [
    "attn_mode = 'general'\n",
    "decoder = AttnDecoderGru(attn_mode, embedding, hidden_size, enc_layers=2, n_layers=1, output_size=voc.n_words)\n",
    "decoder_outputs, decoder_hidden = decoder(outputs, hidden, max_target_len, target_variable)\n",
    "print(decoder_outputs.shape, decoder_hidden.shape, decoder_outputs.shape)"
   ]
  },
  {
   "cell_type": "code",
   "execution_count": 160,
   "metadata": {},
   "outputs": [
    {
     "name": "stdout",
     "output_type": "stream",
     "text": [
      "tensor([[1.0000, 1.0000, 1.0000, 1.0000, 1.0000],\n",
      "        [1.0000, 1.0000, 1.0000, 1.0000, 1.0000],\n",
      "        [1.0000, 1.0000, 1.0000, 1.0000, 1.0000],\n",
      "        [1.0000, 1.0000, 1.0000, 1.0000, 1.0000],\n",
      "        [1.0000, 1.0000, 1.0000, 1.0000, 1.0000],\n",
      "        [1.0000, 1.0000, 1.0000, 1.0000, 1.0000],\n",
      "        [1.0000, 1.0000, 1.0000, 1.0000, 1.0000],\n",
      "        [1.0000, 1.0000, 1.0000, 1.0000, 1.0000],\n",
      "        [1.0000, 1.0000, 1.0000, 1.0000, 1.0000],\n",
      "        [1.0000, 1.0000, 1.0000, 1.0000, 1.0000]], grad_fn=<SumBackward1>)\n"
     ]
    }
   ],
   "source": [
    "print(decoder_outputs.sum(dim=-1))"
   ]
  },
  {
   "cell_type": "code",
   "execution_count": 161,
   "metadata": {},
   "outputs": [
    {
     "name": "stdout",
     "output_type": "stream",
     "text": [
      "torch.Size([10, 5, 7840]) torch.Size([1, 5, 20]) torch.Size([10, 5, 7840])\n",
      "tensor([[1.0000, 1.0000, 1.0000, 1.0000, 1.0000],\n",
      "        [1.0000, 1.0000, 1.0000, 1.0000, 1.0000],\n",
      "        [1.0000, 1.0000, 1.0000, 1.0000, 1.0000],\n",
      "        [1.0000, 1.0000, 1.0000, 1.0000, 1.0000],\n",
      "        [1.0000, 1.0000, 1.0000, 1.0000, 1.0000],\n",
      "        [1.0000, 1.0000, 1.0000, 1.0000, 1.0000],\n",
      "        [1.0000, 1.0000, 1.0000, 1.0000, 1.0000],\n",
      "        [1.0000, 1.0000, 1.0000, 1.0000, 1.0000],\n",
      "        [1.0000, 1.0000, 1.0000, 1.0000, 1.0000],\n",
      "        [1.0000, 1.0000, 1.0000, 1.0000, 1.0000]], grad_fn=<SumBackward1>)\n"
     ]
    }
   ],
   "source": [
    "attn_mode = 'concat'\n",
    "decoder = AttnDecoderGru(attn_mode, embedding, hidden_size, enc_layers=2, n_layers=1, output_size=voc.n_words)\n",
    "decoder_outputs, decoder_hidden = decoder(outputs, hidden, max_target_len, target_variable)\n",
    "print(decoder_outputs.shape, decoder_hidden.shape, decoder_outputs.shape)\n",
    "print(decoder_outputs.sum(dim=-1))"
   ]
  },
  {
   "cell_type": "code",
   "execution_count": 162,
   "metadata": {},
   "outputs": [
    {
     "name": "stderr",
     "output_type": "stream",
     "text": [
      "/Users/dungminhdang/anaconda3/envs/py39/lib/python3.9/site-packages/torch/nn/modules/rnn.py:83: UserWarning: dropout option adds dropout after all but last recurrent layer, so non-zero dropout expects num_layers greater than 1, but got dropout=0.1 and num_layers=1\n",
      "  warnings.warn(\"dropout option adds dropout after all but last \"\n"
     ]
    },
    {
     "name": "stdout",
     "output_type": "stream",
     "text": [
      "Iteration: 100; Percent complete: 2.0%; Average loss: 4.5621\n",
      "Iteration: 200; Percent complete: 4.0%; Average loss: 2.9559\n",
      "Iteration: 300; Percent complete: 6.0%; Average loss: 2.8926\n",
      "Iteration: 400; Percent complete: 8.0%; Average loss: 2.7254\n",
      "Iteration: 500; Percent complete: 10.0%; Average loss: 2.6976\n",
      "Iteration: 600; Percent complete: 12.0%; Average loss: 2.7369\n",
      "Iteration: 700; Percent complete: 14.0%; Average loss: 2.6344\n",
      "Iteration: 800; Percent complete: 16.0%; Average loss: 2.6252\n",
      "Iteration: 900; Percent complete: 18.0%; Average loss: 2.5826\n",
      "Iteration: 1000; Percent complete: 20.0%; Average loss: 2.5540\n",
      "Iteration: 1100; Percent complete: 22.0%; Average loss: 2.5176\n",
      "Iteration: 1200; Percent complete: 24.0%; Average loss: 2.5154\n",
      "Iteration: 1300; Percent complete: 26.0%; Average loss: 2.4947\n",
      "Iteration: 1400; Percent complete: 28.0%; Average loss: 2.4704\n",
      "Iteration: 1500; Percent complete: 30.0%; Average loss: 2.4720\n",
      "Iteration: 1600; Percent complete: 32.0%; Average loss: 2.3845\n",
      "Iteration: 1700; Percent complete: 34.0%; Average loss: 2.4695\n",
      "Iteration: 1800; Percent complete: 36.0%; Average loss: 2.3921\n",
      "Iteration: 1900; Percent complete: 38.0%; Average loss: 2.4317\n",
      "Iteration: 2000; Percent complete: 40.0%; Average loss: 2.3689\n",
      "Iteration: 2100; Percent complete: 42.0%; Average loss: 2.3757\n",
      "Iteration: 2200; Percent complete: 44.0%; Average loss: 2.3290\n",
      "Iteration: 2300; Percent complete: 46.0%; Average loss: 2.3023\n",
      "Iteration: 2400; Percent complete: 48.0%; Average loss: 2.3304\n",
      "Iteration: 2500; Percent complete: 50.0%; Average loss: 2.2958\n",
      "Iteration: 2600; Percent complete: 52.0%; Average loss: 2.3362\n",
      "Iteration: 2700; Percent complete: 54.0%; Average loss: 2.3097\n",
      "Iteration: 2800; Percent complete: 56.0%; Average loss: 2.2687\n",
      "Iteration: 2900; Percent complete: 58.0%; Average loss: 2.2778\n",
      "Iteration: 3000; Percent complete: 60.0%; Average loss: 2.2736\n",
      "Iteration: 3100; Percent complete: 62.0%; Average loss: 2.2505\n",
      "Iteration: 3200; Percent complete: 64.0%; Average loss: 2.2302\n",
      "Iteration: 3300; Percent complete: 66.0%; Average loss: 2.2353\n",
      "Iteration: 3400; Percent complete: 68.0%; Average loss: 2.2596\n",
      "Iteration: 3500; Percent complete: 70.0%; Average loss: 2.2333\n",
      "Iteration: 3600; Percent complete: 72.0%; Average loss: 2.2285\n",
      "Iteration: 3700; Percent complete: 74.0%; Average loss: 2.2323\n",
      "Iteration: 3800; Percent complete: 76.0%; Average loss: 2.2433\n",
      "Iteration: 3900; Percent complete: 78.0%; Average loss: 2.2362\n",
      "Iteration: 4000; Percent complete: 80.0%; Average loss: 2.2137\n",
      "Iteration: 4100; Percent complete: 82.0%; Average loss: 2.1914\n",
      "Iteration: 4200; Percent complete: 84.0%; Average loss: 2.1841\n",
      "Iteration: 4300; Percent complete: 86.0%; Average loss: 2.2019\n",
      "Iteration: 4400; Percent complete: 88.0%; Average loss: 2.1766\n",
      "Iteration: 4500; Percent complete: 90.0%; Average loss: 2.1969\n",
      "Iteration: 4600; Percent complete: 92.0%; Average loss: 2.1748\n",
      "Iteration: 4700; Percent complete: 94.0%; Average loss: 2.1750\n",
      "Iteration: 4800; Percent complete: 96.0%; Average loss: 2.1584\n",
      "Iteration: 4900; Percent complete: 98.0%; Average loss: 2.1636\n",
      "Iteration: 5000; Percent complete: 100.0%; Average loss: 2.1547\n"
     ]
    }
   ],
   "source": [
    "hidden_size = 128\n",
    "encoder_n_layers = 1\n",
    "decoder_n_layers = 2\n",
    "dropout = 0.1\n",
    "batch_size = 32\n",
    "attn_mode = 'dot'\n",
    "\n",
    "embedding = nn.Embedding(voc.n_words, hidden_size)\n",
    "encoder = EncoderGru(embedding, hidden_size, encoder_n_layers, dropout)\n",
    "decoder = AttnDecoderGru(attn_mode, embedding, hidden_size, enc_layers=encoder_n_layers,\n",
    "                     n_layers=decoder_n_layers, output_size=voc.n_words, dropout_p=dropout)\n",
    "\n",
    "clip = 50.0\n",
    "teacher_forcing_ratio = 1.0\n",
    "learning_rate = 0.0001\n",
    "decoder_learning_ratio = 5.0\n",
    "n_iteration = 5000\n",
    "print_every = 100\n",
    "\n",
    "embedding.train()\n",
    "encoder.train()\n",
    "decoder.train()\n",
    "\n",
    "embedding_optimizer = torch.optim.Adam(embedding.parameters(), lr=learning_rate)\n",
    "encoder_optimizer = torch.optim.Adam(encoder.parameters(), lr=learning_rate)\n",
    "decoder_optimizer = torch.optim.Adam(decoder.parameters(), lr=learning_rate * decoder_learning_ratio)\n",
    "\n",
    "print_loss = 0\n",
    "all_losses = []\n",
    "\n",
    "for iteration in range(1, n_iteration + 1):\n",
    "    batch_data = batch2TrainData(voc, [random.choice(pairs) for _ in range(batch_size)])\n",
    "    \n",
    "    loss, n_mask = train_batch(batch_data, encoder, decoder, embedding,\n",
    "                encoder_optimizer, decoder_optimizer, embedding_optimizer,\n",
    "                clip, teacher_forcing_ratio)\n",
    "    \n",
    "    all_losses.append(loss)\n",
    "    print_loss += loss\n",
    "\n",
    "    if iteration % print_every == 0:\n",
    "            print_loss_avg = print_loss / print_every\n",
    "            print(\"Iteration: {}; Percent complete: {:.1f}%; Average loss: {:.4f}\".format(iteration, iteration / n_iteration * 100, print_loss_avg))\n",
    "            print_loss = 0"
   ]
  },
  {
   "cell_type": "code",
   "execution_count": 163,
   "metadata": {},
   "outputs": [],
   "source": [
    "import matplotlib.pyplot as plt\n",
    "%matplotlib inline"
   ]
  },
  {
   "cell_type": "code",
   "execution_count": 164,
   "metadata": {},
   "outputs": [
    {
     "data": {
      "text/plain": [
       "[<matplotlib.lines.Line2D at 0x3b6bc1760>]"
      ]
     },
     "execution_count": 164,
     "metadata": {},
     "output_type": "execute_result"
    },
    {
     "data": {
      "image/png": "[encoded data removed]",
      "text/plain": [
       "<Figure size 640x480 with 1 Axes>"
      ]
     },
     "metadata": {},
     "output_type": "display_data"
    }
   ],
   "source": [
    "plt.plot(all_losses)"
   ]
  },
  {
   "cell_type": "code",
   "execution_count": 165,
   "metadata": {},
   "outputs": [
    {
     "data": {
      "text/plain": [
       "['i', 'm', 'not', 'going', 'to', 'go', '.', '<EOS>', '<PAD>', '<PAD>']"
      ]
     },
     "execution_count": 165,
     "metadata": {},
     "output_type": "execute_result"
    }
   ],
   "source": [
    "evalModel = EvaluateMode(encoder, decoder)\n",
    "evalModel.eval()\n",
    "\n",
    "\n",
    "evalModel.evaluate(voc, \"to do\")"
   ]
  },
  {
   "cell_type": "code",
   "execution_count": 166,
   "metadata": {},
   "outputs": [
    {
     "name": "stdout",
     "output_type": "stream",
     "text": [
      "> yea art thou there ?\n",
      "= put more into it !\n",
      ">> i m not a little . <EOS> <PAD> <PAD> <PAD>\n",
      "> she needed it .\n",
      "= a tip ! for the housekeeper !\n",
      ">> i m not going to go . <EOS> <PAD> <PAD>\n",
      "> how about that .\n",
      "= mmmm . you have children ?\n",
      ">> i m not going to be . <EOS> <PAD> <PAD>\n",
      "> yeah .\n",
      "= god ! unbelievable . vampires .\n",
      ">> you re not going to be here . <EOS> <PAD>\n",
      "> any minute now .\n",
      "= it s show time . don t look at\n",
      ">> i m not going to be . <EOS> <PAD> <PAD>\n",
      "> that s not why he s sending me .\n",
      "= why then .\n",
      ">> i m not going to go . <EOS> <PAD> <PAD>\n",
      "> a lot that means .\n",
      "= grace tell him .\n",
      ">> what ? <EOS> <PAD> <PAD> <PAD> <PAD> <PAD> <PAD> <PAD>\n",
      "> stop it .\n",
      "= i swear .\n",
      ">> what ? <EOS> <PAD> <PAD> <PAD> <PAD> <PAD> <PAD> <PAD>\n",
      "> well we ll have breakfast in the garden .\n",
      "= um hum . . .\n",
      ">> i m not going to go . <EOS> <PAD> <PAD>\n",
      "> we ll be there .\n",
      "= goodnight .\n",
      ">> i m not going to be . <EOS> <PAD> <PAD>\n"
     ]
    }
   ],
   "source": [
    "\n",
    "eval_batch = [random.choice(pairs) for _ in range(10)]\n",
    "\n",
    "for pair in eval_batch:\n",
    "    generated = ' '.join(evalModel.evaluate(voc, pair[0]))\n",
    "    print(f\"> {pair[0]}\")\n",
    "    print(f\"= {pair[1]}\")\n",
    "    print(f\">> {generated}\")\n"
   ]
  },
  {
   "cell_type": "code",
   "execution_count": 168,
   "metadata": {},
   "outputs": [
    {
     "name": "stdout",
     "output_type": "stream",
     "text": [
      "Iteration: 200; Percent complete: 4.0%; Average loss: 3.4260\n",
      "Iteration: 400; Percent complete: 8.0%; Average loss: 2.7270\n",
      "Iteration: 600; Percent complete: 12.0%; Average loss: 2.6025\n",
      "Iteration: 800; Percent complete: 16.0%; Average loss: 2.5226\n",
      "Iteration: 1000; Percent complete: 20.0%; Average loss: 2.4298\n",
      "Iteration: 1200; Percent complete: 24.0%; Average loss: 2.3901\n",
      "Iteration: 1400; Percent complete: 28.0%; Average loss: 2.3267\n",
      "Iteration: 1600; Percent complete: 32.0%; Average loss: 2.2926\n",
      "Iteration: 1800; Percent complete: 36.0%; Average loss: 2.2949\n",
      "Iteration: 2000; Percent complete: 40.0%; Average loss: 2.2915\n",
      "Iteration: 2200; Percent complete: 44.0%; Average loss: 2.2425\n",
      "Iteration: 2400; Percent complete: 48.0%; Average loss: 2.2368\n",
      "Iteration: 2600; Percent complete: 52.0%; Average loss: 2.1852\n",
      "Iteration: 2800; Percent complete: 56.0%; Average loss: 2.1792\n",
      "Iteration: 3000; Percent complete: 60.0%; Average loss: 2.1514\n",
      "Iteration: 3200; Percent complete: 64.0%; Average loss: 2.1220\n",
      "Iteration: 3400; Percent complete: 68.0%; Average loss: 2.1241\n",
      "Iteration: 3600; Percent complete: 72.0%; Average loss: 2.0953\n",
      "Iteration: 3800; Percent complete: 76.0%; Average loss: 2.0793\n",
      "Iteration: 4000; Percent complete: 80.0%; Average loss: 2.0871\n",
      "Iteration: 4200; Percent complete: 84.0%; Average loss: 2.0540\n",
      "Iteration: 4400; Percent complete: 88.0%; Average loss: 2.0760\n",
      "Iteration: 4600; Percent complete: 92.0%; Average loss: 2.0344\n",
      "Iteration: 4800; Percent complete: 96.0%; Average loss: 2.0508\n",
      "Iteration: 5000; Percent complete: 100.0%; Average loss: 2.0103\n"
     ]
    }
   ],
   "source": [
    "hidden_size = 256\n",
    "encoder_n_layers = 2\n",
    "decoder_n_layers = 3\n",
    "dropout = 0.1\n",
    "batch_size = 32\n",
    "attn_mode = 'general'\n",
    "\n",
    "embedding = nn.Embedding(voc.n_words, hidden_size)\n",
    "encoder = EncoderGru(embedding, hidden_size, encoder_n_layers, dropout)\n",
    "decoder = AttnDecoderGru(attn_mode, embedding, hidden_size, enc_layers=encoder_n_layers,\n",
    "                     n_layers=decoder_n_layers, output_size=voc.n_words, dropout_p=dropout)\n",
    "\n",
    "clip = 50.0\n",
    "teacher_forcing_ratio = 1.0\n",
    "learning_rate = 0.0001\n",
    "decoder_learning_ratio = 5.0\n",
    "n_iteration = 5000\n",
    "print_every = 200\n",
    "\n",
    "embedding.train()\n",
    "encoder.train()\n",
    "decoder.train()\n",
    "\n",
    "embedding_optimizer = torch.optim.Adam(embedding.parameters(), lr=learning_rate)\n",
    "encoder_optimizer = torch.optim.Adam(encoder.parameters(), lr=learning_rate)\n",
    "decoder_optimizer = torch.optim.Adam(decoder.parameters(), lr=learning_rate * decoder_learning_ratio)\n",
    "\n",
    "print_loss = 0\n",
    "all_losses = []\n",
    "\n",
    "for iteration in range(1, n_iteration + 1):\n",
    "    batch_data = batch2TrainData(voc, [random.choice(pairs) for _ in range(batch_size)])\n",
    "    \n",
    "    loss, n_mask = train_batch(batch_data, encoder, decoder, embedding,\n",
    "                encoder_optimizer, decoder_optimizer, embedding_optimizer,\n",
    "                clip, teacher_forcing_ratio)\n",
    "    \n",
    "    all_losses.append(loss)\n",
    "    print_loss += loss\n",
    "\n",
    "    if iteration % print_every == 0:\n",
    "            print_loss_avg = print_loss / print_every\n",
    "            print(\"Iteration: {}; Percent complete: {:.1f}%; Average loss: {:.4f}\".format(iteration, iteration / n_iteration * 100, print_loss_avg))\n",
    "            print_loss = 0"
   ]
  },
  {
   "cell_type": "code",
   "execution_count": 169,
   "metadata": {},
   "outputs": [
    {
     "name": "stdout",
     "output_type": "stream",
     "text": [
      "====================\n",
      "> don t be ridiculous .\n",
      "= i have your word mister president ?\n",
      ">> i m sorry . <EOS> <PAD> <PAD> <PAD> <PAD> <PAD>\n",
      "====================\n",
      "> shes your dog jack .\n",
      "= no shes not .\n",
      ">> what ? <EOS> <PAD> <PAD> <PAD> <PAD> <PAD> <PAD> <PAD>\n",
      "====================\n",
      "> i don t know . . .\n",
      "= i want his name .\n",
      ">> i don t know . <EOS> <PAD> <PAD> <PAD> <PAD>\n",
      "====================\n",
      "> yeah but where s the third guy ?\n",
      "= not in the bedroom . do it !\n",
      ">> i don t know . <EOS> <PAD> <PAD> <PAD> <PAD>\n",
      "====================\n",
      "> bye .\n",
      "= bye .\n",
      ">> hi . <EOS> <PAD> <PAD> <PAD> <PAD> <PAD> <PAD> <PAD>\n",
      "====================\n",
      "> i m not myself since i stopped smoking .\n",
      "= oh when d you quit smoking ?\n",
      ">> what ? <EOS> <PAD> <PAD> <PAD> <PAD> <PAD> <PAD> <PAD>\n",
      "====================\n",
      "> somebody hit you ?\n",
      "= it s not what you think .\n",
      ">> yeah . <EOS> <PAD> <PAD> <PAD> <PAD> <PAD> <PAD> <PAD>\n",
      "====================\n",
      "> what s in here then lead ?\n",
      "= it s my mother s piano .\n",
      ">> i don t know . <EOS> <PAD> <PAD> <PAD> <PAD>\n",
      "====================\n",
      "> yeah i crash there .\n",
      "= yeah good .\n",
      ">> you re not a good man . <EOS> <PAD> <PAD>\n",
      "====================\n",
      "> alright !\n",
      "= could take a little while though .\n",
      ">> i m sorry . <EOS> <PAD> <PAD> <PAD> <PAD> <PAD>\n"
     ]
    }
   ],
   "source": [
    "evalModel = EvaluateMode(encoder, decoder)\n",
    "evalModel.eval()\n",
    "\n",
    "eval_batch = [random.choice(pairs) for _ in range(10)]\n",
    "\n",
    "for pair in eval_batch:\n",
    "    generated = ' '.join(evalModel.evaluate(voc, pair[0]))\n",
    "    print(\"====================\")\n",
    "    print(f\"> {pair[0]}\")\n",
    "    print(f\"= {pair[1]}\")\n",
    "    print(f\">> {generated}\")"
   ]
  },
  {
   "cell_type": "code",
   "execution_count": 170,
   "metadata": {},
   "outputs": [
    {
     "data": {
      "text/plain": [
       "[<matplotlib.lines.Line2D at 0x3bfdbe670>]"
      ]
     },
     "execution_count": 170,
     "metadata": {},
     "output_type": "execute_result"
    },
    {
     "data": {
      "image/png": "[encoded data removed]",
      "text/plain": [
       "<Figure size 640x480 with 1 Axes>"
      ]
     },
     "metadata": {},
     "output_type": "display_data"
    }
   ],
   "source": [
    "plt.plot(all_losses)"
   ]
  },
  {
   "cell_type": "code",
   "execution_count": null,
   "metadata": {},
   "outputs": [],
   "source": []
  }
 ],
 "metadata": {
  "kernelspec": {
   "display_name": "py39",
   "language": "python",
   "name": "python3"
  },
  "language_info": {
   "codemirror_mode": {
    "name": "ipython",
    "version": 3
   },
   "file_extension": ".py",
   "mimetype": "text/x-python",
   "name": "python",
   "nbconvert_exporter": "python",
   "pygments_lexer": "ipython3",
   "version": "3.9.19"
  }
 },
 "nbformat": 4,
 "nbformat_minor": 2
}
